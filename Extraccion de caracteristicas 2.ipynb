{
 "cells": [
  {
   "cell_type": "markdown",
   "id": "89668beb",
   "metadata": {},
   "source": [
    "# Dog vs Cat\n",
    "\n",
    "## Extracción de características 2\n",
    "\n",
    "Importamos algunas librerías que vamos a utilizar"
   ]
  },
  {
   "cell_type": "code",
   "execution_count": 83,
   "id": "42155d68",
   "metadata": {},
   "outputs": [],
   "source": [
    "import numpy as np\n",
    "import cv2\n",
    "from tqdm import tqdm\n",
    "from sklearn.model_selection import train_test_split\n",
    "import matplotlib.pyplot as plt "
   ]
  },
  {
   "cell_type": "markdown",
   "id": "31d59116",
   "metadata": {},
   "source": [
    "Instalamos tensorflow si no lo tenemos instalado anteriormente"
   ]
  },
  {
   "cell_type": "code",
   "execution_count": 84,
   "id": "a8f288a5",
   "metadata": {
    "collapsed": true
   },
   "outputs": [
    {
     "name": "stdout",
     "output_type": "stream",
     "text": [
      "Requirement already satisfied: tensorflow in c:\\users\\darkteufel\\anaconda3\\envs\\py38ml\\lib\\site-packages (2.11.0)\n",
      "Requirement already satisfied: tensorflow-intel==2.11.0 in c:\\users\\darkteufel\\anaconda3\\envs\\py38ml\\lib\\site-packages (from tensorflow) (2.11.0)\n",
      "Requirement already satisfied: gast<=0.4.0,>=0.2.1 in c:\\users\\darkteufel\\anaconda3\\envs\\py38ml\\lib\\site-packages (from tensorflow-intel==2.11.0->tensorflow) (0.4.0)\n",
      "Requirement already satisfied: google-pasta>=0.1.1 in c:\\users\\darkteufel\\anaconda3\\envs\\py38ml\\lib\\site-packages (from tensorflow-intel==2.11.0->tensorflow) (0.2.0)\n",
      "Requirement already satisfied: h5py>=2.9.0 in c:\\users\\darkteufel\\anaconda3\\envs\\py38ml\\lib\\site-packages (from tensorflow-intel==2.11.0->tensorflow) (3.7.0)\n",
      "Requirement already satisfied: termcolor>=1.1.0 in c:\\users\\darkteufel\\anaconda3\\envs\\py38ml\\lib\\site-packages (from tensorflow-intel==2.11.0->tensorflow) (2.1.1)\n",
      "Requirement already satisfied: opt-einsum>=2.3.2 in c:\\users\\darkteufel\\anaconda3\\envs\\py38ml\\lib\\site-packages (from tensorflow-intel==2.11.0->tensorflow) (3.3.0)\n",
      "Requirement already satisfied: setuptools in c:\\users\\darkteufel\\anaconda3\\envs\\py38ml\\lib\\site-packages (from tensorflow-intel==2.11.0->tensorflow) (59.8.0)\n",
      "Requirement already satisfied: tensorflow-estimator<2.12,>=2.11.0 in c:\\users\\darkteufel\\anaconda3\\envs\\py38ml\\lib\\site-packages (from tensorflow-intel==2.11.0->tensorflow) (2.11.0)\n",
      "Requirement already satisfied: six>=1.12.0 in c:\\users\\darkteufel\\anaconda3\\envs\\py38ml\\lib\\site-packages (from tensorflow-intel==2.11.0->tensorflow) (1.16.0)\n",
      "Requirement already satisfied: tensorflow-io-gcs-filesystem>=0.23.1 in c:\\users\\darkteufel\\anaconda3\\envs\\py38ml\\lib\\site-packages (from tensorflow-intel==2.11.0->tensorflow) (0.28.0)\n",
      "Requirement already satisfied: keras<2.12,>=2.11.0 in c:\\users\\darkteufel\\anaconda3\\envs\\py38ml\\lib\\site-packages (from tensorflow-intel==2.11.0->tensorflow) (2.11.0)\n",
      "Requirement already satisfied: flatbuffers>=2.0 in c:\\users\\darkteufel\\anaconda3\\envs\\py38ml\\lib\\site-packages (from tensorflow-intel==2.11.0->tensorflow) (22.11.23)\n",
      "Requirement already satisfied: protobuf<3.20,>=3.9.2 in c:\\users\\darkteufel\\anaconda3\\envs\\py38ml\\lib\\site-packages (from tensorflow-intel==2.11.0->tensorflow) (3.19.6)\n",
      "Requirement already satisfied: astunparse>=1.6.0 in c:\\users\\darkteufel\\anaconda3\\envs\\py38ml\\lib\\site-packages (from tensorflow-intel==2.11.0->tensorflow) (1.6.3)\n",
      "Requirement already satisfied: packaging in c:\\users\\darkteufel\\anaconda3\\envs\\py38ml\\lib\\site-packages (from tensorflow-intel==2.11.0->tensorflow) (21.3)\n",
      "Requirement already satisfied: numpy>=1.20 in c:\\users\\darkteufel\\anaconda3\\envs\\py38ml\\lib\\site-packages (from tensorflow-intel==2.11.0->tensorflow) (1.21.1)\n",
      "Requirement already satisfied: libclang>=13.0.0 in c:\\users\\darkteufel\\anaconda3\\envs\\py38ml\\lib\\site-packages (from tensorflow-intel==2.11.0->tensorflow) (14.0.6)\n",
      "Requirement already satisfied: grpcio<2.0,>=1.24.3 in c:\\users\\darkteufel\\anaconda3\\envs\\py38ml\\lib\\site-packages (from tensorflow-intel==2.11.0->tensorflow) (1.51.1)\n",
      "Requirement already satisfied: tensorboard<2.12,>=2.11 in c:\\users\\darkteufel\\anaconda3\\envs\\py38ml\\lib\\site-packages (from tensorflow-intel==2.11.0->tensorflow) (2.11.0)\n",
      "Requirement already satisfied: typing-extensions>=3.6.6 in c:\\users\\darkteufel\\anaconda3\\envs\\py38ml\\lib\\site-packages (from tensorflow-intel==2.11.0->tensorflow) (4.4.0)\n",
      "Requirement already satisfied: absl-py>=1.0.0 in c:\\users\\darkteufel\\anaconda3\\envs\\py38ml\\lib\\site-packages (from tensorflow-intel==2.11.0->tensorflow) (1.3.0)\n",
      "Requirement already satisfied: wrapt>=1.11.0 in c:\\users\\darkteufel\\anaconda3\\envs\\py38ml\\lib\\site-packages (from tensorflow-intel==2.11.0->tensorflow) (1.14.1)\n",
      "Requirement already satisfied: wheel<1.0,>=0.23.0 in c:\\users\\darkteufel\\anaconda3\\envs\\py38ml\\lib\\site-packages (from astunparse>=1.6.0->tensorflow-intel==2.11.0->tensorflow) (0.38.4)\n",
      "Requirement already satisfied: tensorboard-plugin-wit>=1.6.0 in c:\\users\\darkteufel\\anaconda3\\envs\\py38ml\\lib\\site-packages (from tensorboard<2.12,>=2.11->tensorflow-intel==2.11.0->tensorflow) (1.8.1)\n",
      "Requirement already satisfied: werkzeug>=1.0.1 in c:\\users\\darkteufel\\anaconda3\\envs\\py38ml\\lib\\site-packages (from tensorboard<2.12,>=2.11->tensorflow-intel==2.11.0->tensorflow) (2.2.2)\n",
      "Requirement already satisfied: requests<3,>=2.21.0 in c:\\users\\darkteufel\\anaconda3\\envs\\py38ml\\lib\\site-packages (from tensorboard<2.12,>=2.11->tensorflow-intel==2.11.0->tensorflow) (2.28.1)\n",
      "Requirement already satisfied: google-auth-oauthlib<0.5,>=0.4.1 in c:\\users\\darkteufel\\anaconda3\\envs\\py38ml\\lib\\site-packages (from tensorboard<2.12,>=2.11->tensorflow-intel==2.11.0->tensorflow) (0.4.6)\n",
      "Requirement already satisfied: tensorboard-data-server<0.7.0,>=0.6.0 in c:\\users\\darkteufel\\anaconda3\\envs\\py38ml\\lib\\site-packages (from tensorboard<2.12,>=2.11->tensorflow-intel==2.11.0->tensorflow) (0.6.1)\n",
      "Requirement already satisfied: google-auth<3,>=1.6.3 in c:\\users\\darkteufel\\anaconda3\\envs\\py38ml\\lib\\site-packages (from tensorboard<2.12,>=2.11->tensorflow-intel==2.11.0->tensorflow) (2.15.0)\n",
      "Requirement already satisfied: markdown>=2.6.8 in c:\\users\\darkteufel\\anaconda3\\envs\\py38ml\\lib\\site-packages (from tensorboard<2.12,>=2.11->tensorflow-intel==2.11.0->tensorflow) (3.4.1)\n",
      "Requirement already satisfied: pyasn1-modules>=0.2.1 in c:\\users\\darkteufel\\anaconda3\\envs\\py38ml\\lib\\site-packages (from google-auth<3,>=1.6.3->tensorboard<2.12,>=2.11->tensorflow-intel==2.11.0->tensorflow) (0.2.8)\n",
      "Requirement already satisfied: cachetools<6.0,>=2.0.0 in c:\\users\\darkteufel\\anaconda3\\envs\\py38ml\\lib\\site-packages (from google-auth<3,>=1.6.3->tensorboard<2.12,>=2.11->tensorflow-intel==2.11.0->tensorflow) (5.2.0)\n",
      "Requirement already satisfied: rsa<5,>=3.1.4 in c:\\users\\darkteufel\\anaconda3\\envs\\py38ml\\lib\\site-packages (from google-auth<3,>=1.6.3->tensorboard<2.12,>=2.11->tensorflow-intel==2.11.0->tensorflow) (4.9)\n",
      "Requirement already satisfied: requests-oauthlib>=0.7.0 in c:\\users\\darkteufel\\anaconda3\\envs\\py38ml\\lib\\site-packages (from google-auth-oauthlib<0.5,>=0.4.1->tensorboard<2.12,>=2.11->tensorflow-intel==2.11.0->tensorflow) (1.3.1)\n",
      "Requirement already satisfied: importlib-metadata>=4.4 in c:\\users\\darkteufel\\anaconda3\\envs\\py38ml\\lib\\site-packages (from markdown>=2.6.8->tensorboard<2.12,>=2.11->tensorflow-intel==2.11.0->tensorflow) (5.0.0)\n",
      "Requirement already satisfied: zipp>=0.5 in c:\\users\\darkteufel\\anaconda3\\envs\\py38ml\\lib\\site-packages (from importlib-metadata>=4.4->markdown>=2.6.8->tensorboard<2.12,>=2.11->tensorflow-intel==2.11.0->tensorflow) (3.10.0)\n",
      "Requirement already satisfied: pyasn1<0.5.0,>=0.4.6 in c:\\users\\darkteufel\\anaconda3\\envs\\py38ml\\lib\\site-packages (from pyasn1-modules>=0.2.1->google-auth<3,>=1.6.3->tensorboard<2.12,>=2.11->tensorflow-intel==2.11.0->tensorflow) (0.4.8)\n",
      "Requirement already satisfied: urllib3<1.27,>=1.21.1 in c:\\users\\darkteufel\\anaconda3\\envs\\py38ml\\lib\\site-packages (from requests<3,>=2.21.0->tensorboard<2.12,>=2.11->tensorflow-intel==2.11.0->tensorflow) (1.26.11)\n",
      "Requirement already satisfied: idna<4,>=2.5 in c:\\users\\darkteufel\\anaconda3\\envs\\py38ml\\lib\\site-packages (from requests<3,>=2.21.0->tensorboard<2.12,>=2.11->tensorflow-intel==2.11.0->tensorflow) (3.4)\n",
      "Requirement already satisfied: certifi>=2017.4.17 in c:\\users\\darkteufel\\anaconda3\\envs\\py38ml\\lib\\site-packages (from requests<3,>=2.21.0->tensorboard<2.12,>=2.11->tensorflow-intel==2.11.0->tensorflow) (2022.9.24)\n",
      "Requirement already satisfied: charset-normalizer<3,>=2 in c:\\users\\darkteufel\\anaconda3\\envs\\py38ml\\lib\\site-packages (from requests<3,>=2.21.0->tensorboard<2.12,>=2.11->tensorflow-intel==2.11.0->tensorflow) (2.1.1)\n",
      "Requirement already satisfied: oauthlib>=3.0.0 in c:\\users\\darkteufel\\anaconda3\\envs\\py38ml\\lib\\site-packages (from requests-oauthlib>=0.7.0->google-auth-oauthlib<0.5,>=0.4.1->tensorboard<2.12,>=2.11->tensorflow-intel==2.11.0->tensorflow) (3.2.2)\n",
      "Requirement already satisfied: MarkupSafe>=2.1.1 in c:\\users\\darkteufel\\anaconda3\\envs\\py38ml\\lib\\site-packages (from werkzeug>=1.0.1->tensorboard<2.12,>=2.11->tensorflow-intel==2.11.0->tensorflow) (2.1.1)\n",
      "Requirement already satisfied: pyparsing!=3.0.5,>=2.0.2 in c:\\users\\darkteufel\\anaconda3\\envs\\py38ml\\lib\\site-packages (from packaging->tensorflow-intel==2.11.0->tensorflow) (3.0.9)\n"
     ]
    }
   ],
   "source": [
    "!pip install tensorflow"
   ]
  },
  {
   "cell_type": "markdown",
   "id": "6c012e9d",
   "metadata": {},
   "source": [
    "Inicializamos variables\n",
    "\n",
    "En este caso utilizaremos el dataset `cat_dog_100` pero en cualquier momento se puede cambiar"
   ]
  },
  {
   "cell_type": "code",
   "execution_count": 85,
   "id": "5e7e4c1b",
   "metadata": {},
   "outputs": [],
   "source": [
    "rutaDogsTrain = 'cat_dog_100/train/dog'\n",
    "rutaDogsTest = 'cat_dog_100/test/dog'\n",
    "rutaCatsTrain = 'cat_dog_100/train/cat'\n",
    "rutaCatsTest = 'cat_dog_100/test/cat'\n",
    "\n",
    "tamanoMax = 256 \n",
    "sizeVentana = 16\n",
    "tamanoMax = int(tamanoMax/sizeVentana)*sizeVentana"
   ]
  },
  {
   "cell_type": "markdown",
   "id": "3950c2d0",
   "metadata": {},
   "source": [
    "Se recorren los directorios para obtener los nombres de las imágenes"
   ]
  },
  {
   "cell_type": "code",
   "execution_count": 86,
   "id": "1648a6fc",
   "metadata": {},
   "outputs": [
    {
     "name": "stdout",
     "output_type": "stream",
     "text": [
      "cat_dog_100/train/dog/dog.10000.jpg\n"
     ]
    }
   ],
   "source": [
    "from os import walk\n",
    "\n",
    "dogTrain = []\n",
    "dogTest = []\n",
    "catTest = []\n",
    "catTrain = []\n",
    "for (dirpath, dirnames, filenames) in walk(rutaDogsTrain):\n",
    "    dogTrain.extend(filenames)\n",
    "    \n",
    "for (dirpath, dirnames, filenames) in walk(rutaDogsTest):\n",
    "    dogTest.extend(filenames)\n",
    "\n",
    "for (dirpath, dirnames, filenames) in walk(rutaCatsTest):\n",
    "    catTest.extend(filenames)\n",
    "\n",
    "for (dirpath, dirnames, filenames) in walk(rutaCatsTrain):\n",
    "    catTrain.extend(filenames)\n",
    "    \n",
    "print(f'{rutaDogsTrain}/{dogTrain[0]}')"
   ]
  },
  {
   "cell_type": "markdown",
   "id": "58712a53",
   "metadata": {},
   "source": [
    "La función `resize_image` redimensiona la imagen en *tamanoMax x tamanoMax*.\n",
    "\n",
    "Probaremos a recortar la imagen para no deformarlas y así comprobar si obtenemos un mejor resultado."
   ]
  },
  {
   "cell_type": "code",
   "execution_count": 87,
   "id": "79b29067",
   "metadata": {},
   "outputs": [],
   "source": [
    "def recorta_imagen(imagen, n):\n",
    "    \"\"\"\n",
    "    Esta función recibe una imagen y un tamaño n y recorta la imagen de tal manera que el número final de filas/columnas \n",
    "    sea múltiplo de n. La funció debe recortar las filas de la derecha/abajo.\n",
    "    \"\"\"\n",
    "    size = np.min([int(imagen.shape[0]/n)*n, int(imagen.shape[1]/n)*n])\n",
    "    return imagen[:size, :size]\n",
    "\n",
    "def resize_image(imagen, sizeVentana, tamanoMax, recorta=False):\n",
    "    if(recorta): imagen = recorta_imagen(imagen, sizeVentana)\n",
    "    imagen2 = cv2.resize(imagen, [tamanoMax,tamanoMax])\n",
    "    return imagen2"
   ]
  },
  {
   "cell_type": "markdown",
   "id": "50a87dd8",
   "metadata": {},
   "source": [
    "Función para aplicar un filtro"
   ]
  },
  {
   "cell_type": "code",
   "execution_count": 88,
   "id": "79703d30",
   "metadata": {},
   "outputs": [],
   "source": [
    "def filtro(imagen, mascara):\n",
    "    a = mascara.shape[0]//2\n",
    "    b = mascara.shape[1]//2\n",
    "    imagen_ampliada = cv2.copyMakeBorder(imagen, a, a, b, b, cv2.BORDER_REPLICATE)\n",
    "    imagen2 = np.zeros(imagen.shape)\n",
    "    for i in range(a, imagen.shape[0] + a):\n",
    "        for j in range(b, imagen.shape[1] + b):\n",
    "            imagen2[i-a, j-b] = np.sum(imagen_ampliada[i-a:i+a+1, j-b:j+b+1] * mascara)\n",
    "            \n",
    "    return imagen2"
   ]
  },
  {
   "cell_type": "markdown",
   "id": "cece1661",
   "metadata": {},
   "source": [
    "Función para aplicar un filtro espacial de aproximación de la derivada parcial y obtenemos Phi y E"
   ]
  },
  {
   "cell_type": "code",
   "execution_count": 89,
   "id": "3cc49f0a",
   "metadata": {},
   "outputs": [],
   "source": [
    "def gradiente(imagen):\n",
    "    m_g_x = np.array([[0, -1, 0], [0, 0, 0], [0, 1, 0]])\n",
    "    m_g_y = np.array([[0, 0, 0], [-1, 0, 1], [0, 0, 0]])\n",
    "    Ix = filtro(imagen, m_g_x)\n",
    "    Iy = filtro(imagen, m_g_y)\n",
    "    E = np.sqrt(Ix**2 + Iy**2)\n",
    "    Phi = np.rad2deg(np.arctan2(Iy, Ix))\n",
    "    \n",
    "    return E, Phi"
   ]
  },
  {
   "cell_type": "markdown",
   "id": "732adfcb",
   "metadata": {},
   "source": [
    "La función `transforma_imagen` divide en celdas de tamaños sizeVentana y contruimos un histograma para cada celda en función de Phi y E "
   ]
  },
  {
   "cell_type": "code",
   "execution_count": 90,
   "id": "36b00274",
   "metadata": {},
   "outputs": [],
   "source": [
    "def transforma_bloque(celdaPhi, celdaE, bins = 9):\n",
    "    celdaPhi = np.abs(celdaPhi)\n",
    "    hp = cv2.calcHist([np.uint8(celdaPhi)], [0], None, [bins], [0, 180])\n",
    "    a = 180/bins \n",
    "    for i in range(bins):\n",
    "        hp[i] += np.sum(celdaE[(celdaPhi > a*i) & (celdaPhi < -a*(i+1))])\n",
    "    hp = hp / np.sqrt(np.sum(hp**2)) #Normalizar\n",
    "    return np.ravel(hp)"
   ]
  },
  {
   "cell_type": "code",
   "execution_count": 127,
   "id": "acb14469",
   "metadata": {},
   "outputs": [],
   "source": [
    "def transforma_imagen(imagen, sizeVentana, tamanoMax):\n",
    "    E, Phi = gradiente(imagen)\n",
    "    Phi = resize_image(Phi, sizeVentana, tamanoMax, False)  \n",
    "    E = resize_image(E, sizeVentana, tamanoMax, False) \n",
    "    caracteristicas = []\n",
    "    a = int(Phi.shape[0]/sizeVentana)\n",
    "    for i in range(a):\n",
    "        for j in range(a):\n",
    "            celdaPhi = Phi[i*sizeVentana:(i+1)*sizeVentana,j*sizeVentana:(j+1)*sizeVentana]\n",
    "            celdaE = E[i*sizeVentana:(i+1)*sizeVentana,j*sizeVentana:(j+1)*sizeVentana]\n",
    "            h = transforma_bloque(celdaPhi, celdaE, 8)  \n",
    "            caracteristicas.append(h)\n",
    "    return np.concatenate(caracteristicas)"
   ]
  },
  {
   "cell_type": "markdown",
   "id": "4aa2686e",
   "metadata": {},
   "source": [
    "Extraemos las características de nuestro conjunto de imágenes (Train y Test)"
   ]
  },
  {
   "cell_type": "code",
   "execution_count": 128,
   "id": "44cc5cca",
   "metadata": {},
   "outputs": [
    {
     "name": "stderr",
     "output_type": "stream",
     "text": [
      "Perros: 100%|\u001b[38;2;255;136;248m████████████████████████████████████████████████████████████████████████\u001b[0m| 100/100 [05:42<00:00,  3.42s/it]\u001b[0m\n",
      "Gatos: 100%|\u001b[38;2;136;255;221m█████████████████████████████████████████████████████████████████████████\u001b[0m| 100/100 [05:18<00:00,  3.19s/it]\u001b[0m\n"
     ]
    }
   ],
   "source": [
    "X = []\n",
    "m = 2\n",
    "for i in tqdm(range(len(dogTrain)), desc = \"Perros\", colour = '#FF88F8'):\n",
    "    imagen = cv2.imread(f'{rutaDogsTrain}/{dogTrain[i]}',0)\n",
    "    caracteristicas = transforma_imagen(imagen, sizeVentana, tamanoMax)\n",
    "    X.append(caracteristicas)\n",
    "\n",
    "for i in tqdm(range(len(catTrain)), desc = \"Gatos\", colour = '#88FFDD'):\n",
    "    imagen = cv2.imread(f'{rutaCatsTrain}/{catTrain[i]}',0)\n",
    "    caracteristicas = transforma_imagen(imagen, sizeVentana, tamanoMax)\n",
    "    X.append(caracteristicas)\n",
    "    \n",
    "X = np.array(X)\n",
    "y = np.hstack((np.ones(len(dogTrain)), np.zeros(len(catTrain)))).reshape(-1, 1)\n"
   ]
  },
  {
   "cell_type": "code",
   "execution_count": 129,
   "id": "4bcef508",
   "metadata": {},
   "outputs": [
    {
     "name": "stderr",
     "output_type": "stream",
     "text": [
      "Perros Test: 100%|\u001b[38;2;255;136;187m█████████████████████████████████████████████████████████████████████\u001b[0m| 20/20 [01:09<00:00,  3.49s/it]\u001b[0m\n",
      "Gatos Test: 100%|\u001b[38;2;136;255;224m██████████████████████████████████████████████████████████████████████\u001b[0m| 20/20 [01:02<00:00,  3.12s/it]\u001b[0m\n"
     ]
    }
   ],
   "source": [
    "Xtest = []\n",
    "for i in tqdm(range(len(dogTest)), desc = \"Perros Test\", colour = '#FF88BB'):\n",
    "    imagen = cv2.imread(f'{rutaDogsTest}/{dogTest[i]}',0)\n",
    "    caracteristicas = transforma_imagen(imagen, sizeVentana, tamanoMax)\n",
    "    Xtest.append(caracteristicas)\n",
    "\n",
    "for i in tqdm(range(len(catTest)), desc = \"Gatos Test\", colour = '#88FFE0'):\n",
    "    imagen = cv2.imread(f'{rutaCatsTest}/{catTest[i]}',0)\n",
    "    caracteristicas = transforma_imagen(imagen, sizeVentana, tamanoMax)\n",
    "    Xtest.append(caracteristicas)\n",
    "    \n",
    "Xtest = np.array(Xtest)\n",
    "ytest = np.hstack((np.ones(len(dogTest)), np.zeros(len(catTest)))).reshape(-1, 1)"
   ]
  },
  {
   "cell_type": "markdown",
   "id": "22f9985a",
   "metadata": {},
   "source": [
    "Particionamos el conjunto de datos para obtener el conjunto de validación (15%)"
   ]
  },
  {
   "cell_type": "code",
   "execution_count": 130,
   "id": "988d86b4",
   "metadata": {},
   "outputs": [
    {
     "name": "stdout",
     "output_type": "stream",
     "text": [
      "(170, 2048)\n"
     ]
    }
   ],
   "source": [
    "Xtrain, Xval, ytrain, yval = train_test_split(X, y, test_size = 0.15, random_state = 42)\n",
    "print(Xtrain.shape)"
   ]
  },
  {
   "cell_type": "markdown",
   "id": "7dc938ca",
   "metadata": {},
   "source": [
    "Importamos las liberías para usar redes neuronales"
   ]
  },
  {
   "cell_type": "code",
   "execution_count": 137,
   "id": "f4e23c34",
   "metadata": {},
   "outputs": [
    {
     "name": "stdout",
     "output_type": "stream",
     "text": [
      "[PhysicalDevice(name='/physical_device:CPU:0', device_type='CPU')]\n",
      "Número de GPUs disponibles:  0\n"
     ]
    }
   ],
   "source": [
    "import tensorflow as tf\n",
    "from tensorflow.keras.models import Sequential\n",
    "from tensorflow.keras.layers import Dense, Dropout, Flatten, Conv1D, MaxPooling1D, LSTM, TimeDistributed, GRU, SimpleRNN\n",
    "import tensorflow.keras as keras\n",
    "\n",
    "print(tf.config.list_physical_devices())\n",
    "print(\"Número de GPUs disponibles: \", len(tf.config.experimental.list_physical_devices('GPU')))"
   ]
  },
  {
   "cell_type": "markdown",
   "id": "9d0241fc",
   "metadata": {},
   "source": [
    "Creamos un modelo simple porque no nos vamos a centrar en redes neuronales, más adelante utilizaremos SVMs."
   ]
  },
  {
   "cell_type": "code",
   "execution_count": 257,
   "id": "37ba26b9",
   "metadata": {},
   "outputs": [
    {
     "name": "stdout",
     "output_type": "stream",
     "text": [
      "Model: \"sequential_31\"\n",
      "_________________________________________________________________\n",
      " Layer (type)                Output Shape              Param #   \n",
      "=================================================================\n",
      " dense_91 (Dense)            (None, 32)                65568     \n",
      "                                                                 \n",
      " dropout_26 (Dropout)        (None, 32)                0         \n",
      "                                                                 \n",
      " dense_92 (Dense)            (None, 16)                528       \n",
      "                                                                 \n",
      " dense_93 (Dense)            (None, 1)                 17        \n",
      "                                                                 \n",
      "=================================================================\n",
      "Total params: 66,113\n",
      "Trainable params: 66,113\n",
      "Non-trainable params: 0\n",
      "_________________________________________________________________\n"
     ]
    }
   ],
   "source": [
    "model = Sequential([\n",
    "    Dense(32, input_shape = (2048,)),\n",
    "    Dropout(0.28),\n",
    "    Dense(16),\n",
    "    Dense(1, activation = 'sigmoid')\n",
    "])\n",
    "model.summary()\n",
    "model.compile(optimizer = keras.optimizers.Adamax(), loss = keras.losses.binary_crossentropy, metrics = ['acc'])"
   ]
  },
  {
   "cell_type": "code",
   "execution_count": 258,
   "id": "afd3a1c8",
   "metadata": {},
   "outputs": [
    {
     "name": "stdout",
     "output_type": "stream",
     "text": [
      "Epoch 1/128\n",
      "1/1 [==============================] - 1s 833ms/step - loss: 0.7569 - acc: 0.4529 - val_loss: 0.6634 - val_acc: 0.5333\n",
      "Epoch 2/128\n",
      "1/1 [==============================] - 0s 32ms/step - loss: 0.6977 - acc: 0.5882 - val_loss: 0.6477 - val_acc: 0.6333\n",
      "Epoch 3/128\n",
      "1/1 [==============================] - 0s 33ms/step - loss: 0.6674 - acc: 0.6059 - val_loss: 0.9178 - val_acc: 0.4667\n",
      "Epoch 4/128\n",
      "1/1 [==============================] - 0s 32ms/step - loss: 0.8366 - acc: 0.5059 - val_loss: 0.6653 - val_acc: 0.5000\n",
      "Epoch 5/128\n",
      "1/1 [==============================] - 0s 32ms/step - loss: 0.6436 - acc: 0.6294 - val_loss: 0.6789 - val_acc: 0.5333\n",
      "Epoch 6/128\n",
      "1/1 [==============================] - 0s 32ms/step - loss: 0.6941 - acc: 0.5588 - val_loss: 0.7047 - val_acc: 0.5333\n",
      "Epoch 7/128\n",
      "1/1 [==============================] - 0s 32ms/step - loss: 0.7212 - acc: 0.5471 - val_loss: 0.6356 - val_acc: 0.6333\n",
      "Epoch 8/128\n",
      "1/1 [==============================] - 0s 32ms/step - loss: 0.6135 - acc: 0.6647 - val_loss: 0.6699 - val_acc: 0.4667\n",
      "Epoch 9/128\n",
      "1/1 [==============================] - 0s 32ms/step - loss: 0.6096 - acc: 0.6471 - val_loss: 0.7365 - val_acc: 0.5000\n",
      "Epoch 10/128\n",
      "1/1 [==============================] - 0s 32ms/step - loss: 0.6719 - acc: 0.5941 - val_loss: 0.6921 - val_acc: 0.4667\n",
      "Epoch 11/128\n",
      "1/1 [==============================] - 0s 33ms/step - loss: 0.6292 - acc: 0.6235 - val_loss: 0.6291 - val_acc: 0.7000\n",
      "Epoch 12/128\n",
      "1/1 [==============================] - 0s 32ms/step - loss: 0.5608 - acc: 0.7235 - val_loss: 0.6360 - val_acc: 0.6000\n",
      "Epoch 13/128\n",
      "1/1 [==============================] - 0s 34ms/step - loss: 0.6009 - acc: 0.6706 - val_loss: 0.6503 - val_acc: 0.5667\n",
      "Epoch 14/128\n",
      "1/1 [==============================] - 0s 33ms/step - loss: 0.5899 - acc: 0.6529 - val_loss: 0.6347 - val_acc: 0.6667\n",
      "Epoch 15/128\n",
      "1/1 [==============================] - 0s 34ms/step - loss: 0.5834 - acc: 0.6647 - val_loss: 0.6211 - val_acc: 0.7000\n",
      "Epoch 16/128\n",
      "1/1 [==============================] - 0s 35ms/step - loss: 0.5399 - acc: 0.7412 - val_loss: 0.6410 - val_acc: 0.5667\n",
      "Epoch 17/128\n",
      "1/1 [==============================] - 0s 39ms/step - loss: 0.5432 - acc: 0.7059 - val_loss: 0.6640 - val_acc: 0.5667\n",
      "Epoch 18/128\n",
      "1/1 [==============================] - 0s 34ms/step - loss: 0.5769 - acc: 0.7059 - val_loss: 0.6568 - val_acc: 0.5667\n",
      "Epoch 19/128\n",
      "1/1 [==============================] - 0s 35ms/step - loss: 0.5588 - acc: 0.7235 - val_loss: 0.6300 - val_acc: 0.6000\n",
      "Epoch 20/128\n",
      "1/1 [==============================] - 0s 34ms/step - loss: 0.5545 - acc: 0.7529 - val_loss: 0.6169 - val_acc: 0.7333\n",
      "Epoch 21/128\n",
      "1/1 [==============================] - 0s 33ms/step - loss: 0.5366 - acc: 0.7412 - val_loss: 0.6233 - val_acc: 0.6667\n",
      "Epoch 22/128\n",
      "1/1 [==============================] - 0s 35ms/step - loss: 0.5594 - acc: 0.7059 - val_loss: 0.6245 - val_acc: 0.6667\n",
      "Epoch 23/128\n",
      "1/1 [==============================] - 0s 33ms/step - loss: 0.5231 - acc: 0.7412 - val_loss: 0.6172 - val_acc: 0.7333\n",
      "Epoch 24/128\n",
      "1/1 [==============================] - 0s 32ms/step - loss: 0.5271 - acc: 0.7824 - val_loss: 0.6162 - val_acc: 0.7333\n",
      "Epoch 25/128\n",
      "1/1 [==============================] - 0s 33ms/step - loss: 0.5232 - acc: 0.7765 - val_loss: 0.6261 - val_acc: 0.6667\n",
      "Epoch 26/128\n",
      "1/1 [==============================] - 0s 33ms/step - loss: 0.5118 - acc: 0.8000 - val_loss: 0.6340 - val_acc: 0.6000\n",
      "Epoch 27/128\n",
      "1/1 [==============================] - 0s 31ms/step - loss: 0.5284 - acc: 0.7294 - val_loss: 0.6288 - val_acc: 0.6333\n",
      "Epoch 28/128\n",
      "1/1 [==============================] - 0s 33ms/step - loss: 0.5173 - acc: 0.7882 - val_loss: 0.6188 - val_acc: 0.7000\n",
      "Epoch 29/128\n",
      "1/1 [==============================] - 0s 34ms/step - loss: 0.5162 - acc: 0.8000 - val_loss: 0.6130 - val_acc: 0.7333\n",
      "Epoch 30/128\n",
      "1/1 [==============================] - 0s 33ms/step - loss: 0.5077 - acc: 0.8000 - val_loss: 0.6134 - val_acc: 0.7333\n",
      "Epoch 31/128\n",
      "1/1 [==============================] - 0s 33ms/step - loss: 0.5030 - acc: 0.8059 - val_loss: 0.6146 - val_acc: 0.7667\n",
      "Epoch 32/128\n",
      "1/1 [==============================] - 0s 34ms/step - loss: 0.4996 - acc: 0.8000 - val_loss: 0.6124 - val_acc: 0.7000\n",
      "Epoch 33/128\n",
      "1/1 [==============================] - 0s 34ms/step - loss: 0.4877 - acc: 0.7882 - val_loss: 0.6125 - val_acc: 0.7333\n",
      "Epoch 34/128\n",
      "1/1 [==============================] - 0s 37ms/step - loss: 0.4883 - acc: 0.7941 - val_loss: 0.6192 - val_acc: 0.6667\n",
      "Epoch 35/128\n",
      "1/1 [==============================] - 0s 38ms/step - loss: 0.4719 - acc: 0.8235 - val_loss: 0.6235 - val_acc: 0.6667\n",
      "Epoch 36/128\n",
      "1/1 [==============================] - 0s 33ms/step - loss: 0.4742 - acc: 0.7941 - val_loss: 0.6214 - val_acc: 0.6667\n",
      "Epoch 37/128\n",
      "1/1 [==============================] - 0s 34ms/step - loss: 0.4734 - acc: 0.8176 - val_loss: 0.6152 - val_acc: 0.6667\n",
      "Epoch 38/128\n",
      "1/1 [==============================] - 0s 36ms/step - loss: 0.4565 - acc: 0.8412 - val_loss: 0.6111 - val_acc: 0.7333\n",
      "Epoch 39/128\n",
      "1/1 [==============================] - 0s 32ms/step - loss: 0.4527 - acc: 0.8647 - val_loss: 0.6105 - val_acc: 0.7000\n",
      "Epoch 40/128\n",
      "1/1 [==============================] - 0s 34ms/step - loss: 0.4756 - acc: 0.8059 - val_loss: 0.6105 - val_acc: 0.7000\n",
      "Epoch 41/128\n",
      "1/1 [==============================] - 0s 33ms/step - loss: 0.4630 - acc: 0.8059 - val_loss: 0.6103 - val_acc: 0.7000\n",
      "Epoch 42/128\n",
      "1/1 [==============================] - 0s 34ms/step - loss: 0.4523 - acc: 0.8647 - val_loss: 0.6123 - val_acc: 0.6667\n",
      "Epoch 43/128\n",
      "1/1 [==============================] - 0s 39ms/step - loss: 0.4533 - acc: 0.8294 - val_loss: 0.6164 - val_acc: 0.6667\n",
      "Epoch 44/128\n",
      "1/1 [==============================] - 0s 32ms/step - loss: 0.4411 - acc: 0.8471 - val_loss: 0.6186 - val_acc: 0.7000\n",
      "Epoch 45/128\n",
      "1/1 [==============================] - 0s 33ms/step - loss: 0.4364 - acc: 0.8412 - val_loss: 0.6166 - val_acc: 0.6667\n",
      "Epoch 46/128\n",
      "1/1 [==============================] - 0s 32ms/step - loss: 0.4500 - acc: 0.8647 - val_loss: 0.6127 - val_acc: 0.6667\n",
      "Epoch 47/128\n",
      "1/1 [==============================] - 0s 31ms/step - loss: 0.4436 - acc: 0.8471 - val_loss: 0.6102 - val_acc: 0.7333\n",
      "Epoch 48/128\n",
      "1/1 [==============================] - 0s 32ms/step - loss: 0.4219 - acc: 0.8824 - val_loss: 0.6097 - val_acc: 0.7000\n",
      "Epoch 49/128\n",
      "1/1 [==============================] - 0s 32ms/step - loss: 0.4329 - acc: 0.8882 - val_loss: 0.6098 - val_acc: 0.7000\n",
      "Epoch 50/128\n",
      "1/1 [==============================] - 0s 33ms/step - loss: 0.4283 - acc: 0.8529 - val_loss: 0.6098 - val_acc: 0.7000\n",
      "Epoch 51/128\n",
      "1/1 [==============================] - 0s 39ms/step - loss: 0.4197 - acc: 0.8529 - val_loss: 0.6120 - val_acc: 0.7000\n",
      "Epoch 52/128\n",
      "1/1 [==============================] - 0s 32ms/step - loss: 0.4254 - acc: 0.8471 - val_loss: 0.6165 - val_acc: 0.6667\n",
      "Epoch 53/128\n",
      "1/1 [==============================] - 0s 34ms/step - loss: 0.4146 - acc: 0.8765 - val_loss: 0.6189 - val_acc: 0.6667\n",
      "Epoch 54/128\n",
      "1/1 [==============================] - 0s 34ms/step - loss: 0.4232 - acc: 0.8529 - val_loss: 0.6155 - val_acc: 0.6667\n",
      "Epoch 55/128\n",
      "1/1 [==============================] - 0s 32ms/step - loss: 0.4081 - acc: 0.8824 - val_loss: 0.6117 - val_acc: 0.7000\n",
      "Epoch 56/128\n",
      "1/1 [==============================] - 0s 32ms/step - loss: 0.3919 - acc: 0.9059 - val_loss: 0.6097 - val_acc: 0.6667\n",
      "Epoch 57/128\n",
      "1/1 [==============================] - 0s 32ms/step - loss: 0.3904 - acc: 0.8941 - val_loss: 0.6095 - val_acc: 0.7000\n",
      "Epoch 58/128\n",
      "1/1 [==============================] - 0s 33ms/step - loss: 0.4045 - acc: 0.8529 - val_loss: 0.6096 - val_acc: 0.7000\n",
      "Epoch 59/128\n",
      "1/1 [==============================] - 0s 32ms/step - loss: 0.3993 - acc: 0.8706 - val_loss: 0.6105 - val_acc: 0.7000\n",
      "Epoch 60/128\n",
      "1/1 [==============================] - 0s 32ms/step - loss: 0.3835 - acc: 0.8824 - val_loss: 0.6126 - val_acc: 0.7000\n",
      "Epoch 61/128\n",
      "1/1 [==============================] - 0s 32ms/step - loss: 0.3890 - acc: 0.8882 - val_loss: 0.6150 - val_acc: 0.6667\n",
      "Epoch 62/128\n",
      "1/1 [==============================] - 0s 31ms/step - loss: 0.3925 - acc: 0.9059 - val_loss: 0.6140 - val_acc: 0.7000\n",
      "Epoch 63/128\n"
     ]
    },
    {
     "name": "stdout",
     "output_type": "stream",
     "text": [
      "1/1 [==============================] - 0s 33ms/step - loss: 0.3868 - acc: 0.9059 - val_loss: 0.6117 - val_acc: 0.7000\n",
      "Epoch 64/128\n",
      "1/1 [==============================] - 0s 31ms/step - loss: 0.3643 - acc: 0.9235 - val_loss: 0.6103 - val_acc: 0.7000\n",
      "Epoch 65/128\n",
      "1/1 [==============================] - 0s 32ms/step - loss: 0.3644 - acc: 0.9059 - val_loss: 0.6099 - val_acc: 0.6667\n",
      "Epoch 66/128\n",
      "1/1 [==============================] - 0s 31ms/step - loss: 0.3750 - acc: 0.8824 - val_loss: 0.6101 - val_acc: 0.7000\n",
      "Epoch 67/128\n",
      "1/1 [==============================] - 0s 33ms/step - loss: 0.3695 - acc: 0.8882 - val_loss: 0.6112 - val_acc: 0.7000\n",
      "Epoch 68/128\n",
      "1/1 [==============================] - 0s 32ms/step - loss: 0.3575 - acc: 0.9000 - val_loss: 0.6131 - val_acc: 0.7000\n",
      "Epoch 69/128\n",
      "1/1 [==============================] - 0s 31ms/step - loss: 0.3566 - acc: 0.9118 - val_loss: 0.6153 - val_acc: 0.7000\n",
      "Epoch 70/128\n",
      "1/1 [==============================] - 0s 30ms/step - loss: 0.3527 - acc: 0.9059 - val_loss: 0.6157 - val_acc: 0.7000\n",
      "Epoch 71/128\n",
      "1/1 [==============================] - 0s 31ms/step - loss: 0.3655 - acc: 0.8824 - val_loss: 0.6136 - val_acc: 0.7000\n",
      "Epoch 72/128\n",
      "1/1 [==============================] - 0s 31ms/step - loss: 0.3395 - acc: 0.9588 - val_loss: 0.6114 - val_acc: 0.7000\n",
      "Epoch 73/128\n",
      "1/1 [==============================] - 0s 32ms/step - loss: 0.3429 - acc: 0.9000 - val_loss: 0.6108 - val_acc: 0.7000\n",
      "Epoch 74/128\n",
      "1/1 [==============================] - 0s 32ms/step - loss: 0.3456 - acc: 0.9059 - val_loss: 0.6110 - val_acc: 0.7000\n",
      "Epoch 75/128\n",
      "1/1 [==============================] - 0s 32ms/step - loss: 0.3399 - acc: 0.9176 - val_loss: 0.6121 - val_acc: 0.7000\n",
      "Epoch 76/128\n",
      "1/1 [==============================] - 0s 32ms/step - loss: 0.3428 - acc: 0.9000 - val_loss: 0.6141 - val_acc: 0.7000\n",
      "Epoch 77/128\n",
      "1/1 [==============================] - 0s 32ms/step - loss: 0.3397 - acc: 0.9294 - val_loss: 0.6168 - val_acc: 0.7000\n",
      "Epoch 78/128\n",
      "1/1 [==============================] - 0s 32ms/step - loss: 0.3194 - acc: 0.9412 - val_loss: 0.6180 - val_acc: 0.7000\n",
      "Epoch 79/128\n",
      "1/1 [==============================] - 0s 32ms/step - loss: 0.3225 - acc: 0.9118 - val_loss: 0.6149 - val_acc: 0.7000\n",
      "Epoch 80/128\n",
      "1/1 [==============================] - 0s 32ms/step - loss: 0.3158 - acc: 0.9235 - val_loss: 0.6123 - val_acc: 0.7000\n",
      "Epoch 81/128\n",
      "1/1 [==============================] - 0s 31ms/step - loss: 0.3180 - acc: 0.9235 - val_loss: 0.6115 - val_acc: 0.7000\n",
      "Epoch 82/128\n",
      "1/1 [==============================] - 0s 32ms/step - loss: 0.3116 - acc: 0.9176 - val_loss: 0.6116 - val_acc: 0.7000\n",
      "Epoch 83/128\n",
      "1/1 [==============================] - 0s 32ms/step - loss: 0.3190 - acc: 0.9235 - val_loss: 0.6124 - val_acc: 0.7000\n",
      "Epoch 84/128\n",
      "1/1 [==============================] - 0s 32ms/step - loss: 0.3130 - acc: 0.9235 - val_loss: 0.6143 - val_acc: 0.7000\n",
      "Epoch 85/128\n",
      "1/1 [==============================] - 0s 32ms/step - loss: 0.2981 - acc: 0.9412 - val_loss: 0.6166 - val_acc: 0.7000\n",
      "Epoch 86/128\n",
      "1/1 [==============================] - 0s 32ms/step - loss: 0.3120 - acc: 0.9529 - val_loss: 0.6172 - val_acc: 0.7000\n",
      "Epoch 87/128\n",
      "1/1 [==============================] - 0s 32ms/step - loss: 0.3117 - acc: 0.9353 - val_loss: 0.6157 - val_acc: 0.7000\n",
      "Epoch 88/128\n",
      "1/1 [==============================] - 0s 31ms/step - loss: 0.3053 - acc: 0.9353 - val_loss: 0.6147 - val_acc: 0.7000\n",
      "Epoch 89/128\n",
      "1/1 [==============================] - 0s 31ms/step - loss: 0.2980 - acc: 0.9235 - val_loss: 0.6139 - val_acc: 0.7000\n",
      "Epoch 90/128\n",
      "1/1 [==============================] - 0s 34ms/step - loss: 0.3062 - acc: 0.9294 - val_loss: 0.6143 - val_acc: 0.7000\n",
      "Epoch 91/128\n",
      "1/1 [==============================] - 0s 32ms/step - loss: 0.2775 - acc: 0.9353 - val_loss: 0.6164 - val_acc: 0.7000\n",
      "Epoch 92/128\n",
      "1/1 [==============================] - 0s 31ms/step - loss: 0.2937 - acc: 0.9412 - val_loss: 0.6171 - val_acc: 0.7000\n",
      "Epoch 93/128\n",
      "1/1 [==============================] - 0s 31ms/step - loss: 0.2940 - acc: 0.9471 - val_loss: 0.6176 - val_acc: 0.7000\n",
      "Epoch 94/128\n",
      "1/1 [==============================] - 0s 33ms/step - loss: 0.2801 - acc: 0.9412 - val_loss: 0.6176 - val_acc: 0.7000\n",
      "Epoch 95/128\n",
      "1/1 [==============================] - 0s 33ms/step - loss: 0.2846 - acc: 0.9471 - val_loss: 0.6165 - val_acc: 0.7000\n",
      "Epoch 96/128\n",
      "1/1 [==============================] - 0s 31ms/step - loss: 0.2772 - acc: 0.9471 - val_loss: 0.6153 - val_acc: 0.7000\n",
      "Epoch 97/128\n",
      "1/1 [==============================] - 0s 32ms/step - loss: 0.2700 - acc: 0.9529 - val_loss: 0.6150 - val_acc: 0.7000\n",
      "Epoch 98/128\n",
      "1/1 [==============================] - 0s 31ms/step - loss: 0.2782 - acc: 0.9471 - val_loss: 0.6154 - val_acc: 0.7000\n",
      "Epoch 99/128\n",
      "1/1 [==============================] - 0s 32ms/step - loss: 0.2668 - acc: 0.9588 - val_loss: 0.6170 - val_acc: 0.7000\n",
      "Epoch 100/128\n",
      "1/1 [==============================] - 0s 33ms/step - loss: 0.2628 - acc: 0.9412 - val_loss: 0.6191 - val_acc: 0.7000\n",
      "Epoch 101/128\n",
      "1/1 [==============================] - 0s 32ms/step - loss: 0.2573 - acc: 0.9588 - val_loss: 0.6213 - val_acc: 0.7000\n",
      "Epoch 102/128\n",
      "1/1 [==============================] - 0s 32ms/step - loss: 0.2548 - acc: 0.9529 - val_loss: 0.6213 - val_acc: 0.7000\n",
      "Epoch 103/128\n",
      "1/1 [==============================] - 0s 31ms/step - loss: 0.2643 - acc: 0.9588 - val_loss: 0.6186 - val_acc: 0.7000\n",
      "Epoch 104/128\n",
      "1/1 [==============================] - 0s 32ms/step - loss: 0.2455 - acc: 0.9588 - val_loss: 0.6177 - val_acc: 0.7000\n",
      "Epoch 105/128\n",
      "1/1 [==============================] - 0s 33ms/step - loss: 0.2483 - acc: 0.9471 - val_loss: 0.6177 - val_acc: 0.7000\n",
      "Epoch 106/128\n",
      "1/1 [==============================] - 0s 35ms/step - loss: 0.2509 - acc: 0.9588 - val_loss: 0.6192 - val_acc: 0.7000\n",
      "Epoch 107/128\n",
      "1/1 [==============================] - 0s 33ms/step - loss: 0.2446 - acc: 0.9647 - val_loss: 0.6217 - val_acc: 0.7000\n",
      "Epoch 108/128\n",
      "1/1 [==============================] - 0s 33ms/step - loss: 0.2436 - acc: 0.9706 - val_loss: 0.6243 - val_acc: 0.7000\n",
      "Epoch 109/128\n",
      "1/1 [==============================] - 0s 35ms/step - loss: 0.2475 - acc: 0.9647 - val_loss: 0.6252 - val_acc: 0.7000\n",
      "Epoch 110/128\n",
      "1/1 [==============================] - 0s 33ms/step - loss: 0.2312 - acc: 0.9647 - val_loss: 0.6231 - val_acc: 0.7000\n",
      "Epoch 111/128\n",
      "1/1 [==============================] - 0s 33ms/step - loss: 0.2301 - acc: 0.9706 - val_loss: 0.6216 - val_acc: 0.7000\n",
      "Epoch 112/128\n",
      "1/1 [==============================] - 0s 33ms/step - loss: 0.2272 - acc: 0.9765 - val_loss: 0.6216 - val_acc: 0.7000\n",
      "Epoch 113/128\n",
      "1/1 [==============================] - 0s 33ms/step - loss: 0.2389 - acc: 0.9647 - val_loss: 0.6228 - val_acc: 0.7000\n",
      "Epoch 114/128\n",
      "1/1 [==============================] - 0s 35ms/step - loss: 0.2317 - acc: 0.9706 - val_loss: 0.6261 - val_acc: 0.7000\n",
      "Epoch 115/128\n",
      "1/1 [==============================] - 0s 32ms/step - loss: 0.2179 - acc: 0.9882 - val_loss: 0.6284 - val_acc: 0.7000\n",
      "Epoch 116/128\n",
      "1/1 [==============================] - 0s 32ms/step - loss: 0.2239 - acc: 0.9824 - val_loss: 0.6274 - val_acc: 0.7000\n",
      "Epoch 117/128\n",
      "1/1 [==============================] - 0s 32ms/step - loss: 0.2158 - acc: 0.9882 - val_loss: 0.6252 - val_acc: 0.7000\n",
      "Epoch 118/128\n",
      "1/1 [==============================] - 0s 31ms/step - loss: 0.2135 - acc: 0.9706 - val_loss: 0.6241 - val_acc: 0.7000\n",
      "Epoch 119/128\n",
      "1/1 [==============================] - 0s 32ms/step - loss: 0.2207 - acc: 0.9588 - val_loss: 0.6251 - val_acc: 0.7000\n",
      "Epoch 120/128\n",
      "1/1 [==============================] - 0s 32ms/step - loss: 0.2119 - acc: 0.9706 - val_loss: 0.6275 - val_acc: 0.7000\n",
      "Epoch 121/128\n",
      "1/1 [==============================] - 0s 31ms/step - loss: 0.2082 - acc: 0.9765 - val_loss: 0.6288 - val_acc: 0.7000\n",
      "Epoch 122/128\n",
      "1/1 [==============================] - 0s 33ms/step - loss: 0.2041 - acc: 0.9765 - val_loss: 0.6305 - val_acc: 0.7000\n",
      "Epoch 123/128\n",
      "1/1 [==============================] - 0s 32ms/step - loss: 0.2051 - acc: 0.9824 - val_loss: 0.6309 - val_acc: 0.7000\n",
      "Epoch 124/128\n",
      "1/1 [==============================] - 0s 32ms/step - loss: 0.2044 - acc: 0.9882 - val_loss: 0.6303 - val_acc: 0.7000\n",
      "Epoch 125/128\n"
     ]
    },
    {
     "name": "stdout",
     "output_type": "stream",
     "text": [
      "1/1 [==============================] - 0s 32ms/step - loss: 0.2009 - acc: 0.9824 - val_loss: 0.6304 - val_acc: 0.7000\n",
      "Epoch 126/128\n",
      "1/1 [==============================] - 0s 31ms/step - loss: 0.1901 - acc: 0.9706 - val_loss: 0.6308 - val_acc: 0.7000\n",
      "Epoch 127/128\n",
      "1/1 [==============================] - 0s 35ms/step - loss: 0.1954 - acc: 0.9765 - val_loss: 0.6310 - val_acc: 0.7000\n",
      "Epoch 128/128\n",
      "1/1 [==============================] - 0s 32ms/step - loss: 0.1954 - acc: 0.9882 - val_loss: 0.6315 - val_acc: 0.7000\n"
     ]
    }
   ],
   "source": [
    "historico = model.fit(\n",
    "    Xtrain, \n",
    "    ytrain, \n",
    "    batch_size = 1000, \n",
    "    epochs = 128,\n",
    "    validation_data= (Xval, yval)\n",
    ")"
   ]
  },
  {
   "cell_type": "code",
   "execution_count": 259,
   "id": "ccfaa0f9",
   "metadata": {},
   "outputs": [
    {
     "data": {
      "image/png": "[encoded data removed]",
      "text/plain": [
       "<Figure size 640x480 with 1 Axes>"
      ]
     },
     "metadata": {},
     "output_type": "display_data"
    }
   ],
   "source": [
    "historial = historico.history\n",
    "plt.title('Gráfica de coste')\n",
    "plt.xlabel('Epochs')\n",
    "plt.ylabel('Coste')\n",
    "plt.plot(historial['loss'])\n",
    "plt.plot(historial['val_loss'])\n",
    "plt.legend([\"Train\", \"Val\"]);"
   ]
  },
  {
   "cell_type": "code",
   "execution_count": 260,
   "id": "7385dabd",
   "metadata": {},
   "outputs": [
    {
     "data": {
      "image/png": "[encoded data removed]",
      "text/plain": [
       "<Figure size 640x480 with 1 Axes>"
      ]
     },
     "metadata": {},
     "output_type": "display_data"
    }
   ],
   "source": [
    "plt.title('Gráfica de accuracy')\n",
    "plt.xlabel('Epochs')\n",
    "plt.ylabel('Accuracy')\n",
    "plt.plot(historial['acc'])\n",
    "plt.plot(historial['val_acc'])\n",
    "plt.legend([\"Train\", \"Val\"]);"
   ]
  },
  {
   "cell_type": "code",
   "execution_count": 261,
   "id": "aaddcade",
   "metadata": {},
   "outputs": [
    {
     "name": "stdout",
     "output_type": "stream",
     "text": [
      "2/2 [==============================] - 0s 2ms/step\n",
      "Precisión en test: 75.0%\n"
     ]
    }
   ],
   "source": [
    "prediccion = model.predict(Xtest)\n",
    "aciertos = np.sum(np.round(prediccion) == ytest)\n",
    "print(f'Precisión en test: {aciertos/ytest.shape[0]*100}%')"
   ]
  },
  {
   "cell_type": "markdown",
   "id": "0f61b18d",
   "metadata": {},
   "source": [
    "## SVMs"
   ]
  },
  {
   "cell_type": "code",
   "execution_count": 134,
   "id": "83db18b9",
   "metadata": {},
   "outputs": [
    {
     "name": "stdout",
     "output_type": "stream",
     "text": [
      "Precisión en train: 100.0%\n",
      "Precisión en test: 87.5%\n"
     ]
    }
   ],
   "source": [
    "# Importamos las SVMs\n",
    "from sklearn import svm\n",
    "from sklearn.pipeline import make_pipeline\n",
    "from sklearn.preprocessing import StandardScaler\n",
    "\n",
    "# Creamos un clasificador SVM usando svm.SVC con C = 3\n",
    "clf = make_pipeline(StandardScaler(),  svm.SVC(C = 3))\n",
    "\n",
    "# Entrenamos el modelo\n",
    "clf.fit(X, y.ravel())\n",
    "# Obtenemos la precisión\n",
    "accTrain = clf.score(X, y)\n",
    "print(\"Precisión en train: {}%\".format(accTrain*100))\n",
    "\n",
    "print(f\"Precisión en test: {clf.score(Xtest, ytest)*100}%\")"
   ]
  },
  {
   "cell_type": "markdown",
   "id": "3094f5eb",
   "metadata": {},
   "source": [
    "#### Hemos obtenido un 87.5% de precisión en Test."
   ]
  }
 ],
 "metadata": {
  "kernelspec": {
   "display_name": "Python [conda env:py38ml] *",
   "language": "python",
   "name": "conda-env-py38ml-py"
  },
  "language_info": {
   "codemirror_mode": {
    "name": "ipython",
    "version": 3
   },
   "file_extension": ".py",
   "mimetype": "text/x-python",
   "name": "python",
   "nbconvert_exporter": "python",
   "pygments_lexer": "ipython3",
   "version": "3.8.10"
  }
 },
 "nbformat": 4,
 "nbformat_minor": 5
}
