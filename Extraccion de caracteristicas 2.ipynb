{
 "cells": [
  {
   "cell_type": "markdown",
   "id": "89668beb",
   "metadata": {},
   "source": [
    "# Dog vs Cat\n",
    "\n",
    "## Extracción de características 2\n",
    "\n",
    "Importamos algunas librerías que vamos a utilizar"
   ]
  },
  {
   "cell_type": "code",
   "execution_count": 1,
   "id": "42155d68",
   "metadata": {},
   "outputs": [],
   "source": [
    "import numpy as np\n",
    "import cv2\n",
    "from tqdm import tqdm\n",
    "from sklearn.model_selection import train_test_split\n",
    "import matplotlib.pyplot as plt "
   ]
  },
  {
   "cell_type": "markdown",
   "id": "31d59116",
   "metadata": {},
   "source": [
    "Instalamos tensorflow si no lo tenemos instalado anteriormente"
   ]
  },
  {
   "cell_type": "code",
   "execution_count": null,
   "id": "a8f288a5",
   "metadata": {},
   "outputs": [],
   "source": [
    "!pip install tensorflow"
   ]
  },
  {
   "cell_type": "markdown",
   "id": "6c012e9d",
   "metadata": {},
   "source": [
    "Inicializamos variables\n",
    "\n",
    "En este caso utilizaremos el dataset `cat_dog_100` pero en cualquier momento se puede cambiar"
   ]
  },
  {
   "cell_type": "code",
   "execution_count": 70,
   "id": "5e7e4c1b",
   "metadata": {},
   "outputs": [],
   "source": [
    "rutaDogsTrain = 'cat_dog_100/train/dog'\n",
    "rutaDogsTest = 'cat_dog_100/test/dog'\n",
    "rutaCatsTrain = 'cat_dog_100/train/cat'\n",
    "rutaCatsTest = 'cat_dog_100/test/cat'\n",
    "\n",
    "tamanoMax = 128 \n",
    "sizeVentana = 32\n",
    "tamanoMax = int(tamanoMax/sizeVentana)*sizeVentana"
   ]
  },
  {
   "cell_type": "markdown",
   "id": "3950c2d0",
   "metadata": {},
   "source": [
    "Se recorren los directorios para obtener los nombres de las imágenes"
   ]
  },
  {
   "cell_type": "code",
   "execution_count": 71,
   "id": "1648a6fc",
   "metadata": {},
   "outputs": [
    {
     "name": "stdout",
     "output_type": "stream",
     "text": [
      "cat_dog_100/train/dog/dog.10000.jpg\n"
     ]
    }
   ],
   "source": [
    "from os import walk\n",
    "\n",
    "dogTrain = []\n",
    "dogTest = []\n",
    "catTest = []\n",
    "catTrain = []\n",
    "for (dirpath, dirnames, filenames) in walk(rutaDogsTrain):\n",
    "    dogTrain.extend(filenames)\n",
    "    \n",
    "for (dirpath, dirnames, filenames) in walk(rutaDogsTest):\n",
    "    dogTest.extend(filenames)\n",
    "\n",
    "for (dirpath, dirnames, filenames) in walk(rutaCatsTest):\n",
    "    catTest.extend(filenames)\n",
    "\n",
    "for (dirpath, dirnames, filenames) in walk(rutaCatsTrain):\n",
    "    catTrain.extend(filenames)\n",
    "    \n",
    "print(f'{rutaDogsTrain}/{dogTrain[0]}')"
   ]
  },
  {
   "cell_type": "markdown",
   "id": "58712a53",
   "metadata": {},
   "source": [
    "La función `resize_image` redimensiona la imagen en *tamanoMax x tamanoMax*.\n",
    "\n",
    "Probaremos a recortar la imagen para no deformarlas y así comprobar si obtenemos un mejor resultado."
   ]
  },
  {
   "cell_type": "code",
   "execution_count": 72,
   "id": "79b29067",
   "metadata": {},
   "outputs": [],
   "source": [
    "def recorta_imagen(imagen, n):\n",
    "    \"\"\"\n",
    "    Esta función recibe una imagen y un tamaño n y recorta la imagen de tal manera que el número final de filas/columnas \n",
    "    sea múltiplo de n. La funció debe recortar las filas de la derecha/abajo.\n",
    "    \"\"\"\n",
    "    size = np.min([int(imagen.shape[0]/n)*n, int(imagen.shape[1]/n)*n])\n",
    "    return imagen[:size, :size]\n",
    "\n",
    "def resize_image(imagen, sizeVentana, tamanoMax, recorta=False):\n",
    "    if(recorta): imagen = recorta_imagen(imagen, sizeVentana)\n",
    "    imagen2 = cv2.resize(imagen, [tamanoMax,tamanoMax])\n",
    "    return imagen2"
   ]
  },
  {
   "cell_type": "markdown",
   "id": "50a87dd8",
   "metadata": {},
   "source": [
    "Función para aplicar un filtro"
   ]
  },
  {
   "cell_type": "code",
   "execution_count": 73,
   "id": "79703d30",
   "metadata": {},
   "outputs": [],
   "source": [
    "def filtro(imagen, mascara):\n",
    "    a = mascara.shape[0]//2\n",
    "    b = mascara.shape[1]//2\n",
    "    imagen_ampliada = cv2.copyMakeBorder(imagen, a, a, b, b, cv2.BORDER_REPLICATE)\n",
    "    imagen2 = np.zeros(imagen.shape)\n",
    "    for i in range(a, imagen.shape[0] + a):\n",
    "        for j in range(b, imagen.shape[1] + b):\n",
    "            imagen2[i-a, j-b] = np.sum(imagen_ampliada[i-a:i+a+1, j-b:j+b+1] * mascara)\n",
    "            \n",
    "    return imagen2"
   ]
  },
  {
   "cell_type": "markdown",
   "id": "cece1661",
   "metadata": {},
   "source": [
    "Función para aplicar un filtro espacial de aproximación de la derivada parcial y obtenemos Phi y E"
   ]
  },
  {
   "cell_type": "code",
   "execution_count": 74,
   "id": "3cc49f0a",
   "metadata": {},
   "outputs": [],
   "source": [
    "def gradiente(imagen):\n",
    "    m_g_x = np.array([[0, -1, 0], [0, 0, 0], [0, 1, 0]])\n",
    "    m_g_y = np.array([[0, 0, 0], [-1, 0, 1], [0, 0, 0]])\n",
    "    Ix = filtro(imagen, m_g_x)\n",
    "    Iy = filtro(imagen, m_g_y)\n",
    "    E = np.sqrt(Ix**2 + Iy**2)\n",
    "    Phi = np.rad2deg(np.arctan2(Iy, Ix))\n",
    "    \n",
    "    return E, Phi"
   ]
  },
  {
   "cell_type": "markdown",
   "id": "732adfcb",
   "metadata": {},
   "source": [
    "La función `transforma_imagen` divide en celdas de tamaños sizeVentana y contruimos un histograma para cada celda en función de Phi y E "
   ]
  },
  {
   "cell_type": "code",
   "execution_count": 75,
   "id": "36b00274",
   "metadata": {},
   "outputs": [],
   "source": [
    "def transforma_bloque(celdaPhi, celdaE, bins = 9):\n",
    "    celdaPhi = np.abs(celdaPhi)\n",
    "    hp = cv2.calcHist([np.uint8(celdaPhi)], [0], None, [bins], [0, 180])\n",
    "    a = 180/bins \n",
    "    for i in range(bins):\n",
    "        hp[i] += np.sum(celdaE[(celdaPhi > a*i) & (celdaPhi < -a*(i+1))])\n",
    "    hp = hp / np.sqrt(np.sum(hp**2)) #Normalizar\n",
    "    return np.ravel(hp)"
   ]
  },
  {
   "cell_type": "code",
   "execution_count": 76,
   "id": "acb14469",
   "metadata": {},
   "outputs": [],
   "source": [
    "def transforma_imagen(imagen, sizeVentana, tamanoMax):\n",
    "    E, Phi = gradiente(imagen)\n",
    "    Phi = resize_image(Phi, sizeVentana, tamanoMax, True)  #Mejor recortar a True\n",
    "    E = resize_image(E, sizeVentana, tamanoMax, True) #Mejor recortar a True\n",
    "    caracteristicas = []\n",
    "    a = int(Phi.shape[0]/sizeVentana)\n",
    "    for i in range(a):\n",
    "        for j in range(a):\n",
    "            celdaPhi = Phi[i*sizeVentana:(i+1)*sizeVentana,j*sizeVentana:(j+1)*sizeVentana]\n",
    "            celdaE = E[i*sizeVentana:(i+1)*sizeVentana,j*sizeVentana:(j+1)*sizeVentana]\n",
    "            h = transforma_bloque(celdaPhi, celdaE)  \n",
    "            caracteristicas.append(h)\n",
    "    return np.concatenate(caracteristicas)"
   ]
  },
  {
   "cell_type": "markdown",
   "id": "4aa2686e",
   "metadata": {},
   "source": [
    "Extraemos las características de nuestro conjunto de imágenes (Train y Test)"
   ]
  },
  {
   "cell_type": "code",
   "execution_count": 77,
   "id": "44cc5cca",
   "metadata": {},
   "outputs": [
    {
     "name": "stderr",
     "output_type": "stream",
     "text": [
      "Perros: 100%|\u001b[38;2;255;136;248m██████████\u001b[0m| 100/100 [04:08<00:00,  2.49s/it]\n",
      "Gatos: 100%|\u001b[38;2;136;255;221m██████████\u001b[0m| 100/100 [03:47<00:00,  2.28s/it]\n"
     ]
    }
   ],
   "source": [
    "X = []\n",
    "m = 2\n",
    "for i in tqdm(range(len(dogTrain)), desc = \"Perros\", colour = '#FF88F8'):\n",
    "    imagen = cv2.imread(f'{rutaDogsTrain}/{dogTrain[i]}',0)\n",
    "    caracteristicas = transforma_imagen(imagen, sizeVentana, tamanoMax)\n",
    "    X.append(caracteristicas)\n",
    "\n",
    "for i in tqdm(range(len(catTrain)), desc = \"Gatos\", colour = '#88FFDD'):\n",
    "    imagen = cv2.imread(f'{rutaCatsTrain}/{catTrain[i]}',0)\n",
    "    caracteristicas = transforma_imagen(imagen, sizeVentana, tamanoMax)\n",
    "    X.append(caracteristicas)\n",
    "    \n",
    "X = np.array(X)\n",
    "y = np.hstack((np.ones(len(dogTrain)), np.zeros(len(catTrain)))).reshape(-1, 1)\n"
   ]
  },
  {
   "cell_type": "code",
   "execution_count": 78,
   "id": "4bcef508",
   "metadata": {},
   "outputs": [
    {
     "name": "stderr",
     "output_type": "stream",
     "text": [
      "Perros Test:  30%|\u001b[38;2;255;136;187m███       \u001b[0m| 6/20 [00:11<00:26,  1.89s/it]\n"
     ]
    },
    {
     "ename": "AttributeError",
     "evalue": "'NoneType' object has no attribute 'shape'",
     "output_type": "error",
     "traceback": [
      "\u001b[1;31m---------------------------------------------------------------------------\u001b[0m",
      "\u001b[1;31mAttributeError\u001b[0m                            Traceback (most recent call last)",
      "\u001b[1;32m~\\AppData\\Local\\Temp\\ipykernel_28432\\502574499.py\u001b[0m in \u001b[0;36m<module>\u001b[1;34m\u001b[0m\n\u001b[0;32m      2\u001b[0m \u001b[1;32mfor\u001b[0m \u001b[0mi\u001b[0m \u001b[1;32min\u001b[0m \u001b[0mtqdm\u001b[0m\u001b[1;33m(\u001b[0m\u001b[0mrange\u001b[0m\u001b[1;33m(\u001b[0m\u001b[0mlen\u001b[0m\u001b[1;33m(\u001b[0m\u001b[0mdogTest\u001b[0m\u001b[1;33m)\u001b[0m\u001b[1;33m)\u001b[0m\u001b[1;33m,\u001b[0m \u001b[0mdesc\u001b[0m \u001b[1;33m=\u001b[0m \u001b[1;34m\"Perros Test\"\u001b[0m\u001b[1;33m,\u001b[0m \u001b[0mcolour\u001b[0m \u001b[1;33m=\u001b[0m \u001b[1;34m'#FF88BB'\u001b[0m\u001b[1;33m)\u001b[0m\u001b[1;33m:\u001b[0m\u001b[1;33m\u001b[0m\u001b[1;33m\u001b[0m\u001b[0m\n\u001b[0;32m      3\u001b[0m     \u001b[0mimagen\u001b[0m \u001b[1;33m=\u001b[0m \u001b[0mcv2\u001b[0m\u001b[1;33m.\u001b[0m\u001b[0mimread\u001b[0m\u001b[1;33m(\u001b[0m\u001b[1;34mf'{rutaDogsTest}/{dogTest[i]}'\u001b[0m\u001b[1;33m,\u001b[0m\u001b[1;36m0\u001b[0m\u001b[1;33m)\u001b[0m\u001b[1;33m\u001b[0m\u001b[1;33m\u001b[0m\u001b[0m\n\u001b[1;32m----> 4\u001b[1;33m     \u001b[0mcaracteristicas\u001b[0m \u001b[1;33m=\u001b[0m \u001b[0mtransforma_imagen\u001b[0m\u001b[1;33m(\u001b[0m\u001b[0mimagen\u001b[0m\u001b[1;33m,\u001b[0m \u001b[0msizeVentana\u001b[0m\u001b[1;33m,\u001b[0m \u001b[0mtamanoMax\u001b[0m\u001b[1;33m)\u001b[0m\u001b[1;33m\u001b[0m\u001b[1;33m\u001b[0m\u001b[0m\n\u001b[0m\u001b[0;32m      5\u001b[0m     \u001b[0mXtest\u001b[0m\u001b[1;33m.\u001b[0m\u001b[0mappend\u001b[0m\u001b[1;33m(\u001b[0m\u001b[0mcaracteristicas\u001b[0m\u001b[1;33m)\u001b[0m\u001b[1;33m\u001b[0m\u001b[1;33m\u001b[0m\u001b[0m\n\u001b[0;32m      6\u001b[0m \u001b[1;33m\u001b[0m\u001b[0m\n",
      "\u001b[1;32m~\\AppData\\Local\\Temp\\ipykernel_28432\\2520411495.py\u001b[0m in \u001b[0;36mtransforma_imagen\u001b[1;34m(imagen, sizeVentana, tamanoMax)\u001b[0m\n\u001b[0;32m      1\u001b[0m \u001b[1;32mdef\u001b[0m \u001b[0mtransforma_imagen\u001b[0m\u001b[1;33m(\u001b[0m\u001b[0mimagen\u001b[0m\u001b[1;33m,\u001b[0m \u001b[0msizeVentana\u001b[0m\u001b[1;33m,\u001b[0m \u001b[0mtamanoMax\u001b[0m\u001b[1;33m)\u001b[0m\u001b[1;33m:\u001b[0m\u001b[1;33m\u001b[0m\u001b[1;33m\u001b[0m\u001b[0m\n\u001b[1;32m----> 2\u001b[1;33m     \u001b[0mE\u001b[0m\u001b[1;33m,\u001b[0m \u001b[0mPhi\u001b[0m \u001b[1;33m=\u001b[0m \u001b[0mgradiente\u001b[0m\u001b[1;33m(\u001b[0m\u001b[0mimagen\u001b[0m\u001b[1;33m)\u001b[0m\u001b[1;33m\u001b[0m\u001b[1;33m\u001b[0m\u001b[0m\n\u001b[0m\u001b[0;32m      3\u001b[0m     \u001b[0mPhi\u001b[0m \u001b[1;33m=\u001b[0m \u001b[0mresize_image\u001b[0m\u001b[1;33m(\u001b[0m\u001b[0mPhi\u001b[0m\u001b[1;33m,\u001b[0m \u001b[0msizeVentana\u001b[0m\u001b[1;33m,\u001b[0m \u001b[0mtamanoMax\u001b[0m\u001b[1;33m,\u001b[0m \u001b[1;32mTrue\u001b[0m\u001b[1;33m)\u001b[0m  \u001b[1;31m#Mejor recortar a True\u001b[0m\u001b[1;33m\u001b[0m\u001b[1;33m\u001b[0m\u001b[0m\n\u001b[0;32m      4\u001b[0m     \u001b[0mE\u001b[0m \u001b[1;33m=\u001b[0m \u001b[0mresize_image\u001b[0m\u001b[1;33m(\u001b[0m\u001b[0mE\u001b[0m\u001b[1;33m,\u001b[0m \u001b[0msizeVentana\u001b[0m\u001b[1;33m,\u001b[0m \u001b[0mtamanoMax\u001b[0m\u001b[1;33m,\u001b[0m \u001b[1;32mTrue\u001b[0m\u001b[1;33m)\u001b[0m \u001b[1;31m#Mejor recortar a True\u001b[0m\u001b[1;33m\u001b[0m\u001b[1;33m\u001b[0m\u001b[0m\n\u001b[0;32m      5\u001b[0m     \u001b[0mcaracteristicas\u001b[0m \u001b[1;33m=\u001b[0m \u001b[1;33m[\u001b[0m\u001b[1;33m]\u001b[0m\u001b[1;33m\u001b[0m\u001b[1;33m\u001b[0m\u001b[0m\n",
      "\u001b[1;32m~\\AppData\\Local\\Temp\\ipykernel_28432\\4242343053.py\u001b[0m in \u001b[0;36mgradiente\u001b[1;34m(imagen)\u001b[0m\n\u001b[0;32m      2\u001b[0m     \u001b[0mm_g_x\u001b[0m \u001b[1;33m=\u001b[0m \u001b[0mnp\u001b[0m\u001b[1;33m.\u001b[0m\u001b[0marray\u001b[0m\u001b[1;33m(\u001b[0m\u001b[1;33m[\u001b[0m\u001b[1;33m[\u001b[0m\u001b[1;36m0\u001b[0m\u001b[1;33m,\u001b[0m \u001b[1;33m-\u001b[0m\u001b[1;36m1\u001b[0m\u001b[1;33m,\u001b[0m \u001b[1;36m0\u001b[0m\u001b[1;33m]\u001b[0m\u001b[1;33m,\u001b[0m \u001b[1;33m[\u001b[0m\u001b[1;36m0\u001b[0m\u001b[1;33m,\u001b[0m \u001b[1;36m0\u001b[0m\u001b[1;33m,\u001b[0m \u001b[1;36m0\u001b[0m\u001b[1;33m]\u001b[0m\u001b[1;33m,\u001b[0m \u001b[1;33m[\u001b[0m\u001b[1;36m0\u001b[0m\u001b[1;33m,\u001b[0m \u001b[1;36m1\u001b[0m\u001b[1;33m,\u001b[0m \u001b[1;36m0\u001b[0m\u001b[1;33m]\u001b[0m\u001b[1;33m]\u001b[0m\u001b[1;33m)\u001b[0m\u001b[1;33m\u001b[0m\u001b[1;33m\u001b[0m\u001b[0m\n\u001b[0;32m      3\u001b[0m     \u001b[0mm_g_y\u001b[0m \u001b[1;33m=\u001b[0m \u001b[0mnp\u001b[0m\u001b[1;33m.\u001b[0m\u001b[0marray\u001b[0m\u001b[1;33m(\u001b[0m\u001b[1;33m[\u001b[0m\u001b[1;33m[\u001b[0m\u001b[1;36m0\u001b[0m\u001b[1;33m,\u001b[0m \u001b[1;36m0\u001b[0m\u001b[1;33m,\u001b[0m \u001b[1;36m0\u001b[0m\u001b[1;33m]\u001b[0m\u001b[1;33m,\u001b[0m \u001b[1;33m[\u001b[0m\u001b[1;33m-\u001b[0m\u001b[1;36m1\u001b[0m\u001b[1;33m,\u001b[0m \u001b[1;36m0\u001b[0m\u001b[1;33m,\u001b[0m \u001b[1;36m1\u001b[0m\u001b[1;33m]\u001b[0m\u001b[1;33m,\u001b[0m \u001b[1;33m[\u001b[0m\u001b[1;36m0\u001b[0m\u001b[1;33m,\u001b[0m \u001b[1;36m0\u001b[0m\u001b[1;33m,\u001b[0m \u001b[1;36m0\u001b[0m\u001b[1;33m]\u001b[0m\u001b[1;33m]\u001b[0m\u001b[1;33m)\u001b[0m\u001b[1;33m\u001b[0m\u001b[1;33m\u001b[0m\u001b[0m\n\u001b[1;32m----> 4\u001b[1;33m     \u001b[0mIx\u001b[0m \u001b[1;33m=\u001b[0m \u001b[0mfiltro\u001b[0m\u001b[1;33m(\u001b[0m\u001b[0mimagen\u001b[0m\u001b[1;33m,\u001b[0m \u001b[0mm_g_x\u001b[0m\u001b[1;33m)\u001b[0m\u001b[1;33m\u001b[0m\u001b[1;33m\u001b[0m\u001b[0m\n\u001b[0m\u001b[0;32m      5\u001b[0m     \u001b[0mIy\u001b[0m \u001b[1;33m=\u001b[0m \u001b[0mfiltro\u001b[0m\u001b[1;33m(\u001b[0m\u001b[0mimagen\u001b[0m\u001b[1;33m,\u001b[0m \u001b[0mm_g_y\u001b[0m\u001b[1;33m)\u001b[0m\u001b[1;33m\u001b[0m\u001b[1;33m\u001b[0m\u001b[0m\n\u001b[0;32m      6\u001b[0m     \u001b[0mE\u001b[0m \u001b[1;33m=\u001b[0m \u001b[0mnp\u001b[0m\u001b[1;33m.\u001b[0m\u001b[0msqrt\u001b[0m\u001b[1;33m(\u001b[0m\u001b[0mIx\u001b[0m\u001b[1;33m**\u001b[0m\u001b[1;36m2\u001b[0m \u001b[1;33m+\u001b[0m \u001b[0mIy\u001b[0m\u001b[1;33m**\u001b[0m\u001b[1;36m2\u001b[0m\u001b[1;33m)\u001b[0m\u001b[1;33m\u001b[0m\u001b[1;33m\u001b[0m\u001b[0m\n",
      "\u001b[1;32m~\\AppData\\Local\\Temp\\ipykernel_28432\\2140427648.py\u001b[0m in \u001b[0;36mfiltro\u001b[1;34m(imagen, mascara)\u001b[0m\n\u001b[0;32m      3\u001b[0m     \u001b[0mb\u001b[0m \u001b[1;33m=\u001b[0m \u001b[0mmascara\u001b[0m\u001b[1;33m.\u001b[0m\u001b[0mshape\u001b[0m\u001b[1;33m[\u001b[0m\u001b[1;36m1\u001b[0m\u001b[1;33m]\u001b[0m\u001b[1;33m//\u001b[0m\u001b[1;36m2\u001b[0m\u001b[1;33m\u001b[0m\u001b[1;33m\u001b[0m\u001b[0m\n\u001b[0;32m      4\u001b[0m     \u001b[0mimagen_ampliada\u001b[0m \u001b[1;33m=\u001b[0m \u001b[0mcv2\u001b[0m\u001b[1;33m.\u001b[0m\u001b[0mcopyMakeBorder\u001b[0m\u001b[1;33m(\u001b[0m\u001b[0mimagen\u001b[0m\u001b[1;33m,\u001b[0m \u001b[0ma\u001b[0m\u001b[1;33m,\u001b[0m \u001b[0ma\u001b[0m\u001b[1;33m,\u001b[0m \u001b[0mb\u001b[0m\u001b[1;33m,\u001b[0m \u001b[0mb\u001b[0m\u001b[1;33m,\u001b[0m \u001b[0mcv2\u001b[0m\u001b[1;33m.\u001b[0m\u001b[0mBORDER_REPLICATE\u001b[0m\u001b[1;33m)\u001b[0m\u001b[1;33m\u001b[0m\u001b[1;33m\u001b[0m\u001b[0m\n\u001b[1;32m----> 5\u001b[1;33m     \u001b[0mimagen2\u001b[0m \u001b[1;33m=\u001b[0m \u001b[0mnp\u001b[0m\u001b[1;33m.\u001b[0m\u001b[0mzeros\u001b[0m\u001b[1;33m(\u001b[0m\u001b[0mimagen\u001b[0m\u001b[1;33m.\u001b[0m\u001b[0mshape\u001b[0m\u001b[1;33m)\u001b[0m\u001b[1;33m\u001b[0m\u001b[1;33m\u001b[0m\u001b[0m\n\u001b[0m\u001b[0;32m      6\u001b[0m     \u001b[1;32mfor\u001b[0m \u001b[0mi\u001b[0m \u001b[1;32min\u001b[0m \u001b[0mrange\u001b[0m\u001b[1;33m(\u001b[0m\u001b[0ma\u001b[0m\u001b[1;33m,\u001b[0m \u001b[0mimagen\u001b[0m\u001b[1;33m.\u001b[0m\u001b[0mshape\u001b[0m\u001b[1;33m[\u001b[0m\u001b[1;36m0\u001b[0m\u001b[1;33m]\u001b[0m \u001b[1;33m+\u001b[0m \u001b[0ma\u001b[0m\u001b[1;33m)\u001b[0m\u001b[1;33m:\u001b[0m\u001b[1;33m\u001b[0m\u001b[1;33m\u001b[0m\u001b[0m\n\u001b[0;32m      7\u001b[0m         \u001b[1;32mfor\u001b[0m \u001b[0mj\u001b[0m \u001b[1;32min\u001b[0m \u001b[0mrange\u001b[0m\u001b[1;33m(\u001b[0m\u001b[0mb\u001b[0m\u001b[1;33m,\u001b[0m \u001b[0mimagen\u001b[0m\u001b[1;33m.\u001b[0m\u001b[0mshape\u001b[0m\u001b[1;33m[\u001b[0m\u001b[1;36m1\u001b[0m\u001b[1;33m]\u001b[0m \u001b[1;33m+\u001b[0m \u001b[0mb\u001b[0m\u001b[1;33m)\u001b[0m\u001b[1;33m:\u001b[0m\u001b[1;33m\u001b[0m\u001b[1;33m\u001b[0m\u001b[0m\n",
      "\u001b[1;31mAttributeError\u001b[0m: 'NoneType' object has no attribute 'shape'"
     ]
    }
   ],
   "source": [
    "Xtest = []\n",
    "for i in tqdm(range(len(dogTest)), desc = \"Perros Test\", colour = '#FF88BB'):\n",
    "    imagen = cv2.imread(f'{rutaDogsTest}/{dogTest[i]}',0)\n",
    "    caracteristicas = transforma_imagen(imagen, sizeVentana, tamanoMax)\n",
    "    Xtest.append(caracteristicas)\n",
    "\n",
    "for i in tqdm(range(len(catTest)), desc = \"Gatos Test\", colour = '#88FFE0'):\n",
    "    imagen = cv2.imread(f'{rutaCatsTest}/{catTest[i]}',0)\n",
    "    caracteristicas = transforma_imagen(imagen, sizeVentana, tamanoMax)\n",
    "    Xtest.append(caracteristicas)\n",
    "    \n",
    "Xtest = np.array(Xtest)\n",
    "ytest = np.hstack((np.ones(len(dogTest)), np.zeros(len(catTest)))).reshape(-1, 1)"
   ]
  },
  {
   "cell_type": "markdown",
   "id": "22f9985a",
   "metadata": {},
   "source": [
    "Particionamos el conjunto de datos para obtener el conjunto de validación (15%)"
   ]
  },
  {
   "cell_type": "code",
   "execution_count": null,
   "id": "988d86b4",
   "metadata": {},
   "outputs": [],
   "source": [
    "Xtrain, Xval, ytrain, yval = train_test_split(X, y, test_size = 0.15, random_state = 42)\n",
    "print(Xtrain.shape)"
   ]
  },
  {
   "cell_type": "markdown",
   "id": "7dc938ca",
   "metadata": {},
   "source": [
    "Importamos las liberías para usar redes neuronales"
   ]
  },
  {
   "cell_type": "code",
   "execution_count": 50,
   "id": "f4e23c34",
   "metadata": {},
   "outputs": [
    {
     "name": "stdout",
     "output_type": "stream",
     "text": [
      "[PhysicalDevice(name='/physical_device:CPU:0', device_type='CPU'), PhysicalDevice(name='/physical_device:GPU:0', device_type='GPU')]\n",
      "Número de GPUs disponibles:  1\n"
     ]
    }
   ],
   "source": [
    "import tensorflow as tf\n",
    "from tensorflow.keras.models import Sequential\n",
    "from tensorflow.keras.layers import Dense, Dropout, Flatten, Conv1D, MaxPooling1D, LSTM, TimeDistributed, GRU, SimpleRNN\n",
    "import tensorflow.keras as keras\n",
    "\n",
    "print(tf.config.list_physical_devices())\n",
    "print(\"Número de GPUs disponibles: \", len(tf.config.experimental.list_physical_devices('GPU')))"
   ]
  },
  {
   "cell_type": "markdown",
   "id": "9d0241fc",
   "metadata": {},
   "source": [
    "Creamos un modelo simple porque no nos vamos a centrar en redes neuronales, más adelante utilizaremos SVMs."
   ]
  },
  {
   "cell_type": "code",
   "execution_count": 51,
   "id": "37ba26b9",
   "metadata": {},
   "outputs": [
    {
     "name": "stdout",
     "output_type": "stream",
     "text": [
      "Model: \"sequential_2\"\n",
      "_________________________________________________________________\n",
      " Layer (type)                Output Shape              Param #   \n",
      "=================================================================\n",
      " dense_6 (Dense)             (None, 32)                64832     \n",
      "                                                                 \n",
      " dropout_2 (Dropout)         (None, 32)                0         \n",
      "                                                                 \n",
      " dense_7 (Dense)             (None, 32)                1056      \n",
      "                                                                 \n",
      " dense_8 (Dense)             (None, 1)                 33        \n",
      "                                                                 \n",
      "=================================================================\n",
      "Total params: 65,921\n",
      "Trainable params: 65,921\n",
      "Non-trainable params: 0\n",
      "_________________________________________________________________\n"
     ]
    }
   ],
   "source": [
    "model = Sequential([\n",
    "    Dense(32, input_shape = (2025,)),\n",
    "    Dropout(0.28),\n",
    "    Dense(32),\n",
    "    Dense(1, activation = 'sigmoid')\n",
    "])\n",
    "model.summary()\n",
    "model.compile(optimizer = keras.optimizers.Adamax(), loss = keras.losses.binary_crossentropy, metrics = ['acc'])"
   ]
  },
  {
   "cell_type": "code",
   "execution_count": 52,
   "id": "afd3a1c8",
   "metadata": {},
   "outputs": [
    {
     "name": "stdout",
     "output_type": "stream",
     "text": [
      "Epoch 1/64\n",
      "1/1 [==============================] - 1s 580ms/step - loss: 0.7300 - acc: 0.5353 - val_loss: 1.6227 - val_acc: 0.4667\n",
      "Epoch 2/64\n",
      "1/1 [==============================] - 0s 42ms/step - loss: 1.4499 - acc: 0.5059 - val_loss: 1.0501 - val_acc: 0.4667\n",
      "Epoch 3/64\n",
      "1/1 [==============================] - 0s 43ms/step - loss: 0.9688 - acc: 0.5118 - val_loss: 0.6994 - val_acc: 0.6000\n",
      "Epoch 4/64\n",
      "1/1 [==============================] - 0s 48ms/step - loss: 0.7022 - acc: 0.5588 - val_loss: 0.7920 - val_acc: 0.5333\n",
      "Epoch 5/64\n",
      "1/1 [==============================] - 0s 40ms/step - loss: 0.8629 - acc: 0.4941 - val_loss: 0.8732 - val_acc: 0.5333\n",
      "Epoch 6/64\n",
      "1/1 [==============================] - 0s 44ms/step - loss: 0.9505 - acc: 0.4941 - val_loss: 0.8337 - val_acc: 0.5333\n",
      "Epoch 7/64\n",
      "1/1 [==============================] - 0s 40ms/step - loss: 0.8850 - acc: 0.4941 - val_loss: 0.7431 - val_acc: 0.5333\n",
      "Epoch 8/64\n",
      "1/1 [==============================] - 0s 41ms/step - loss: 0.7600 - acc: 0.4882 - val_loss: 0.6955 - val_acc: 0.5667\n",
      "Epoch 9/64\n",
      "1/1 [==============================] - 0s 40ms/step - loss: 0.6794 - acc: 0.5647 - val_loss: 0.7291 - val_acc: 0.4333\n",
      "Epoch 10/64\n",
      "1/1 [==============================] - 0s 42ms/step - loss: 0.6834 - acc: 0.5294 - val_loss: 0.7977 - val_acc: 0.4667\n",
      "Epoch 11/64\n",
      "1/1 [==============================] - 0s 43ms/step - loss: 0.7056 - acc: 0.5176 - val_loss: 0.8436 - val_acc: 0.4667\n",
      "Epoch 12/64\n",
      "1/1 [==============================] - 0s 44ms/step - loss: 0.7490 - acc: 0.5235 - val_loss: 0.8443 - val_acc: 0.4667\n",
      "Epoch 13/64\n",
      "1/1 [==============================] - 0s 41ms/step - loss: 0.7620 - acc: 0.5118 - val_loss: 0.8053 - val_acc: 0.4667\n",
      "Epoch 14/64\n",
      "1/1 [==============================] - 0s 40ms/step - loss: 0.7131 - acc: 0.5118 - val_loss: 0.7523 - val_acc: 0.4667\n",
      "Epoch 15/64\n",
      "1/1 [==============================] - 0s 42ms/step - loss: 0.6730 - acc: 0.5412 - val_loss: 0.7116 - val_acc: 0.4667\n",
      "Epoch 16/64\n",
      "1/1 [==============================] - 0s 44ms/step - loss: 0.6679 - acc: 0.5471 - val_loss: 0.6948 - val_acc: 0.5667\n",
      "Epoch 17/64\n",
      "1/1 [==============================] - 0s 43ms/step - loss: 0.6432 - acc: 0.6824 - val_loss: 0.6958 - val_acc: 0.5667\n",
      "Epoch 18/64\n",
      "1/1 [==============================] - 0s 43ms/step - loss: 0.6595 - acc: 0.5706 - val_loss: 0.7021 - val_acc: 0.5000\n",
      "Epoch 19/64\n",
      "1/1 [==============================] - 0s 42ms/step - loss: 0.6818 - acc: 0.5588 - val_loss: 0.7047 - val_acc: 0.5000\n",
      "Epoch 20/64\n",
      "1/1 [==============================] - 0s 40ms/step - loss: 0.6647 - acc: 0.5765 - val_loss: 0.7018 - val_acc: 0.5000\n",
      "Epoch 21/64\n",
      "1/1 [==============================] - 0s 50ms/step - loss: 0.6677 - acc: 0.5941 - val_loss: 0.6964 - val_acc: 0.5667\n",
      "Epoch 22/64\n",
      "1/1 [==============================] - 0s 41ms/step - loss: 0.6459 - acc: 0.6176 - val_loss: 0.6936 - val_acc: 0.6333\n",
      "Epoch 23/64\n",
      "1/1 [==============================] - 0s 38ms/step - loss: 0.6282 - acc: 0.6647 - val_loss: 0.6974 - val_acc: 0.6000\n",
      "Epoch 24/64\n",
      "1/1 [==============================] - 0s 46ms/step - loss: 0.6402 - acc: 0.6471 - val_loss: 0.7075 - val_acc: 0.5000\n",
      "Epoch 25/64\n",
      "1/1 [==============================] - 0s 44ms/step - loss: 0.6328 - acc: 0.6118 - val_loss: 0.7200 - val_acc: 0.5000\n",
      "Epoch 26/64\n",
      "1/1 [==============================] - 0s 56ms/step - loss: 0.6245 - acc: 0.6471 - val_loss: 0.7297 - val_acc: 0.5000\n",
      "Epoch 27/64\n",
      "1/1 [==============================] - 0s 60ms/step - loss: 0.6268 - acc: 0.6059 - val_loss: 0.7339 - val_acc: 0.5000\n",
      "Epoch 28/64\n",
      "1/1 [==============================] - 0s 44ms/step - loss: 0.6297 - acc: 0.5824 - val_loss: 0.7311 - val_acc: 0.5000\n",
      "Epoch 29/64\n",
      "1/1 [==============================] - 0s 41ms/step - loss: 0.6312 - acc: 0.5765 - val_loss: 0.7227 - val_acc: 0.5000\n",
      "Epoch 30/64\n",
      "1/1 [==============================] - 0s 41ms/step - loss: 0.6237 - acc: 0.6118 - val_loss: 0.7130 - val_acc: 0.5667\n",
      "Epoch 31/64\n",
      "1/1 [==============================] - 0s 41ms/step - loss: 0.6098 - acc: 0.6588 - val_loss: 0.7051 - val_acc: 0.5667\n",
      "Epoch 32/64\n",
      "1/1 [==============================] - 0s 42ms/step - loss: 0.6112 - acc: 0.6882 - val_loss: 0.6992 - val_acc: 0.6000\n",
      "Epoch 33/64\n",
      "1/1 [==============================] - 0s 43ms/step - loss: 0.6191 - acc: 0.6882 - val_loss: 0.6960 - val_acc: 0.6333\n",
      "Epoch 34/64\n",
      "1/1 [==============================] - 0s 48ms/step - loss: 0.5997 - acc: 0.7353 - val_loss: 0.6948 - val_acc: 0.6667\n",
      "Epoch 35/64\n",
      "1/1 [==============================] - 0s 43ms/step - loss: 0.6146 - acc: 0.6882 - val_loss: 0.6946 - val_acc: 0.6667\n",
      "Epoch 36/64\n",
      "1/1 [==============================] - 0s 47ms/step - loss: 0.6178 - acc: 0.6706 - val_loss: 0.6947 - val_acc: 0.6667\n",
      "Epoch 37/64\n",
      "1/1 [==============================] - 0s 48ms/step - loss: 0.5961 - acc: 0.7118 - val_loss: 0.6951 - val_acc: 0.6667\n",
      "Epoch 38/64\n",
      "1/1 [==============================] - 0s 43ms/step - loss: 0.6089 - acc: 0.7000 - val_loss: 0.6960 - val_acc: 0.6667\n",
      "Epoch 39/64\n",
      "1/1 [==============================] - 0s 43ms/step - loss: 0.6009 - acc: 0.7118 - val_loss: 0.6977 - val_acc: 0.6333\n",
      "Epoch 40/64\n",
      "1/1 [==============================] - 0s 47ms/step - loss: 0.5962 - acc: 0.7294 - val_loss: 0.7004 - val_acc: 0.6333\n",
      "Epoch 41/64\n",
      "1/1 [==============================] - 0s 42ms/step - loss: 0.5890 - acc: 0.7118 - val_loss: 0.7035 - val_acc: 0.6000\n",
      "Epoch 42/64\n",
      "1/1 [==============================] - 0s 39ms/step - loss: 0.5941 - acc: 0.7294 - val_loss: 0.7065 - val_acc: 0.6000\n",
      "Epoch 43/64\n",
      "1/1 [==============================] - 0s 44ms/step - loss: 0.5996 - acc: 0.7412 - val_loss: 0.7082 - val_acc: 0.6000\n",
      "Epoch 44/64\n",
      "1/1 [==============================] - 0s 48ms/step - loss: 0.5941 - acc: 0.7235 - val_loss: 0.7089 - val_acc: 0.6000\n",
      "Epoch 45/64\n",
      "1/1 [==============================] - 0s 47ms/step - loss: 0.5914 - acc: 0.7176 - val_loss: 0.7082 - val_acc: 0.6000\n",
      "Epoch 46/64\n",
      "1/1 [==============================] - 0s 42ms/step - loss: 0.5850 - acc: 0.7471 - val_loss: 0.7065 - val_acc: 0.6000\n",
      "Epoch 47/64\n",
      "1/1 [==============================] - 0s 42ms/step - loss: 0.5840 - acc: 0.7412 - val_loss: 0.7042 - val_acc: 0.6333\n",
      "Epoch 48/64\n",
      "1/1 [==============================] - 0s 44ms/step - loss: 0.5811 - acc: 0.7353 - val_loss: 0.7021 - val_acc: 0.6333\n",
      "Epoch 49/64\n",
      "1/1 [==============================] - 0s 56ms/step - loss: 0.5829 - acc: 0.7471 - val_loss: 0.7007 - val_acc: 0.6667\n",
      "Epoch 50/64\n",
      "1/1 [==============================] - 0s 53ms/step - loss: 0.5708 - acc: 0.7647 - val_loss: 0.6995 - val_acc: 0.6333\n",
      "Epoch 51/64\n",
      "1/1 [==============================] - 0s 46ms/step - loss: 0.5843 - acc: 0.7412 - val_loss: 0.6989 - val_acc: 0.6333\n",
      "Epoch 52/64\n",
      "1/1 [==============================] - 0s 48ms/step - loss: 0.5820 - acc: 0.7529 - val_loss: 0.6990 - val_acc: 0.6333\n",
      "Epoch 53/64\n",
      "1/1 [==============================] - 0s 44ms/step - loss: 0.5741 - acc: 0.7471 - val_loss: 0.6995 - val_acc: 0.6333\n",
      "Epoch 54/64\n",
      "1/1 [==============================] - 0s 45ms/step - loss: 0.5829 - acc: 0.7294 - val_loss: 0.7003 - val_acc: 0.6333\n",
      "Epoch 55/64\n",
      "1/1 [==============================] - 0s 39ms/step - loss: 0.5797 - acc: 0.7647 - val_loss: 0.7016 - val_acc: 0.6667\n",
      "Epoch 56/64\n",
      "1/1 [==============================] - 0s 40ms/step - loss: 0.5614 - acc: 0.7706 - val_loss: 0.7032 - val_acc: 0.7000\n",
      "Epoch 57/64\n",
      "1/1 [==============================] - 0s 42ms/step - loss: 0.5701 - acc: 0.7765 - val_loss: 0.7049 - val_acc: 0.6667\n",
      "Epoch 58/64\n",
      "1/1 [==============================] - 0s 39ms/step - loss: 0.5577 - acc: 0.7647 - val_loss: 0.7061 - val_acc: 0.6667\n",
      "Epoch 59/64\n",
      "1/1 [==============================] - 0s 37ms/step - loss: 0.5695 - acc: 0.7588 - val_loss: 0.7066 - val_acc: 0.6667\n",
      "Epoch 60/64\n",
      "1/1 [==============================] - 0s 36ms/step - loss: 0.5608 - acc: 0.7647 - val_loss: 0.7062 - val_acc: 0.6667\n",
      "Epoch 61/64\n",
      "1/1 [==============================] - 0s 39ms/step - loss: 0.5661 - acc: 0.7412 - val_loss: 0.7051 - val_acc: 0.6667\n",
      "Epoch 62/64\n",
      "1/1 [==============================] - 0s 43ms/step - loss: 0.5603 - acc: 0.7765 - val_loss: 0.7043 - val_acc: 0.7000\n",
      "Epoch 63/64\n",
      "1/1 [==============================] - 0s 41ms/step - loss: 0.5563 - acc: 0.7647 - val_loss: 0.7037 - val_acc: 0.7000\n",
      "Epoch 64/64\n"
     ]
    },
    {
     "name": "stdout",
     "output_type": "stream",
     "text": [
      "1/1 [==============================] - 0s 38ms/step - loss: 0.5619 - acc: 0.7353 - val_loss: 0.7030 - val_acc: 0.6667\n"
     ]
    }
   ],
   "source": [
    "historico = model.fit(\n",
    "    Xtrain, \n",
    "    ytrain, \n",
    "    batch_size = 1000, \n",
    "    epochs = 64,\n",
    "    validation_data= (Xval, yval)\n",
    ")"
   ]
  },
  {
   "cell_type": "code",
   "execution_count": 53,
   "id": "ccfaa0f9",
   "metadata": {},
   "outputs": [
    {
     "data": {
      "image/png": "[encoded data removed]",
      "text/plain": [
       "<Figure size 640x480 with 1 Axes>"
      ]
     },
     "metadata": {},
     "output_type": "display_data"
    }
   ],
   "source": [
    "historial = historico.history\n",
    "plt.title('Gráfica de coste')\n",
    "plt.xlabel('Epochs')\n",
    "plt.ylabel('Coste')\n",
    "plt.plot(historial['loss'])\n",
    "plt.plot(historial['val_loss'])\n",
    "plt.legend([\"Train\", \"Val\"]);"
   ]
  },
  {
   "cell_type": "code",
   "execution_count": 54,
   "id": "7385dabd",
   "metadata": {},
   "outputs": [
    {
     "data": {
      "image/png": "[encoded data removed]",
      "text/plain": [
       "<Figure size 640x480 with 1 Axes>"
      ]
     },
     "metadata": {},
     "output_type": "display_data"
    }
   ],
   "source": [
    "plt.title('Gráfica de accuracy')\n",
    "plt.xlabel('Epochs')\n",
    "plt.ylabel('Accuracy')\n",
    "plt.plot(historial['acc'])\n",
    "plt.plot(historial['val_acc'])\n",
    "plt.legend([\"Train\", \"Val\"]);"
   ]
  },
  {
   "cell_type": "code",
   "execution_count": 55,
   "id": "aaddcade",
   "metadata": {},
   "outputs": [
    {
     "name": "stdout",
     "output_type": "stream",
     "text": [
      "2/2 [==============================] - 0s 3ms/step\n",
      "Precisión en test: 65.0%\n"
     ]
    }
   ],
   "source": [
    "prediccion = model.predict(Xtest)\n",
    "aciertos = np.sum(np.round(prediccion) == ytest)\n",
    "print(f'Precisión en test: {aciertos/ytest.shape[0]*100}%')"
   ]
  },
  {
   "cell_type": "markdown",
   "id": "0f61b18d",
   "metadata": {},
   "source": [
    "## SVMs"
   ]
  },
  {
   "cell_type": "code",
   "execution_count": 69,
   "id": "83db18b9",
   "metadata": {},
   "outputs": [
    {
     "name": "stdout",
     "output_type": "stream",
     "text": [
      "Precisión en train: 100.0%\n",
      "Precisión en test: 85.0%\n"
     ]
    }
   ],
   "source": [
    "# Importamos las SVMs\n",
    "from sklearn import svm\n",
    "from sklearn.pipeline import make_pipeline\n",
    "from sklearn.preprocessing import StandardScaler\n",
    "\n",
    "# Creamos un clasificador SVM usando svm.SVC con kernel='linear', C = 1.0\n",
    "#clf = make_pipeline(StandardScaler(),  svm.SVC(kernel = 'linear', C = 1))\n",
    "clf = make_pipeline(StandardScaler(),  svm.SVC(C = 3))\n",
    "\n",
    "# Entrenamos el modelo\n",
    "clf.fit(X, y.ravel())\n",
    "# Obtenemos la precisión\n",
    "accTrain = clf.score(X, y)\n",
    "print(\"Precisión en train: {}%\".format(accTrain*100))\n",
    "\n",
    "print(f\"Precisión en test: {clf.score(Xtest, ytest)*100}%\")"
   ]
  },
  {
   "cell_type": "markdown",
   "id": "3094f5eb",
   "metadata": {},
   "source": [
    "#### Hemos obtenido un 90% de precisión en Test con ambos modelos."
   ]
  }
 ],
 "metadata": {
  "kernelspec": {
   "display_name": "Python 3 (ipykernel)",
   "language": "python",
   "name": "python3"
  },
  "language_info": {
   "codemirror_mode": {
    "name": "ipython",
    "version": 3
   },
   "file_extension": ".py",
   "mimetype": "text/x-python",
   "name": "python",
   "nbconvert_exporter": "python",
   "pygments_lexer": "ipython3",
   "version": "3.9.13"
  }
 },
 "nbformat": 4,
 "nbformat_minor": 5
}
