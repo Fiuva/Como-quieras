{
 "cells": [
  {
   "cell_type": "code",
   "execution_count": 1,
   "id": "ef323476",
   "metadata": {},
   "outputs": [],
   "source": [
    "import numpy as np\n",
    "import cv2\n",
    "from tqdm import tqdm\n",
    "from sklearn.model_selection import train_test_split\n",
    "import matplotlib.pyplot as plt "
   ]
  },
  {
   "cell_type": "code",
   "execution_count": 2,
   "id": "5e7e4c1b",
   "metadata": {},
   "outputs": [],
   "source": [
    "rutaDogsTrain = 'cat_dog_100/train/dog'\n",
    "rutaDogsTest = 'cat_dog_100/test/dog'\n",
    "rutaCatsTrain = 'cat_dog_100/train/cat'\n",
    "rutaCatsTest = 'cat_dog_100/test/cat'\n",
    "\n",
    "tamanoMax = 128\n",
    "sizeVentana = 16\n",
    "tamanoMax = int(tamanoMax/sizeVentana)*sizeVentana"
   ]
  },
  {
   "cell_type": "code",
   "execution_count": 3,
   "id": "1648a6fc",
   "metadata": {},
   "outputs": [
    {
     "name": "stdout",
     "output_type": "stream",
     "text": [
      "cat_dog_100/train/dog/dog.10000.jpg\n"
     ]
    }
   ],
   "source": [
    "from os import walk\n",
    "\n",
    "dogTrain = []\n",
    "dogTest = []\n",
    "catTest = []\n",
    "catTrain = []\n",
    "for (dirpath, dirnames, filenames) in walk(rutaDogsTrain):\n",
    "    dogTrain.extend(filenames)\n",
    "    \n",
    "for (dirpath, dirnames, filenames) in walk(rutaDogsTest):\n",
    "    dogTest.extend(filenames)\n",
    "\n",
    "for (dirpath, dirnames, filenames) in walk(rutaCatsTest):\n",
    "    catTest.extend(filenames)\n",
    "\n",
    "for (dirpath, dirnames, filenames) in walk(rutaCatsTrain):\n",
    "    catTrain.extend(filenames)\n",
    "    \n",
    "print(f'{rutaDogsTrain}/{dogTrain[0]}')"
   ]
  },
  {
   "cell_type": "code",
   "execution_count": 4,
   "id": "79703d30",
   "metadata": {},
   "outputs": [],
   "source": [
    "def filtro(imagen, mascara):\n",
    "    a = mascara.shape[0]//2\n",
    "    b = mascara.shape[1]//2\n",
    "    imagen_ampliada = cv2.copyMakeBorder(imagen, a, a, b, b, cv2.BORDER_REPLICATE)\n",
    "    imagen2 = np.zeros(imagen.shape)\n",
    "    for i in range(a, imagen.shape[0] + a):\n",
    "        for j in range(b, imagen.shape[1] + b):\n",
    "            imagen2[i-a, j-b] = np.sum(imagen_ampliada[i-a:i+a+1, j-b:j+b+1] * mascara)\n",
    "            \n",
    "    return imagen2"
   ]
  },
  {
   "cell_type": "code",
   "execution_count": 5,
   "id": "3cc49f0a",
   "metadata": {},
   "outputs": [],
   "source": [
    "def gradiente(imagen):\n",
    "    m_g_x = np.array([[0, -1, 0], [0, 0, 0], [0, 1, 0]])\n",
    "    m_g_y = np.array([[0, 0, 0], [-1, 0, 1], [0, 0, 0]])\n",
    "    Ix = filtro(imagen, m_g_x)\n",
    "    Iy = filtro(imagen, m_g_y)\n",
    "    E = np.sqrt(Ix**2 + Iy**2)\n",
    "    Phi = np.rad2deg(np.arctan2(Iy, Ix))\n",
    "    \n",
    "    return E, Phi"
   ]
  },
  {
   "cell_type": "code",
   "execution_count": 6,
   "id": "36b00274",
   "metadata": {},
   "outputs": [],
   "source": [
    "def transforma_bloque2(celdaPhi, celdaE, bins = 9):\n",
    "    celdaPhi = np.abs(celdaPhi)\n",
    "    hp = cv2.calcHist([np.uint8(celdaPhi)], [0], None, [bins], [0, 180])\n",
    "    a = 180/bins \n",
    "    for i in range(bins):\n",
    "        hp[i] += np.sum(celdaE[(celdaPhi > a*i) & (celdaPhi < -a*(i+1))])\n",
    "    hp = hp / np.sqrt(np.sum(hp**2)) #Normalizar\n",
    "    return np.ravel(hp)"
   ]
  },
  {
   "cell_type": "code",
   "execution_count": 58,
   "id": "acb14469",
   "metadata": {},
   "outputs": [],
   "source": [
    "def transforma_imagen2(imagen, sizeVentana, tamanoMax):\n",
    "    E, Phi = gradiente(imagen)\n",
    "    Phi = resize_image(Phi, sizeVentana, tamanoMax, False)  #Mejor recortar a True\n",
    "    E = resize_image(E, sizeVentana, tamanoMax, False) #Mejor recortar a True\n",
    "    caracteristicas = []\n",
    "    a = int(Phi.shape[0]/sizeVentana)\n",
    "    for i in range(a):\n",
    "        for j in range(a):\n",
    "            celdaPhi = Phi[i*sizeVentana:(i+1)*sizeVentana,j*sizeVentana:(j+1)*sizeVentana]\n",
    "            celdaE = E[i*sizeVentana:(i+1)*sizeVentana,j*sizeVentana:(j+1)*sizeVentana]\n",
    "            h = transforma_bloque2(celdaPhi, celdaE)  \n",
    "            caracteristicas.append(h)\n",
    "    return np.concatenate(caracteristicas)"
   ]
  },
  {
   "cell_type": "code",
   "execution_count": 8,
   "id": "841f1eb7",
   "metadata": {},
   "outputs": [],
   "source": [
    "def normalizar(caracteristicas, m, bins = 9):\n",
    "    a = int(np.sqrt(caracteristicas.shape[0] / bins))\n",
    "    caracteristicas = caracteristicas.reshape(a, a, bins)\n",
    "    copia = []\n",
    "    for i in range(caracteristicas.shape[0] - m//2):\n",
    "        for j in range(caracteristicas.shape[1] - m//2):\n",
    "            bloque = caracteristicas[i:i+m, j:j+m]\n",
    "            copia.append(bloque / np.sqrt(np.sum(bloque**2)))\n",
    "    return np.ravel(copia)"
   ]
  },
  {
   "cell_type": "code",
   "execution_count": 9,
   "id": "d2c43bbf",
   "metadata": {},
   "outputs": [],
   "source": [
    "def recorta_imagen(imagen, n):\n",
    "    \"\"\"\n",
    "    Esta función recibe una imagen y un tamaño n y recorta la imagen de tal manera que el número final de filas/columnas \n",
    "    sea múltiplo de n. La funció debe recortar las filas de la derecha/abajo.\n",
    "    \"\"\"\n",
    "    size = np.min([int(imagen.shape[0]/n)*n, int(imagen.shape[1]/n)*n])\n",
    "    return imagen[:size, :size]\n",
    "\n",
    "def resize_image(imagen, sizeVentana, tamanoMax, recorta=False):\n",
    "    if(recorta): imagen = recorta_imagen(imagen, sizeVentana)\n",
    "    imagen2 = cv2.resize(imagen, [tamanoMax,tamanoMax])\n",
    "    return imagen2"
   ]
  },
  {
   "cell_type": "code",
   "execution_count": 59,
   "id": "44cc5cca",
   "metadata": {},
   "outputs": [
    {
     "name": "stderr",
     "output_type": "stream",
     "text": [
      "Perros: 100%|\u001b[38;2;255;136;248m██████████\u001b[0m| 100/100 [04:20<00:00,  2.60s/it]\n",
      "Gatos: 100%|\u001b[38;2;136;255;221m██████████\u001b[0m| 100/100 [03:53<00:00,  2.34s/it]\n"
     ]
    }
   ],
   "source": [
    "X = []\n",
    "m = 2\n",
    "for i in tqdm(range(len(dogTrain)), desc = \"Perros\", colour = '#FF88F8'):\n",
    "    imagen = cv2.imread(f'{rutaDogsTrain}/{dogTrain[i]}',0)\n",
    "    caracteristicas = transforma_imagen2(imagen, sizeVentana, tamanoMax)\n",
    "    #caracteristicas = normalizar(caracteristicas, m)\n",
    "    X.append(caracteristicas)\n",
    "\n",
    "for i in tqdm(range(len(catTrain)), desc = \"Gatos\", colour = '#88FFDD'):\n",
    "    imagen = cv2.imread(f'{rutaCatsTrain}/{catTrain[i]}',0)\n",
    "    caracteristicas = transforma_imagen2(imagen, sizeVentana, tamanoMax)\n",
    "    #caracteristicas = normalizar(caracteristicas, m)\n",
    "    X.append(caracteristicas)\n",
    "    \n",
    "X = np.array(X)\n",
    "y = np.hstack((np.ones(len(dogTrain)), np.zeros(len(catTrain)))).reshape(-1, 1)\n"
   ]
  },
  {
   "cell_type": "code",
   "execution_count": 60,
   "id": "4bcef508",
   "metadata": {},
   "outputs": [
    {
     "name": "stderr",
     "output_type": "stream",
     "text": [
      "Perros Test: 100%|\u001b[38;2;255;136;187m██████████\u001b[0m| 20/20 [01:03<00:00,  3.16s/it]\n",
      "Gatos Test: 100%|\u001b[38;2;136;255;224m██████████\u001b[0m| 20/20 [00:55<00:00,  2.76s/it]\n"
     ]
    }
   ],
   "source": [
    "Xtest = []\n",
    "for i in tqdm(range(len(dogTest)), desc = \"Perros Test\", colour = '#FF88BB'):\n",
    "    imagen = cv2.imread(f'{rutaDogsTest}/{dogTest[i]}',0)\n",
    "    caracteristicas = transforma_imagen2(imagen, sizeVentana, tamanoMax)\n",
    "    #caracteristicas = normalizar(caracteristicas, m)\n",
    "    Xtest.append(caracteristicas)\n",
    "\n",
    "for i in tqdm(range(len(catTest)), desc = \"Gatos Test\", colour = '#88FFE0'):\n",
    "    imagen = cv2.imread(f'{rutaCatsTest}/{catTest[i]}',0)\n",
    "    caracteristicas = transforma_imagen2(imagen, sizeVentana, tamanoMax)\n",
    "    #caracteristicas = normalizar(caracteristicas, m)\n",
    "    Xtest.append(caracteristicas)\n",
    "    \n",
    "Xtest = np.array(Xtest)\n",
    "ytest = np.hstack((np.ones(len(dogTest)), np.zeros(len(catTest)))).reshape(-1, 1)"
   ]
  },
  {
   "cell_type": "code",
   "execution_count": 61,
   "id": "988d86b4",
   "metadata": {},
   "outputs": [
    {
     "name": "stdout",
     "output_type": "stream",
     "text": [
      "(170, 576)\n"
     ]
    }
   ],
   "source": [
    "Xtrain, Xval, ytrain, yval = train_test_split(X, y, test_size = 0.15, random_state = 42)\n",
    "print(Xtrain.shape)"
   ]
  },
  {
   "cell_type": "code",
   "execution_count": 62,
   "id": "f4e23c34",
   "metadata": {},
   "outputs": [
    {
     "name": "stdout",
     "output_type": "stream",
     "text": [
      "[PhysicalDevice(name='/physical_device:CPU:0', device_type='CPU'), PhysicalDevice(name='/physical_device:GPU:0', device_type='GPU')]\n",
      "Número de GPUs disponibles:  1\n"
     ]
    }
   ],
   "source": [
    "import tensorflow as tf\n",
    "from tensorflow.keras.models import Sequential\n",
    "from tensorflow.keras.layers import Dense, Dropout, Flatten, Conv1D, MaxPooling1D, LSTM, TimeDistributed, GRU, SimpleRNN\n",
    "import tensorflow.keras as keras\n",
    "\n",
    "#Para ver si detecta la GPU (si no, hacer \"conda install -c conda-forge cudnn\" o algo así)\n",
    "print(tf.config.list_physical_devices())\n",
    "print(\"Número de GPUs disponibles: \", len(tf.config.experimental.list_physical_devices('GPU')))"
   ]
  },
  {
   "cell_type": "code",
   "execution_count": 63,
   "id": "37ba26b9",
   "metadata": {},
   "outputs": [
    {
     "name": "stdout",
     "output_type": "stream",
     "text": [
      "Model: \"sequential_4\"\n",
      "_________________________________________________________________\n",
      " Layer (type)                Output Shape              Param #   \n",
      "=================================================================\n",
      " dense_8 (Dense)             (None, 64)                36928     \n",
      "                                                                 \n",
      " dense_9 (Dense)             (None, 1)                 65        \n",
      "                                                                 \n",
      "=================================================================\n",
      "Total params: 36,993\n",
      "Trainable params: 36,993\n",
      "Non-trainable params: 0\n",
      "_________________________________________________________________\n"
     ]
    }
   ],
   "source": [
    "model = Sequential([\n",
    "    Dense(64, input_shape = (576, )),\n",
    "    Dense(1, activation = 'sigmoid')\n",
    "])\n",
    "model.summary()\n"
   ]
  },
  {
   "cell_type": "code",
   "execution_count": 64,
   "id": "08e805d4",
   "metadata": {},
   "outputs": [],
   "source": [
    "model.compile(optimizer = keras.optimizers.Adamax(), loss = keras.losses.binary_crossentropy, metrics = ['acc'])"
   ]
  },
  {
   "cell_type": "code",
   "execution_count": 77,
   "id": "afd3a1c8",
   "metadata": {},
   "outputs": [
    {
     "name": "stdout",
     "output_type": "stream",
     "text": [
      "Epoch 1/32\n",
      "1/1 [==============================] - 0s 73ms/step - loss: 0.2939 - acc: 0.9412 - val_loss: 0.6012 - val_acc: 0.6333\n",
      "Epoch 2/32\n",
      "1/1 [==============================] - 0s 41ms/step - loss: 0.2923 - acc: 0.9412 - val_loss: 0.6015 - val_acc: 0.6333\n",
      "Epoch 3/32\n",
      "1/1 [==============================] - 0s 38ms/step - loss: 0.2908 - acc: 0.9412 - val_loss: 0.6019 - val_acc: 0.6333\n",
      "Epoch 4/32\n",
      "1/1 [==============================] - 0s 41ms/step - loss: 0.2893 - acc: 0.9412 - val_loss: 0.6022 - val_acc: 0.6333\n",
      "Epoch 5/32\n",
      "1/1 [==============================] - 0s 41ms/step - loss: 0.2877 - acc: 0.9412 - val_loss: 0.6026 - val_acc: 0.6333\n",
      "Epoch 6/32\n",
      "1/1 [==============================] - 0s 41ms/step - loss: 0.2862 - acc: 0.9471 - val_loss: 0.6030 - val_acc: 0.6333\n",
      "Epoch 7/32\n",
      "1/1 [==============================] - 0s 39ms/step - loss: 0.2847 - acc: 0.9471 - val_loss: 0.6033 - val_acc: 0.6333\n",
      "Epoch 8/32\n",
      "1/1 [==============================] - 0s 41ms/step - loss: 0.2832 - acc: 0.9471 - val_loss: 0.6037 - val_acc: 0.6333\n",
      "Epoch 9/32\n",
      "1/1 [==============================] - 0s 42ms/step - loss: 0.2817 - acc: 0.9529 - val_loss: 0.6041 - val_acc: 0.6333\n",
      "Epoch 10/32\n",
      "1/1 [==============================] - 0s 47ms/step - loss: 0.2802 - acc: 0.9529 - val_loss: 0.6045 - val_acc: 0.6333\n",
      "Epoch 11/32\n",
      "1/1 [==============================] - 0s 46ms/step - loss: 0.2787 - acc: 0.9529 - val_loss: 0.6049 - val_acc: 0.6333\n",
      "Epoch 12/32\n",
      "1/1 [==============================] - 0s 45ms/step - loss: 0.2772 - acc: 0.9529 - val_loss: 0.6053 - val_acc: 0.6333\n",
      "Epoch 13/32\n",
      "1/1 [==============================] - 0s 52ms/step - loss: 0.2757 - acc: 0.9529 - val_loss: 0.6057 - val_acc: 0.6333\n",
      "Epoch 14/32\n",
      "1/1 [==============================] - 0s 61ms/step - loss: 0.2742 - acc: 0.9529 - val_loss: 0.6061 - val_acc: 0.6333\n",
      "Epoch 15/32\n",
      "1/1 [==============================] - 0s 43ms/step - loss: 0.2727 - acc: 0.9529 - val_loss: 0.6065 - val_acc: 0.6333\n",
      "Epoch 16/32\n",
      "1/1 [==============================] - 0s 41ms/step - loss: 0.2712 - acc: 0.9529 - val_loss: 0.6069 - val_acc: 0.6333\n",
      "Epoch 17/32\n",
      "1/1 [==============================] - 0s 44ms/step - loss: 0.2697 - acc: 0.9529 - val_loss: 0.6073 - val_acc: 0.6333\n",
      "Epoch 18/32\n",
      "1/1 [==============================] - 0s 46ms/step - loss: 0.2683 - acc: 0.9529 - val_loss: 0.6077 - val_acc: 0.6333\n",
      "Epoch 19/32\n",
      "1/1 [==============================] - 0s 42ms/step - loss: 0.2668 - acc: 0.9529 - val_loss: 0.6082 - val_acc: 0.6333\n",
      "Epoch 20/32\n",
      "1/1 [==============================] - 0s 47ms/step - loss: 0.2653 - acc: 0.9529 - val_loss: 0.6086 - val_acc: 0.6333\n",
      "Epoch 21/32\n",
      "1/1 [==============================] - 0s 45ms/step - loss: 0.2639 - acc: 0.9529 - val_loss: 0.6091 - val_acc: 0.6333\n",
      "Epoch 22/32\n",
      "1/1 [==============================] - 0s 40ms/step - loss: 0.2624 - acc: 0.9529 - val_loss: 0.6095 - val_acc: 0.6333\n",
      "Epoch 23/32\n",
      "1/1 [==============================] - 0s 44ms/step - loss: 0.2610 - acc: 0.9529 - val_loss: 0.6099 - val_acc: 0.6333\n",
      "Epoch 24/32\n",
      "1/1 [==============================] - 0s 41ms/step - loss: 0.2595 - acc: 0.9529 - val_loss: 0.6104 - val_acc: 0.6333\n",
      "Epoch 25/32\n",
      "1/1 [==============================] - 0s 45ms/step - loss: 0.2581 - acc: 0.9529 - val_loss: 0.6109 - val_acc: 0.6333\n",
      "Epoch 26/32\n",
      "1/1 [==============================] - 0s 41ms/step - loss: 0.2566 - acc: 0.9529 - val_loss: 0.6113 - val_acc: 0.6333\n",
      "Epoch 27/32\n",
      "1/1 [==============================] - 0s 45ms/step - loss: 0.2552 - acc: 0.9529 - val_loss: 0.6118 - val_acc: 0.6333\n",
      "Epoch 28/32\n",
      "1/1 [==============================] - 0s 44ms/step - loss: 0.2538 - acc: 0.9529 - val_loss: 0.6123 - val_acc: 0.6333\n",
      "Epoch 29/32\n",
      "1/1 [==============================] - 0s 43ms/step - loss: 0.2524 - acc: 0.9529 - val_loss: 0.6127 - val_acc: 0.6333\n",
      "Epoch 30/32\n",
      "1/1 [==============================] - 0s 44ms/step - loss: 0.2509 - acc: 0.9588 - val_loss: 0.6132 - val_acc: 0.6333\n",
      "Epoch 31/32\n",
      "1/1 [==============================] - 0s 42ms/step - loss: 0.2495 - acc: 0.9588 - val_loss: 0.6137 - val_acc: 0.6333\n",
      "Epoch 32/32\n",
      "1/1 [==============================] - 0s 43ms/step - loss: 0.2481 - acc: 0.9588 - val_loss: 0.6142 - val_acc: 0.6333\n"
     ]
    }
   ],
   "source": [
    "historico = model.fit(\n",
    "    Xtrain, \n",
    "    ytrain, \n",
    "    batch_size = 1000, \n",
    "    epochs = 32,\n",
    "    validation_data= (Xval, yval)\n",
    ")"
   ]
  },
  {
   "cell_type": "code",
   "execution_count": 78,
   "id": "ccfaa0f9",
   "metadata": {},
   "outputs": [
    {
     "data": {
      "text/plain": [
       "[<matplotlib.lines.Line2D at 0x1ace1cd3a00>]"
      ]
     },
     "execution_count": 78,
     "metadata": {},
     "output_type": "execute_result"
    },
    {
     "data": {
      "image/png": "[encoded data removed]",
      "text/plain": [
       "<Figure size 640x480 with 1 Axes>"
      ]
     },
     "metadata": {},
     "output_type": "display_data"
    }
   ],
   "source": [
    "historial = historico.history\n",
    "plt.plot(historial['loss'])\n",
    "plt.plot(historial['val_loss'])"
   ]
  },
  {
   "cell_type": "code",
   "execution_count": 79,
   "id": "7385dabd",
   "metadata": {},
   "outputs": [
    {
     "data": {
      "text/plain": [
       "[<matplotlib.lines.Line2D at 0x1ace1c27e50>]"
      ]
     },
     "execution_count": 79,
     "metadata": {},
     "output_type": "execute_result"
    },
    {
     "data": {
      "image/png": "[encoded data removed]",
      "text/plain": [
       "<Figure size 640x480 with 1 Axes>"
      ]
     },
     "metadata": {},
     "output_type": "display_data"
    }
   ],
   "source": [
    "plt.plot(historial['acc'])\n",
    "plt.plot(historial['val_acc'])"
   ]
  },
  {
   "cell_type": "code",
   "execution_count": 80,
   "id": "aaddcade",
   "metadata": {},
   "outputs": [
    {
     "name": "stdout",
     "output_type": "stream",
     "text": [
      "2/2 [==============================] - 0s 2ms/step\n",
      "70.0%\n"
     ]
    }
   ],
   "source": [
    "prediccion = model.predict(Xtest)\n",
    "aciertos = np.sum(np.round(prediccion) == ytest)\n",
    "print(f'{aciertos/ytest.shape[0]*100 }%')"
   ]
  },
  {
   "cell_type": "code",
   "execution_count": 69,
   "id": "83db18b9",
   "metadata": {},
   "outputs": [
    {
     "data": {
      "text/plain": [
       "SVC(kernel='linear', max_iter=10000)"
      ]
     },
     "execution_count": 69,
     "metadata": {},
     "output_type": "execute_result"
    }
   ],
   "source": [
    "# Importamos las SVMs\n",
    "from sklearn import svm\n",
    "# Creamos un clasificador SVM usando svm.SVC con kernel='linear', C=1.0 y máximo número de iteraciones = 1000\n",
    "svc = svm.SVC(kernel = 'linear', C = 1.0, max_iter = 10000)\n",
    "svc"
   ]
  },
  {
   "cell_type": "code",
   "execution_count": 70,
   "id": "523be3c3",
   "metadata": {},
   "outputs": [
    {
     "name": "stdout",
     "output_type": "stream",
     "text": [
      "Precisión en train: 100.0%\n"
     ]
    }
   ],
   "source": [
    "# Entrenamos el modelo\n",
    "svc.fit(X, y.ravel())\n",
    "# Obtenemos la precisión\n",
    "accTrain = svc.score(X, y)\n",
    "print(\"Precisión en train: {}%\".format(accTrain*100))"
   ]
  },
  {
   "cell_type": "code",
   "execution_count": 71,
   "id": "897fc92d",
   "metadata": {},
   "outputs": [
    {
     "name": "stdout",
     "output_type": "stream",
     "text": [
      "0.725\n"
     ]
    }
   ],
   "source": [
    "print(svc.score(Xtest, ytest))"
   ]
  },
  {
   "cell_type": "code",
   "execution_count": null,
   "id": "b1d076f6",
   "metadata": {},
   "outputs": [],
   "source": []
  }
 ],
 "metadata": {
  "kernelspec": {
   "display_name": "Python [conda env:py38ml] *",
   "language": "python",
   "name": "conda-env-py38ml-py"
  },
  "language_info": {
   "codemirror_mode": {
    "name": "ipython",
    "version": 3
   },
   "file_extension": ".py",
   "mimetype": "text/x-python",
   "name": "python",
   "nbconvert_exporter": "python",
   "pygments_lexer": "ipython3",
   "version": "3.8.10"
  }
 },
 "nbformat": 4,
 "nbformat_minor": 5
}
