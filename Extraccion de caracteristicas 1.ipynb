{
 "cells": [
  {
   "cell_type": "markdown",
   "id": "2a197f48",
   "metadata": {},
   "source": [
    "# Dog vs Cat\n",
    "\n",
    "## Extracción de características 1\n",
    "\n",
    "Importamos algunas librerías que vamos a utilizar\n"
   ]
  },
  {
   "cell_type": "code",
   "execution_count": 7,
   "id": "e9effc04",
   "metadata": {},
   "outputs": [],
   "source": [
    "import numpy as np\n",
    "import cv2\n",
    "from tqdm import tqdm\n",
    "from sklearn.model_selection import train_test_split\n",
    "import matplotlib.pyplot as plt "
   ]
  },
  {
   "cell_type": "markdown",
   "id": "82203bc0",
   "metadata": {},
   "source": [
    "Instalamos tensorflow para usar redes neuronales como clasificador del problema"
   ]
  },
  {
   "cell_type": "code",
   "execution_count": 8,
   "id": "531d17e0",
   "metadata": {
    "scrolled": true
   },
   "outputs": [
    {
     "name": "stdout",
     "output_type": "stream",
     "text": [
      "Requirement already satisfied: tensorflow in c:\\users\\darkteufel\\anaconda3\\envs\\py38ml\\lib\\site-packages (2.11.0)\n",
      "Requirement already satisfied: tensorflow-intel==2.11.0 in c:\\users\\darkteufel\\anaconda3\\envs\\py38ml\\lib\\site-packages (from tensorflow) (2.11.0)\n",
      "Requirement already satisfied: tensorboard<2.12,>=2.11 in c:\\users\\darkteufel\\anaconda3\\envs\\py38ml\\lib\\site-packages (from tensorflow-intel==2.11.0->tensorflow) (2.11.0)\n",
      "Requirement already satisfied: typing-extensions>=3.6.6 in c:\\users\\darkteufel\\anaconda3\\envs\\py38ml\\lib\\site-packages (from tensorflow-intel==2.11.0->tensorflow) (4.4.0)\n",
      "Requirement already satisfied: libclang>=13.0.0 in c:\\users\\darkteufel\\anaconda3\\envs\\py38ml\\lib\\site-packages (from tensorflow-intel==2.11.0->tensorflow) (14.0.6)\n",
      "Requirement already satisfied: termcolor>=1.1.0 in c:\\users\\darkteufel\\anaconda3\\envs\\py38ml\\lib\\site-packages (from tensorflow-intel==2.11.0->tensorflow) (2.1.1)\n",
      "Requirement already satisfied: protobuf<3.20,>=3.9.2 in c:\\users\\darkteufel\\anaconda3\\envs\\py38ml\\lib\\site-packages (from tensorflow-intel==2.11.0->tensorflow) (3.19.6)\n",
      "Requirement already satisfied: absl-py>=1.0.0 in c:\\users\\darkteufel\\anaconda3\\envs\\py38ml\\lib\\site-packages (from tensorflow-intel==2.11.0->tensorflow) (1.3.0)\n",
      "Requirement already satisfied: h5py>=2.9.0 in c:\\users\\darkteufel\\anaconda3\\envs\\py38ml\\lib\\site-packages (from tensorflow-intel==2.11.0->tensorflow) (3.7.0)\n",
      "Requirement already satisfied: opt-einsum>=2.3.2 in c:\\users\\darkteufel\\anaconda3\\envs\\py38ml\\lib\\site-packages (from tensorflow-intel==2.11.0->tensorflow) (3.3.0)\n",
      "Requirement already satisfied: numpy>=1.20 in c:\\users\\darkteufel\\anaconda3\\envs\\py38ml\\lib\\site-packages (from tensorflow-intel==2.11.0->tensorflow) (1.21.1)\n",
      "Requirement already satisfied: tensorflow-estimator<2.12,>=2.11.0 in c:\\users\\darkteufel\\anaconda3\\envs\\py38ml\\lib\\site-packages (from tensorflow-intel==2.11.0->tensorflow) (2.11.0)\n",
      "Requirement already satisfied: flatbuffers>=2.0 in c:\\users\\darkteufel\\anaconda3\\envs\\py38ml\\lib\\site-packages (from tensorflow-intel==2.11.0->tensorflow) (22.11.23)\n",
      "Requirement already satisfied: setuptools in c:\\users\\darkteufel\\anaconda3\\envs\\py38ml\\lib\\site-packages (from tensorflow-intel==2.11.0->tensorflow) (59.8.0)\n",
      "Requirement already satisfied: tensorflow-io-gcs-filesystem>=0.23.1 in c:\\users\\darkteufel\\anaconda3\\envs\\py38ml\\lib\\site-packages (from tensorflow-intel==2.11.0->tensorflow) (0.28.0)\n",
      "Requirement already satisfied: six>=1.12.0 in c:\\users\\darkteufel\\anaconda3\\envs\\py38ml\\lib\\site-packages (from tensorflow-intel==2.11.0->tensorflow) (1.16.0)\n",
      "Requirement already satisfied: grpcio<2.0,>=1.24.3 in c:\\users\\darkteufel\\anaconda3\\envs\\py38ml\\lib\\site-packages (from tensorflow-intel==2.11.0->tensorflow) (1.51.1)\n",
      "Requirement already satisfied: packaging in c:\\users\\darkteufel\\anaconda3\\envs\\py38ml\\lib\\site-packages (from tensorflow-intel==2.11.0->tensorflow) (21.3)\n",
      "Requirement already satisfied: keras<2.12,>=2.11.0 in c:\\users\\darkteufel\\anaconda3\\envs\\py38ml\\lib\\site-packages (from tensorflow-intel==2.11.0->tensorflow) (2.11.0)\n",
      "Requirement already satisfied: astunparse>=1.6.0 in c:\\users\\darkteufel\\anaconda3\\envs\\py38ml\\lib\\site-packages (from tensorflow-intel==2.11.0->tensorflow) (1.6.3)\n",
      "Requirement already satisfied: google-pasta>=0.1.1 in c:\\users\\darkteufel\\anaconda3\\envs\\py38ml\\lib\\site-packages (from tensorflow-intel==2.11.0->tensorflow) (0.2.0)\n",
      "Requirement already satisfied: gast<=0.4.0,>=0.2.1 in c:\\users\\darkteufel\\anaconda3\\envs\\py38ml\\lib\\site-packages (from tensorflow-intel==2.11.0->tensorflow) (0.4.0)\n",
      "Requirement already satisfied: wrapt>=1.11.0 in c:\\users\\darkteufel\\anaconda3\\envs\\py38ml\\lib\\site-packages (from tensorflow-intel==2.11.0->tensorflow) (1.14.1)\n",
      "Requirement already satisfied: wheel<1.0,>=0.23.0 in c:\\users\\darkteufel\\anaconda3\\envs\\py38ml\\lib\\site-packages (from astunparse>=1.6.0->tensorflow-intel==2.11.0->tensorflow) (0.38.4)\n",
      "Requirement already satisfied: requests<3,>=2.21.0 in c:\\users\\darkteufel\\anaconda3\\envs\\py38ml\\lib\\site-packages (from tensorboard<2.12,>=2.11->tensorflow-intel==2.11.0->tensorflow) (2.28.1)\n",
      "Requirement already satisfied: werkzeug>=1.0.1 in c:\\users\\darkteufel\\anaconda3\\envs\\py38ml\\lib\\site-packages (from tensorboard<2.12,>=2.11->tensorflow-intel==2.11.0->tensorflow) (2.2.2)\n",
      "Requirement already satisfied: google-auth<3,>=1.6.3 in c:\\users\\darkteufel\\anaconda3\\envs\\py38ml\\lib\\site-packages (from tensorboard<2.12,>=2.11->tensorflow-intel==2.11.0->tensorflow) (2.15.0)\n",
      "Requirement already satisfied: google-auth-oauthlib<0.5,>=0.4.1 in c:\\users\\darkteufel\\anaconda3\\envs\\py38ml\\lib\\site-packages (from tensorboard<2.12,>=2.11->tensorflow-intel==2.11.0->tensorflow) (0.4.6)\n",
      "Requirement already satisfied: tensorboard-data-server<0.7.0,>=0.6.0 in c:\\users\\darkteufel\\anaconda3\\envs\\py38ml\\lib\\site-packages (from tensorboard<2.12,>=2.11->tensorflow-intel==2.11.0->tensorflow) (0.6.1)\n",
      "Requirement already satisfied: markdown>=2.6.8 in c:\\users\\darkteufel\\anaconda3\\envs\\py38ml\\lib\\site-packages (from tensorboard<2.12,>=2.11->tensorflow-intel==2.11.0->tensorflow) (3.4.1)\n",
      "Requirement already satisfied: tensorboard-plugin-wit>=1.6.0 in c:\\users\\darkteufel\\anaconda3\\envs\\py38ml\\lib\\site-packages (from tensorboard<2.12,>=2.11->tensorflow-intel==2.11.0->tensorflow) (1.8.1)\n",
      "Requirement already satisfied: pyasn1-modules>=0.2.1 in c:\\users\\darkteufel\\anaconda3\\envs\\py38ml\\lib\\site-packages (from google-auth<3,>=1.6.3->tensorboard<2.12,>=2.11->tensorflow-intel==2.11.0->tensorflow) (0.2.8)\n",
      "Requirement already satisfied: cachetools<6.0,>=2.0.0 in c:\\users\\darkteufel\\anaconda3\\envs\\py38ml\\lib\\site-packages (from google-auth<3,>=1.6.3->tensorboard<2.12,>=2.11->tensorflow-intel==2.11.0->tensorflow) (5.2.0)\n",
      "Requirement already satisfied: rsa<5,>=3.1.4 in c:\\users\\darkteufel\\anaconda3\\envs\\py38ml\\lib\\site-packages (from google-auth<3,>=1.6.3->tensorboard<2.12,>=2.11->tensorflow-intel==2.11.0->tensorflow) (4.9)\n",
      "Requirement already satisfied: requests-oauthlib>=0.7.0 in c:\\users\\darkteufel\\anaconda3\\envs\\py38ml\\lib\\site-packages (from google-auth-oauthlib<0.5,>=0.4.1->tensorboard<2.12,>=2.11->tensorflow-intel==2.11.0->tensorflow) (1.3.1)\n",
      "Requirement already satisfied: importlib-metadata>=4.4 in c:\\users\\darkteufel\\anaconda3\\envs\\py38ml\\lib\\site-packages (from markdown>=2.6.8->tensorboard<2.12,>=2.11->tensorflow-intel==2.11.0->tensorflow) (5.0.0)\n",
      "Requirement already satisfied: zipp>=0.5 in c:\\users\\darkteufel\\anaconda3\\envs\\py38ml\\lib\\site-packages (from importlib-metadata>=4.4->markdown>=2.6.8->tensorboard<2.12,>=2.11->tensorflow-intel==2.11.0->tensorflow) (3.10.0)\n",
      "Requirement already satisfied: pyasn1<0.5.0,>=0.4.6 in c:\\users\\darkteufel\\anaconda3\\envs\\py38ml\\lib\\site-packages (from pyasn1-modules>=0.2.1->google-auth<3,>=1.6.3->tensorboard<2.12,>=2.11->tensorflow-intel==2.11.0->tensorflow) (0.4.8)\n",
      "Requirement already satisfied: charset-normalizer<3,>=2 in c:\\users\\darkteufel\\anaconda3\\envs\\py38ml\\lib\\site-packages (from requests<3,>=2.21.0->tensorboard<2.12,>=2.11->tensorflow-intel==2.11.0->tensorflow) (2.1.1)\n",
      "Requirement already satisfied: idna<4,>=2.5 in c:\\users\\darkteufel\\anaconda3\\envs\\py38ml\\lib\\site-packages (from requests<3,>=2.21.0->tensorboard<2.12,>=2.11->tensorflow-intel==2.11.0->tensorflow) (3.4)\n",
      "Requirement already satisfied: certifi>=2017.4.17 in c:\\users\\darkteufel\\anaconda3\\envs\\py38ml\\lib\\site-packages (from requests<3,>=2.21.0->tensorboard<2.12,>=2.11->tensorflow-intel==2.11.0->tensorflow) (2022.9.24)\n",
      "Requirement already satisfied: urllib3<1.27,>=1.21.1 in c:\\users\\darkteufel\\anaconda3\\envs\\py38ml\\lib\\site-packages (from requests<3,>=2.21.0->tensorboard<2.12,>=2.11->tensorflow-intel==2.11.0->tensorflow) (1.26.11)\n",
      "Requirement already satisfied: oauthlib>=3.0.0 in c:\\users\\darkteufel\\anaconda3\\envs\\py38ml\\lib\\site-packages (from requests-oauthlib>=0.7.0->google-auth-oauthlib<0.5,>=0.4.1->tensorboard<2.12,>=2.11->tensorflow-intel==2.11.0->tensorflow) (3.2.2)\n",
      "Requirement already satisfied: MarkupSafe>=2.1.1 in c:\\users\\darkteufel\\anaconda3\\envs\\py38ml\\lib\\site-packages (from werkzeug>=1.0.1->tensorboard<2.12,>=2.11->tensorflow-intel==2.11.0->tensorflow) (2.1.1)\n",
      "Requirement already satisfied: pyparsing!=3.0.5,>=2.0.2 in c:\\users\\darkteufel\\anaconda3\\envs\\py38ml\\lib\\site-packages (from packaging->tensorflow-intel==2.11.0->tensorflow) (3.0.9)\n"
     ]
    }
   ],
   "source": [
    "!pip install tensorflow"
   ]
  },
  {
   "cell_type": "markdown",
   "id": "3eefeef0",
   "metadata": {},
   "source": [
    "Inicializamos variables "
   ]
  },
  {
   "cell_type": "code",
   "execution_count": 9,
   "id": "5e7e4c1b",
   "metadata": {},
   "outputs": [],
   "source": [
    "rutaDogsTrain = 'cat_dog_100/train/dog'\n",
    "rutaDogsTest = 'cat_dog_100/test/dog'\n",
    "rutaCatsTrain = 'cat_dog_100/train/cat'\n",
    "rutaCatsTest = 'cat_dog_100/test/cat'\n",
    "\n",
    "tamanoMax = 128\n",
    "sizeVentana = 16\n",
    "tamanoMax = int(tamanoMax/sizeVentana)*sizeVentana"
   ]
  },
  {
   "cell_type": "markdown",
   "id": "edd7d680",
   "metadata": {},
   "source": [
    "Se recorren los directorios para obtener los nombres de las imágenes"
   ]
  },
  {
   "cell_type": "code",
   "execution_count": 10,
   "id": "1648a6fc",
   "metadata": {},
   "outputs": [
    {
     "name": "stdout",
     "output_type": "stream",
     "text": [
      "cat_dog_100/train/dog/dog.10000.jpg\n"
     ]
    }
   ],
   "source": [
    "from os import walk\n",
    "\n",
    "dogTrain = []\n",
    "dogTest = []\n",
    "catTest = []\n",
    "catTrain = []\n",
    "for (dirpath, dirnames, filenames) in walk(rutaDogsTrain):\n",
    "    dogTrain.extend(filenames)\n",
    "    \n",
    "for (dirpath, dirnames, filenames) in walk(rutaDogsTest):\n",
    "    dogTest.extend(filenames)\n",
    "\n",
    "for (dirpath, dirnames, filenames) in walk(rutaCatsTest):\n",
    "    catTest.extend(filenames)\n",
    "\n",
    "for (dirpath, dirnames, filenames) in walk(rutaCatsTrain):\n",
    "    catTrain.extend(filenames)\n",
    "    \n",
    "print(f'{rutaDogsTrain}/{dogTrain[0]}')"
   ]
  },
  {
   "cell_type": "markdown",
   "id": "615fc2e1",
   "metadata": {},
   "source": [
    "La función `resize_image` redimensiona la imagen en *tamanoMax x tamanoMax*.\n",
    "\n",
    "Probaremos a recortar la imagen para no deformarlas y así comprobar si obtenemos un mejor resultado.\n"
   ]
  },
  {
   "cell_type": "code",
   "execution_count": 11,
   "id": "d2c43bbf",
   "metadata": {},
   "outputs": [],
   "source": [
    "def recorta_imagen(imagen, n):\n",
    "    \"\"\"\n",
    "    Esta función recibe una imagen y un tamaño n y recorta la imagen de tal manera que el número final de filas/columnas \n",
    "    sea múltiplo de n. La función debe recortar las filas de la derecha/abajo.\n",
    "    \"\"\"\n",
    "    size = np.min([int(imagen.shape[0]/n)*n, int(imagen.shape[1]/n)*n])\n",
    "    return imagen[:size, :size]\n",
    "\n",
    "def resize_image(imagen, sizeVentana, tamanoMax, recorta=False):\n",
    "    if(recorta): imagen = recorta_imagen(imagen, sizeVentana)\n",
    "    imagen2 = cv2.resize(imagen, [tamanoMax,tamanoMax])\n",
    "    return imagen2"
   ]
  },
  {
   "cell_type": "markdown",
   "id": "41bc5203",
   "metadata": {},
   "source": [
    "Modificaremos el valor del píxel en `transforma_bloque` por el número decimal correspondiente a su ventana binaria."
   ]
  },
  {
   "cell_type": "code",
   "execution_count": 12,
   "id": "33402471",
   "metadata": {},
   "outputs": [],
   "source": [
    "def ventana_a_decimal(ventana_binario):\n",
    "    binario = np.array([ventana_binario[0,0], ventana_binario[0,1], ventana_binario[0,2], ventana_binario[1,2], ventana_binario[2,2], ventana_binario[2,1], ventana_binario[2,0], ventana_binario[1,0]])\n",
    "    return np.sum(binario * np.array([128, 64, 32, 16, 8, 4, 2, 1]))"
   ]
  },
  {
   "cell_type": "code",
   "execution_count": 13,
   "id": "80a70bea",
   "metadata": {},
   "outputs": [],
   "source": [
    "def transforma_bloque(celda):\n",
    "    celda_ampliada = cv2.copyMakeBorder(celda, 1, 1, 1, 1, cv2.BORDER_REPLICATE)\n",
    "    celda2 = np.empty(celda.shape)\n",
    "    for i in range(1, celda.shape[0]+1):\n",
    "        for j in range(1, celda.shape[1]+1):\n",
    "            ventana = celda_ampliada[i-1:i+2, j-1:j+2]\n",
    "            ventana2 = np.zeros(ventana.shape)\n",
    "            pixel_central = ventana[1,1]\n",
    "            ventana2[ventana>pixel_central] = 1\n",
    "            celda2[i-1,j-1] = ventana_a_decimal(ventana2)\n",
    "    return celda2"
   ]
  },
  {
   "cell_type": "markdown",
   "id": "8e9fa037",
   "metadata": {},
   "source": [
    "Transformamos cada celda *sizeVentana x sizeVentana* de la imagen "
   ]
  },
  {
   "cell_type": "code",
   "execution_count": 14,
   "id": "f3ddf927",
   "metadata": {},
   "outputs": [],
   "source": [
    "def transforma_imagen(imagen, sizeVentana, tamanoMax):\n",
    "    imagen = resize_image(imagen, sizeVentana, tamanoMax, False)\n",
    "    caracteristicas = []\n",
    "    a = int(imagen.shape[0]/sizeVentana)\n",
    "    for i in range(a):\n",
    "        for j in range(a):\n",
    "            celda = imagen[i*sizeVentana:(i+1)*sizeVentana,j*sizeVentana:(j+1)*sizeVentana]\n",
    "            nueva_celda = transforma_bloque(celda)\n",
    "            caracteristicas.append(cv2.calcHist([np.uint8(nueva_celda)], [0], None, [256], [0, 256]).ravel())\n",
    "    return np.concatenate(caracteristicas)"
   ]
  },
  {
   "cell_type": "markdown",
   "id": "87fc4fc6",
   "metadata": {},
   "source": [
    "Extraemos las características de nuestro conjunto de imágenes (Train y Test)"
   ]
  },
  {
   "cell_type": "code",
   "execution_count": 15,
   "id": "d290328e",
   "metadata": {},
   "outputs": [
    {
     "name": "stderr",
     "output_type": "stream",
     "text": [
      "Perros: 100%|\u001b[38;2;255;136;248m████████████████████████████████████████████████████████████████████████\u001b[0m| 100/100 [00:39<00:00,  2.52it/s]\u001b[0m\n",
      "Gatos: 100%|\u001b[38;2;136;255;221m█████████████████████████████████████████████████████████████████████████\u001b[0m| 100/100 [00:39<00:00,  2.55it/s]\u001b[0m\n"
     ]
    }
   ],
   "source": [
    "X = []\n",
    "for i in tqdm(range(len(dogTrain)), desc = \"Perros\", colour = '#FF88F8'):\n",
    "    imagen = cv2.imread(f'{rutaDogsTrain}/{dogTrain[i]}', 0)\n",
    "    caracteristicas = transforma_imagen(imagen, sizeVentana, tamanoMax)\n",
    "    X.append(caracteristicas)\n",
    "\n",
    "for i in tqdm(range(len(catTrain)), desc = \"Gatos\", colour = '#88FFDD'):\n",
    "    imagen = cv2.imread(f'{rutaCatsTrain}/{catTrain[i]}', 0)\n",
    "    caracteristicas = transforma_imagen(imagen, sizeVentana, tamanoMax)\n",
    "    X.append(caracteristicas)\n",
    "    \n",
    "X = np.array(X)\n",
    "y = np.hstack((np.ones(len(dogTrain)), np.zeros(len(catTrain)))).reshape(-1, 1)\n"
   ]
  },
  {
   "cell_type": "code",
   "execution_count": 16,
   "id": "ae5212b2",
   "metadata": {},
   "outputs": [
    {
     "name": "stderr",
     "output_type": "stream",
     "text": [
      "Perros Test: 100%|\u001b[38;2;255;136;187m█████████████████████████████████████████████████████████████████████\u001b[0m| 20/20 [00:07<00:00,  2.56it/s]\u001b[0m\n",
      "Gatos Test: 100%|\u001b[38;2;136;255;224m██████████████████████████████████████████████████████████████████████\u001b[0m| 20/20 [00:07<00:00,  2.56it/s]\u001b[0m\n"
     ]
    }
   ],
   "source": [
    "Xtest = []\n",
    "for i in tqdm(range(len(dogTest)), desc = \"Perros Test\", colour = '#FF88BB'):\n",
    "    imagen = cv2.imread(f'{rutaDogsTest}/{dogTest[i]}', 0)\n",
    "    caracteristicas = transforma_imagen(imagen, sizeVentana, tamanoMax)\n",
    "    Xtest.append(caracteristicas)\n",
    "\n",
    "for i in tqdm(range(len(catTest)), desc = \"Gatos Test\", colour = '#88FFE0'):\n",
    "    imagen = cv2.imread(f'{rutaCatsTest}/{catTest[i]}', 0)\n",
    "    caracteristicas = transforma_imagen(imagen, sizeVentana, tamanoMax)\n",
    "    Xtest.append(caracteristicas)\n",
    "    \n",
    "Xtest = np.array(Xtest)\n",
    "ytest = np.hstack((np.ones(len(dogTest)), np.zeros(len(catTest)))).reshape(-1, 1)"
   ]
  },
  {
   "cell_type": "markdown",
   "id": "feef4d5a",
   "metadata": {},
   "source": [
    "Particionamos el conjunto de datos para obtener el conjunto de validación (15%)"
   ]
  },
  {
   "cell_type": "code",
   "execution_count": 17,
   "id": "0e8e92e3",
   "metadata": {},
   "outputs": [
    {
     "name": "stdout",
     "output_type": "stream",
     "text": [
      "(170, 16384)\n"
     ]
    }
   ],
   "source": [
    "Xtrain, Xval, ytrain, yval = train_test_split(X, y, test_size = 0.15, random_state = 42)\n",
    "print(Xtrain.shape)"
   ]
  },
  {
   "cell_type": "markdown",
   "id": "884f2e68",
   "metadata": {},
   "source": [
    "Importamos las liberías para usar redes neuronales"
   ]
  },
  {
   "cell_type": "code",
   "execution_count": 18,
   "id": "f4e23c34",
   "metadata": {},
   "outputs": [
    {
     "name": "stdout",
     "output_type": "stream",
     "text": [
      "[PhysicalDevice(name='/physical_device:CPU:0', device_type='CPU')]\n",
      "Número de GPUs disponibles:  0\n"
     ]
    }
   ],
   "source": [
    "import tensorflow as tf\n",
    "from tensorflow.keras.models import Sequential\n",
    "from tensorflow.keras.layers import Dense, Dropout\n",
    "import tensorflow.keras as keras\n",
    "\n",
    "print(tf.config.list_physical_devices())\n",
    "print(\"Número de GPUs disponibles: \", len(tf.config.experimental.list_physical_devices('GPU')))"
   ]
  },
  {
   "cell_type": "markdown",
   "id": "99077ea8",
   "metadata": {},
   "source": [
    "Creamos un modelo simple porque no nos vamos a centrar en redes neuronales, más adelante utilizaremos SVMs."
   ]
  },
  {
   "cell_type": "code",
   "execution_count": 37,
   "id": "37ba26b9",
   "metadata": {},
   "outputs": [
    {
     "name": "stdout",
     "output_type": "stream",
     "text": [
      "Model: \"sequential_4\"\n",
      "_________________________________________________________________\n",
      " Layer (type)                Output Shape              Param #   \n",
      "=================================================================\n",
      " dense_12 (Dense)            (None, 32)                524320    \n",
      "                                                                 \n",
      " dropout_4 (Dropout)         (None, 32)                0         \n",
      "                                                                 \n",
      " dense_13 (Dense)            (None, 32)                1056      \n",
      "                                                                 \n",
      " dense_14 (Dense)            (None, 1)                 33        \n",
      "                                                                 \n",
      "=================================================================\n",
      "Total params: 525,409\n",
      "Trainable params: 525,409\n",
      "Non-trainable params: 0\n",
      "_________________________________________________________________\n"
     ]
    }
   ],
   "source": [
    "model = Sequential([\n",
    "    Dense(32, input_shape = (16384,)),\n",
    "    Dropout(0.28),\n",
    "    Dense(32),\n",
    "    Dense(1, activation = 'sigmoid')\n",
    "])\n",
    "model.summary()\n",
    "model.compile(optimizer = keras.optimizers.Adamax(), loss = keras.losses.binary_crossentropy, metrics = ['acc'])"
   ]
  },
  {
   "cell_type": "code",
   "execution_count": 38,
   "id": "afd3a1c8",
   "metadata": {},
   "outputs": [
    {
     "name": "stdout",
     "output_type": "stream",
     "text": [
      "Epoch 1/64\n",
      "1/1 [==============================] - 1s 853ms/step - loss: 1.6109 - acc: 0.4882 - val_loss: 1.0301 - val_acc: 0.6333\n",
      "Epoch 2/64\n",
      "1/1 [==============================] - 0s 41ms/step - loss: 1.0611 - acc: 0.7412 - val_loss: 16.0376 - val_acc: 0.4667\n",
      "Epoch 3/64\n",
      "1/1 [==============================] - 0s 41ms/step - loss: 12.7844 - acc: 0.5059 - val_loss: 8.0217 - val_acc: 0.4667\n",
      "Epoch 4/64\n",
      "1/1 [==============================] - 0s 41ms/step - loss: 5.0809 - acc: 0.5529 - val_loss: 3.2318 - val_acc: 0.5667\n",
      "Epoch 5/64\n",
      "1/1 [==============================] - 0s 41ms/step - loss: 3.4150 - acc: 0.6412 - val_loss: 6.8751 - val_acc: 0.5333\n",
      "Epoch 6/64\n",
      "1/1 [==============================] - 0s 41ms/step - loss: 6.6886 - acc: 0.5118 - val_loss: 4.3660 - val_acc: 0.5333\n",
      "Epoch 7/64\n",
      "1/1 [==============================] - 0s 41ms/step - loss: 3.5538 - acc: 0.5882 - val_loss: 1.5610 - val_acc: 0.6333\n",
      "Epoch 8/64\n",
      "1/1 [==============================] - 0s 41ms/step - loss: 0.6008 - acc: 0.8294 - val_loss: 4.8481 - val_acc: 0.5000\n",
      "Epoch 9/64\n",
      "1/1 [==============================] - 0s 41ms/step - loss: 1.7524 - acc: 0.6882 - val_loss: 6.8571 - val_acc: 0.5000\n",
      "Epoch 10/64\n",
      "1/1 [==============================] - 0s 43ms/step - loss: 3.2495 - acc: 0.6412 - val_loss: 5.5363 - val_acc: 0.5000\n",
      "Epoch 11/64\n",
      "1/1 [==============================] - 0s 45ms/step - loss: 2.0963 - acc: 0.6824 - val_loss: 2.6313 - val_acc: 0.6000\n",
      "Epoch 12/64\n",
      "1/1 [==============================] - 0s 42ms/step - loss: 0.4875 - acc: 0.8765 - val_loss: 1.8572 - val_acc: 0.6000\n",
      "Epoch 13/64\n",
      "1/1 [==============================] - 0s 40ms/step - loss: 0.4166 - acc: 0.8824 - val_loss: 2.3792 - val_acc: 0.6333\n",
      "Epoch 14/64\n",
      "1/1 [==============================] - 0s 41ms/step - loss: 0.9797 - acc: 0.8059 - val_loss: 2.6524 - val_acc: 0.7000\n",
      "Epoch 15/64\n",
      "1/1 [==============================] - 0s 41ms/step - loss: 1.2692 - acc: 0.7647 - val_loss: 2.3678 - val_acc: 0.6333\n",
      "Epoch 16/64\n",
      "1/1 [==============================] - 0s 40ms/step - loss: 0.8366 - acc: 0.8235 - val_loss: 1.9692 - val_acc: 0.6333\n",
      "Epoch 17/64\n",
      "1/1 [==============================] - 0s 40ms/step - loss: 0.2921 - acc: 0.9176 - val_loss: 1.8940 - val_acc: 0.7000\n",
      "Epoch 18/64\n",
      "1/1 [==============================] - 0s 42ms/step - loss: 0.0765 - acc: 0.9588 - val_loss: 2.5307 - val_acc: 0.6000\n",
      "Epoch 19/64\n",
      "1/1 [==============================] - 0s 42ms/step - loss: 0.1451 - acc: 0.9588 - val_loss: 3.4229 - val_acc: 0.5667\n",
      "Epoch 20/64\n",
      "1/1 [==============================] - 0s 44ms/step - loss: 0.2948 - acc: 0.9118 - val_loss: 3.9399 - val_acc: 0.5333\n",
      "Epoch 21/64\n",
      "1/1 [==============================] - 0s 42ms/step - loss: 0.4111 - acc: 0.8471 - val_loss: 3.7747 - val_acc: 0.5333\n",
      "Epoch 22/64\n",
      "1/1 [==============================] - 0s 42ms/step - loss: 0.3443 - acc: 0.8765 - val_loss: 3.1057 - val_acc: 0.6000\n",
      "Epoch 23/64\n",
      "1/1 [==============================] - 0s 43ms/step - loss: 0.1598 - acc: 0.9412 - val_loss: 2.3896 - val_acc: 0.6333\n",
      "Epoch 24/64\n",
      "1/1 [==============================] - 0s 42ms/step - loss: 0.0192 - acc: 0.9941 - val_loss: 1.9195 - val_acc: 0.6333\n",
      "Epoch 25/64\n",
      "1/1 [==============================] - 0s 43ms/step - loss: 0.0122 - acc: 0.9941 - val_loss: 1.7224 - val_acc: 0.6667\n",
      "Epoch 26/64\n",
      "1/1 [==============================] - 0s 42ms/step - loss: 0.0078 - acc: 1.0000 - val_loss: 1.7181 - val_acc: 0.6667\n",
      "Epoch 27/64\n",
      "1/1 [==============================] - 0s 42ms/step - loss: 0.0118 - acc: 0.9941 - val_loss: 1.8019 - val_acc: 0.6333\n",
      "Epoch 28/64\n",
      "1/1 [==============================] - 0s 42ms/step - loss: 0.0258 - acc: 0.9941 - val_loss: 1.8970 - val_acc: 0.6333\n",
      "Epoch 29/64\n",
      "1/1 [==============================] - 0s 42ms/step - loss: 0.0605 - acc: 0.9824 - val_loss: 1.9496 - val_acc: 0.6333\n",
      "Epoch 30/64\n",
      "1/1 [==============================] - 0s 42ms/step - loss: 0.1234 - acc: 0.9353 - val_loss: 1.9192 - val_acc: 0.6333\n",
      "Epoch 31/64\n",
      "1/1 [==============================] - 0s 45ms/step - loss: 0.0664 - acc: 0.9647 - val_loss: 1.8436 - val_acc: 0.6333\n",
      "Epoch 32/64\n",
      "1/1 [==============================] - 0s 44ms/step - loss: 0.0591 - acc: 0.9765 - val_loss: 1.7450 - val_acc: 0.6333\n",
      "Epoch 33/64\n",
      "1/1 [==============================] - 0s 48ms/step - loss: 0.0353 - acc: 0.9824 - val_loss: 1.6584 - val_acc: 0.6333\n",
      "Epoch 34/64\n",
      "1/1 [==============================] - 0s 44ms/step - loss: 0.0143 - acc: 0.9941 - val_loss: 1.6088 - val_acc: 0.6667\n",
      "Epoch 35/64\n",
      "1/1 [==============================] - 0s 43ms/step - loss: 0.0050 - acc: 1.0000 - val_loss: 1.6102 - val_acc: 0.7000\n",
      "Epoch 36/64\n",
      "1/1 [==============================] - 0s 42ms/step - loss: 0.0019 - acc: 1.0000 - val_loss: 1.6622 - val_acc: 0.7000\n",
      "Epoch 37/64\n",
      "1/1 [==============================] - 0s 41ms/step - loss: 0.0016 - acc: 1.0000 - val_loss: 1.7536 - val_acc: 0.6333\n",
      "Epoch 38/64\n",
      "1/1 [==============================] - 0s 44ms/step - loss: 0.0018 - acc: 1.0000 - val_loss: 1.8715 - val_acc: 0.6333\n",
      "Epoch 39/64\n",
      "1/1 [==============================] - 0s 44ms/step - loss: 0.0022 - acc: 1.0000 - val_loss: 2.0044 - val_acc: 0.6000\n",
      "Epoch 40/64\n",
      "1/1 [==============================] - 0s 41ms/step - loss: 0.0033 - acc: 1.0000 - val_loss: 2.1393 - val_acc: 0.6000\n",
      "Epoch 41/64\n",
      "1/1 [==============================] - 0s 47ms/step - loss: 0.0065 - acc: 1.0000 - val_loss: 2.2630 - val_acc: 0.6333\n",
      "Epoch 42/64\n",
      "1/1 [==============================] - 0s 41ms/step - loss: 0.0032 - acc: 1.0000 - val_loss: 2.3766 - val_acc: 0.6333\n",
      "Epoch 43/64\n",
      "1/1 [==============================] - 0s 41ms/step - loss: 0.0155 - acc: 0.9941 - val_loss: 2.4614 - val_acc: 0.6000\n",
      "Epoch 44/64\n",
      "1/1 [==============================] - 0s 50ms/step - loss: 0.0134 - acc: 0.9941 - val_loss: 2.5167 - val_acc: 0.6000\n",
      "Epoch 45/64\n",
      "1/1 [==============================] - 0s 40ms/step - loss: 0.0080 - acc: 1.0000 - val_loss: 2.5494 - val_acc: 0.6000\n",
      "Epoch 46/64\n",
      "1/1 [==============================] - 0s 44ms/step - loss: 0.0081 - acc: 1.0000 - val_loss: 2.5601 - val_acc: 0.6000\n",
      "Epoch 47/64\n",
      "1/1 [==============================] - 0s 44ms/step - loss: 0.0074 - acc: 1.0000 - val_loss: 2.5519 - val_acc: 0.6000\n",
      "Epoch 48/64\n",
      "1/1 [==============================] - 0s 44ms/step - loss: 0.0083 - acc: 1.0000 - val_loss: 2.5267 - val_acc: 0.6000\n",
      "Epoch 49/64\n",
      "1/1 [==============================] - 0s 46ms/step - loss: 0.0158 - acc: 0.9941 - val_loss: 2.4782 - val_acc: 0.6000\n",
      "Epoch 50/64\n",
      "1/1 [==============================] - 0s 43ms/step - loss: 0.0062 - acc: 1.0000 - val_loss: 2.4224 - val_acc: 0.6000\n",
      "Epoch 51/64\n",
      "1/1 [==============================] - 0s 41ms/step - loss: 0.0107 - acc: 1.0000 - val_loss: 2.3540 - val_acc: 0.6333\n",
      "Epoch 52/64\n",
      "1/1 [==============================] - 0s 42ms/step - loss: 0.0089 - acc: 0.9941 - val_loss: 2.2788 - val_acc: 0.6333\n",
      "Epoch 53/64\n",
      "1/1 [==============================] - 0s 42ms/step - loss: 0.0063 - acc: 1.0000 - val_loss: 2.2044 - val_acc: 0.6333\n",
      "Epoch 54/64\n",
      "1/1 [==============================] - 0s 39ms/step - loss: 0.0049 - acc: 1.0000 - val_loss: 2.1313 - val_acc: 0.6000\n",
      "Epoch 55/64\n",
      "1/1 [==============================] - 0s 41ms/step - loss: 0.0072 - acc: 1.0000 - val_loss: 2.0573 - val_acc: 0.6000\n",
      "Epoch 56/64\n",
      "1/1 [==============================] - 0s 43ms/step - loss: 0.0016 - acc: 1.0000 - val_loss: 1.9918 - val_acc: 0.6000\n",
      "Epoch 57/64\n",
      "1/1 [==============================] - 0s 43ms/step - loss: 0.0019 - acc: 1.0000 - val_loss: 1.9340 - val_acc: 0.6000\n",
      "Epoch 58/64\n",
      "1/1 [==============================] - 0s 44ms/step - loss: 0.0014 - acc: 1.0000 - val_loss: 1.8832 - val_acc: 0.6000\n",
      "Epoch 59/64\n",
      "1/1 [==============================] - 0s 51ms/step - loss: 0.0032 - acc: 1.0000 - val_loss: 1.8362 - val_acc: 0.6000\n",
      "Epoch 60/64\n",
      "1/1 [==============================] - 0s 65ms/step - loss: 0.0033 - acc: 1.0000 - val_loss: 1.7969 - val_acc: 0.6333\n",
      "Epoch 61/64\n",
      "1/1 [==============================] - 0s 45ms/step - loss: 4.9093e-04 - acc: 1.0000 - val_loss: 1.7633 - val_acc: 0.6333\n",
      "Epoch 62/64\n",
      "1/1 [==============================] - 0s 45ms/step - loss: 3.7699e-04 - acc: 1.0000 - val_loss: 1.7348 - val_acc: 0.6333\n",
      "Epoch 63/64\n",
      "1/1 [==============================] - 0s 44ms/step - loss: 3.1621e-04 - acc: 1.0000 - val_loss: 1.7108 - val_acc: 0.6333\n"
     ]
    },
    {
     "name": "stdout",
     "output_type": "stream",
     "text": [
      "Epoch 64/64\n",
      "1/1 [==============================] - 0s 43ms/step - loss: 6.6364e-04 - acc: 1.0000 - val_loss: 1.6905 - val_acc: 0.6333\n"
     ]
    }
   ],
   "source": [
    "historico = model.fit(\n",
    "    Xtrain, \n",
    "    ytrain, \n",
    "    batch_size = 1000, \n",
    "    epochs = 64,\n",
    "    validation_data= (Xval, yval)\n",
    ")"
   ]
  },
  {
   "cell_type": "code",
   "execution_count": 47,
   "id": "ccfaa0f9",
   "metadata": {},
   "outputs": [
    {
     "data": {
      "image/png": "[encoded data removed]",
      "text/plain": [
       "<Figure size 640x480 with 1 Axes>"
      ]
     },
     "metadata": {},
     "output_type": "display_data"
    }
   ],
   "source": [
    "historial = historico.history\n",
    "plt.title('Gráfica de coste')\n",
    "plt.xlabel('Epochs')\n",
    "plt.ylabel('Coste')\n",
    "plt.plot(historial['loss'])\n",
    "plt.plot(historial['val_loss'])\n",
    "plt.legend([\"Train\", \"Val\"]);"
   ]
  },
  {
   "cell_type": "code",
   "execution_count": 48,
   "id": "7385dabd",
   "metadata": {},
   "outputs": [
    {
     "data": {
      "image/png": "[encoded data removed]",
      "text/plain": [
       "<Figure size 640x480 with 1 Axes>"
      ]
     },
     "metadata": {},
     "output_type": "display_data"
    }
   ],
   "source": [
    "plt.title('Gráfica de accuracy')\n",
    "plt.xlabel('Epochs')\n",
    "plt.ylabel('Accuracy')\n",
    "plt.plot(historial['acc'])\n",
    "plt.plot(historial['val_acc'])\n",
    "plt.legend([\"Train\", \"Val\"]);"
   ]
  },
  {
   "cell_type": "code",
   "execution_count": 41,
   "id": "aaddcade",
   "metadata": {},
   "outputs": [
    {
     "name": "stdout",
     "output_type": "stream",
     "text": [
      "2/2 [==============================] - 0s 2ms/step\n",
      "Precisión en test: 90.0%\n"
     ]
    }
   ],
   "source": [
    "prediccion = model.predict(Xtest)\n",
    "aciertos = np.sum(np.round(prediccion) == ytest)\n",
    "print(f'Precisión en test: {aciertos/ytest.shape[0]*100 }%')"
   ]
  },
  {
   "cell_type": "markdown",
   "id": "2904644e",
   "metadata": {},
   "source": [
    "## SVMs"
   ]
  },
  {
   "cell_type": "code",
   "execution_count": null,
   "id": "83db18b9",
   "metadata": {},
   "outputs": [],
   "source": [
    "# Importamos las SVMs\n",
    "from sklearn import svm\n",
    "# Creamos un clasificador SVM usando svm.SVC con kernel='linear', C=1.0 y máximo número de iteraciones = 1000\n",
    "svc = svm.SVC(kernel = 'linear', C = 1.0, max_iter = 10000)\n",
    "svc"
   ]
  },
  {
   "cell_type": "code",
   "execution_count": null,
   "id": "9e78a5a5",
   "metadata": {},
   "outputs": [],
   "source": [
    "# Importamos las SVMs\n",
    "from sklearn import svm\n",
    "from sklearn.pipeline import make_pipeline\n",
    "from sklearn.preprocessing import StandardScaler\n",
    "\n",
    "clf = make_pipeline(StandardScaler(),  svm.SVC(kernel = 'linear', C = 1)) #tam = 256 -> 92.5%\n",
    "# clf = make_pipeline(StandardScaler(),  svm.SVC(C = 2)) #tam = 128 -> 92.5%\n",
    "\n",
    "# Entrenamos el modelo\n",
    "clf.fit(X, y.ravel())\n",
    "# Obtenemos la precisión\n",
    "accTrain = clf.score(X, y)\n",
    "print(\"Precisión en train: {}%\".format(accTrain*100))\n",
    "\n",
    "print(f\"Predicción en test: {clf.score(Xtest, ytest)*100}%\")"
   ]
  },
  {
   "cell_type": "code",
   "execution_count": 21,
   "id": "d45202ca",
   "metadata": {},
   "outputs": [],
   "source": [
    "np.save(\"X.npy\", X)\n",
    "np.save(\"y.npy\", y)"
   ]
  },
  {
   "cell_type": "markdown",
   "id": "cb3fdcf6",
   "metadata": {},
   "source": [
    "## Modificaciones\n",
    "\n",
    "Vamos a modificar nuestra extracción de características para intentar mejorar la precisión de nuestro modelo.\n",
    "\n",
    "Utilizaremos el concepto de transición uniforme para nuestra modificación"
   ]
  },
  {
   "cell_type": "code",
   "execution_count": null,
   "id": "b1d076f6",
   "metadata": {},
   "outputs": [],
   "source": [
    "def transforma_bloque2(celda):\n",
    "    celda_ampliada = cv2.copyMakeBorder(celda, 1, 1, 1, 1, cv2.BORDER_REPLICATE)\n",
    "    lista = []\n",
    "    for i in range(1, celda.shape[0]+1):\n",
    "        for j in range(1, celda.shape[1]+1):\n",
    "            ventana = celda_ampliada[i-1:i+2, j-1:j+2]\n",
    "            ventana2 = np.zeros(ventana.shape)\n",
    "            pixel_central = ventana[1,1]\n",
    "            ventana2[ventana>pixel_central] = 1\n",
    "            lista.append(ventana_a_decimal(ventana2))\n",
    "    return lista"
   ]
  },
  {
   "cell_type": "code",
   "execution_count": null,
   "id": "872e78f2",
   "metadata": {},
   "outputs": [],
   "source": [
    "def uniformar(hist):\n",
    "    hist_uniforme = hist[[0, 1, 2, 3, 4, 6, 7, 8, 12, 14, 15, 16, 24, 28, 30, 31, 32, 48, 56, 60, 62, 63, 64, 96, 112, 120, 124, 126, 127, 128, 129, 131, 135, 143, 159, 191, 192, 193, 195, 199, 207, 223, 224, 225, 227, 231, 239, 240, 241, 243, 247, 248, 249, 251, 252, 253, 254, 255]]  \n",
    "    return np.hstack([hist_uniforme, np.sum(histograma)-np.sum(hist_uniforme)])\n",
    "\n",
    "def transforma_imagen2(imagen, sizeVentana, tamanoMax):\n",
    "    imagen = resize_image(imagen, sizeVentana, tamanoMax, False)\n",
    "    caracteristicas = []\n",
    "    a = int(imagen.shape[0]/sizeVentana)\n",
    "    for i in range(a):\n",
    "        for j in range(a):\n",
    "            celda = imagen[i*sizeVentana:(i+1)*sizeVentana,j*sizeVentana:(j+1)*sizeVentana]\n",
    "            nueva_celda = transforma_bloque2(celda)\n",
    "            histograma = cv2.calcHist([np.uint8(nueva_celda)], [0], None, [256], [0, 256]).ravel()\n",
    "            caracteristicas.append(uniformar(histograma))\n",
    "    return np.concatenate(caracteristicas)"
   ]
  },
  {
   "cell_type": "markdown",
   "id": "9f22909c",
   "metadata": {},
   "source": [
    "Realizamos la extracción de características con la modificación y entrenamos los modelos."
   ]
  },
  {
   "cell_type": "code",
   "execution_count": null,
   "id": "a010b789",
   "metadata": {},
   "outputs": [],
   "source": [
    "X = []\n",
    "for i in tqdm(range(len(dogTrain)), desc = \"Perros\", colour = '#FF88F8'):\n",
    "    imagen = cv2.imread(f'{rutaDogsTrain}/{dogTrain[i]}', 0)\n",
    "    caracteristicas = transforma_imagen2(imagen, sizeVentana, tamanoMax)\n",
    "    X.append(caracteristicas)\n",
    "\n",
    "for i in tqdm(range(len(catTrain)), desc = \"Gatos\", colour = '#88FFDD'):\n",
    "    imagen = cv2.imread(f'{rutaCatsTrain}/{catTrain[i]}', 0)\n",
    "    caracteristicas = transforma_imagen2(imagen, sizeVentana, tamanoMax)\n",
    "    X.append(caracteristicas)\n",
    "    \n",
    "X = np.array(X)\n",
    "y = np.hstack((np.ones(len(dogTrain)), np.zeros(len(catTrain)))).reshape(-1, 1)"
   ]
  },
  {
   "cell_type": "code",
   "execution_count": null,
   "id": "799645d4",
   "metadata": {},
   "outputs": [],
   "source": [
    "Xtest = []\n",
    "for i in tqdm(range(len(dogTest)), desc = \"Perros Test\", colour = '#FF88BB'):\n",
    "    imagen = cv2.imread(f'{rutaDogsTest}/{dogTest[i]}', 0)\n",
    "    caracteristicas = transforma_imagen2(imagen, sizeVentana, tamanoMax)\n",
    "    Xtest.append(caracteristicas)\n",
    "\n",
    "for i in tqdm(range(len(catTest)), desc = \"Gatos Test\", colour = '#88FFE0'):\n",
    "    imagen = cv2.imread(f'{rutaCatsTest}/{catTest[i]}', 0)\n",
    "    caracteristicas = transforma_imagen2(imagen, sizeVentana, tamanoMax)\n",
    "    Xtest.append(caracteristicas)\n",
    "    \n",
    "Xtest = np.array(Xtest)\n",
    "ytest = np.hstack((np.ones(len(dogTest)), np.zeros(len(catTest)))).reshape(-1, 1)"
   ]
  },
  {
   "cell_type": "code",
   "execution_count": null,
   "id": "4161477c",
   "metadata": {},
   "outputs": [],
   "source": [
    "Xtrain, Xval, ytrain, yval = train_test_split(X, y, test_size = 0.15, random_state = 42)\n",
    "print(Xtrain.shape)"
   ]
  },
  {
   "cell_type": "code",
   "execution_count": null,
   "id": "b1c870d3",
   "metadata": {},
   "outputs": [],
   "source": [
    "model = Sequential([\n",
    "    Dense(32, input_shape = (15104,)),\n",
    "    Dropout(0.28),\n",
    "    Dense(32),\n",
    "    Dense(1, activation = 'sigmoid')\n",
    "])\n",
    "model.summary()\n",
    "model.compile(optimizer = keras.optimizers.Adamax(), loss = keras.losses.binary_crossentropy, metrics = ['acc'])"
   ]
  },
  {
   "cell_type": "code",
   "execution_count": null,
   "id": "fedcfba7",
   "metadata": {},
   "outputs": [],
   "source": [
    "historico = model.fit(\n",
    "    Xtrain, \n",
    "    ytrain, \n",
    "    batch_size = 1000, \n",
    "    epochs = 32,\n",
    "    validation_data= (Xval, yval)\n",
    ")"
   ]
  },
  {
   "cell_type": "code",
   "execution_count": null,
   "id": "dac5b57e",
   "metadata": {},
   "outputs": [],
   "source": [
    "historial = historico.history\n",
    "plt.title('Gráfica de coste')\n",
    "plt.xlabel('Epochs')\n",
    "plt.ylabel('Coste')\n",
    "plt.plot(historial['loss'])\n",
    "plt.plot(historial['val_loss'])"
   ]
  },
  {
   "cell_type": "code",
   "execution_count": null,
   "id": "af80be9e",
   "metadata": {},
   "outputs": [],
   "source": [
    "plt.title('Gráfica de accuracy')\n",
    "plt.xlabel('Epochs')\n",
    "plt.ylabel('accuracy')\n",
    "plt.plot(historial['acc'])\n",
    "plt.plot(historial['val_acc'])"
   ]
  },
  {
   "cell_type": "code",
   "execution_count": null,
   "id": "d97eb4f8",
   "metadata": {},
   "outputs": [],
   "source": [
    "prediccion = model.predict(Xtest)\n",
    "aciertos = np.sum(np.round(prediccion) == ytest)\n",
    "print(f'Precisión en test: {aciertos/ytest.shape[0]*100 }%')"
   ]
  },
  {
   "cell_type": "code",
   "execution_count": null,
   "id": "4a8e9f16",
   "metadata": {},
   "outputs": [],
   "source": [
    "# Creamos un clasificador SVM usando svm.SVC con kernel='linear', C=1.0 y máximo número de iteraciones = 1000\n",
    "svc = svm.SVC(kernel = 'linear', C = 1.0, max_iter = 10000)\n",
    "svc"
   ]
  },
  {
   "cell_type": "code",
   "execution_count": null,
   "id": "55cb8f1e",
   "metadata": {},
   "outputs": [],
   "source": [
    "clf = make_pipeline(StandardScaler(),  svm.SVC(kernel = 'linear', C = 1)) #tam = 256 -> 92.5%\n",
    "# clf = make_pipeline(StandardScaler(),  svm.SVC(C = 2)) #tam = 128 -> 92.5%\n",
    "\n",
    "# Entrenamos el modelo\n",
    "clf.fit(X, y.ravel())\n",
    "# Obtenemos la precisión\n",
    "accTrain = clf.score(X, y)\n",
    "print(\"Precisión en train: {}%\".format(accTrain*100))\n",
    "\n",
    "print(f\"Predicción en test: {clf.score(Xtest, ytest)*100}%\")"
   ]
  }
 ],
 "metadata": {
  "kernelspec": {
   "display_name": "Python [conda env:py38ml] *",
   "language": "python",
   "name": "conda-env-py38ml-py"
  },
  "language_info": {
   "codemirror_mode": {
    "name": "ipython",
    "version": 3
   },
   "file_extension": ".py",
   "mimetype": "text/x-python",
   "name": "python",
   "nbconvert_exporter": "python",
   "pygments_lexer": "ipython3",
   "version": "3.8.10"
  }
 },
 "nbformat": 4,
 "nbformat_minor": 5
}
