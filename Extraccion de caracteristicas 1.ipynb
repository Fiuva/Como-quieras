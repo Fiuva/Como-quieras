{
 "cells": [
  {
   "cell_type": "code",
   "execution_count": 26,
   "id": "ef323476",
   "metadata": {},
   "outputs": [],
   "source": [
    "import numpy as np\n",
    "import cv2\n",
    "from tqdm import tqdm\n",
    "from sklearn.model_selection import train_test_split\n",
    "import matplotlib.pyplot as plt "
   ]
  },
  {
   "cell_type": "code",
   "execution_count": 27,
   "id": "531d17e0",
   "metadata": {
    "collapsed": true
   },
   "outputs": [
    {
     "name": "stdout",
     "output_type": "stream",
     "text": [
      "Requirement already satisfied: tensorflow in c:\\users\\rgm74\\anaconda3\\lib\\site-packages (2.10.0)\n",
      "Requirement already satisfied: termcolor>=1.1.0 in c:\\users\\rgm74\\anaconda3\\lib\\site-packages (from tensorflow) (2.1.0)\n",
      "Requirement already satisfied: packaging in c:\\users\\rgm74\\anaconda3\\lib\\site-packages (from tensorflow) (21.3)\n",
      "Requirement already satisfied: tensorflow-estimator<2.11,>=2.10.0 in c:\\users\\rgm74\\anaconda3\\lib\\site-packages (from tensorflow) (2.10.0)\n",
      "Requirement already satisfied: astunparse>=1.6.0 in c:\\users\\rgm74\\anaconda3\\lib\\site-packages (from tensorflow) (1.6.3)\n",
      "Requirement already satisfied: keras-preprocessing>=1.1.1 in c:\\users\\rgm74\\anaconda3\\lib\\site-packages (from tensorflow) (1.1.2)\n",
      "Requirement already satisfied: tensorflow-io-gcs-filesystem>=0.23.1 in c:\\users\\rgm74\\anaconda3\\lib\\site-packages (from tensorflow) (0.27.0)\n",
      "Requirement already satisfied: wrapt>=1.11.0 in c:\\users\\rgm74\\anaconda3\\lib\\site-packages (from tensorflow) (1.14.1)\n",
      "Requirement already satisfied: google-pasta>=0.1.1 in c:\\users\\rgm74\\anaconda3\\lib\\site-packages (from tensorflow) (0.2.0)\n",
      "Requirement already satisfied: keras<2.11,>=2.10.0 in c:\\users\\rgm74\\anaconda3\\lib\\site-packages (from tensorflow) (2.10.0)\n",
      "Requirement already satisfied: h5py>=2.9.0 in c:\\users\\rgm74\\anaconda3\\lib\\site-packages (from tensorflow) (3.7.0)\n",
      "Requirement already satisfied: libclang>=13.0.0 in c:\\users\\rgm74\\anaconda3\\lib\\site-packages (from tensorflow) (14.0.6)\n",
      "Requirement already satisfied: gast<=0.4.0,>=0.2.1 in c:\\users\\rgm74\\anaconda3\\lib\\site-packages (from tensorflow) (0.4.0)\n",
      "Requirement already satisfied: protobuf<3.20,>=3.9.2 in c:\\users\\rgm74\\anaconda3\\lib\\site-packages (from tensorflow) (3.19.6)\n",
      "Requirement already satisfied: setuptools in c:\\users\\rgm74\\anaconda3\\lib\\site-packages (from tensorflow) (63.4.1)\n",
      "Requirement already satisfied: tensorboard<2.11,>=2.10 in c:\\users\\rgm74\\anaconda3\\lib\\site-packages (from tensorflow) (2.10.1)\n",
      "Requirement already satisfied: opt-einsum>=2.3.2 in c:\\users\\rgm74\\anaconda3\\lib\\site-packages (from tensorflow) (3.3.0)\n",
      "Requirement already satisfied: numpy>=1.20 in c:\\users\\rgm74\\anaconda3\\lib\\site-packages (from tensorflow) (1.21.5)\n",
      "Requirement already satisfied: flatbuffers>=2.0 in c:\\users\\rgm74\\anaconda3\\lib\\site-packages (from tensorflow) (22.10.26)\n",
      "Requirement already satisfied: typing-extensions>=3.6.6 in c:\\users\\rgm74\\anaconda3\\lib\\site-packages (from tensorflow) (4.3.0)\n",
      "Requirement already satisfied: grpcio<2.0,>=1.24.3 in c:\\users\\rgm74\\anaconda3\\lib\\site-packages (from tensorflow) (1.50.0)\n",
      "Requirement already satisfied: absl-py>=1.0.0 in c:\\users\\rgm74\\anaconda3\\lib\\site-packages (from tensorflow) (1.3.0)\n",
      "Requirement already satisfied: six>=1.12.0 in c:\\users\\rgm74\\anaconda3\\lib\\site-packages (from tensorflow) (1.16.0)\n",
      "Requirement already satisfied: wheel<1.0,>=0.23.0 in c:\\users\\rgm74\\anaconda3\\lib\\site-packages (from astunparse>=1.6.0->tensorflow) (0.37.1)\n",
      "Requirement already satisfied: markdown>=2.6.8 in c:\\users\\rgm74\\anaconda3\\lib\\site-packages (from tensorboard<2.11,>=2.10->tensorflow) (3.3.4)\n",
      "Requirement already satisfied: tensorboard-plugin-wit>=1.6.0 in c:\\users\\rgm74\\anaconda3\\lib\\site-packages (from tensorboard<2.11,>=2.10->tensorflow) (1.8.1)\n",
      "Requirement already satisfied: google-auth<3,>=1.6.3 in c:\\users\\rgm74\\anaconda3\\lib\\site-packages (from tensorboard<2.11,>=2.10->tensorflow) (2.14.1)\n",
      "Requirement already satisfied: tensorboard-data-server<0.7.0,>=0.6.0 in c:\\users\\rgm74\\anaconda3\\lib\\site-packages (from tensorboard<2.11,>=2.10->tensorflow) (0.6.1)\n",
      "Requirement already satisfied: google-auth-oauthlib<0.5,>=0.4.1 in c:\\users\\rgm74\\anaconda3\\lib\\site-packages (from tensorboard<2.11,>=2.10->tensorflow) (0.4.6)\n",
      "Requirement already satisfied: werkzeug>=1.0.1 in c:\\users\\rgm74\\anaconda3\\lib\\site-packages (from tensorboard<2.11,>=2.10->tensorflow) (2.0.3)\n",
      "Requirement already satisfied: requests<3,>=2.21.0 in c:\\users\\rgm74\\anaconda3\\lib\\site-packages (from tensorboard<2.11,>=2.10->tensorflow) (2.28.1)\n",
      "Requirement already satisfied: pyparsing!=3.0.5,>=2.0.2 in c:\\users\\rgm74\\anaconda3\\lib\\site-packages (from packaging->tensorflow) (3.0.9)\n",
      "Requirement already satisfied: pyasn1-modules>=0.2.1 in c:\\users\\rgm74\\anaconda3\\lib\\site-packages (from google-auth<3,>=1.6.3->tensorboard<2.11,>=2.10->tensorflow) (0.2.8)\n",
      "Requirement already satisfied: cachetools<6.0,>=2.0.0 in c:\\users\\rgm74\\anaconda3\\lib\\site-packages (from google-auth<3,>=1.6.3->tensorboard<2.11,>=2.10->tensorflow) (5.2.0)\n",
      "Requirement already satisfied: rsa<5,>=3.1.4 in c:\\users\\rgm74\\anaconda3\\lib\\site-packages (from google-auth<3,>=1.6.3->tensorboard<2.11,>=2.10->tensorflow) (4.9)\n",
      "Requirement already satisfied: requests-oauthlib>=0.7.0 in c:\\users\\rgm74\\anaconda3\\lib\\site-packages (from google-auth-oauthlib<0.5,>=0.4.1->tensorboard<2.11,>=2.10->tensorflow) (1.3.1)\n",
      "Requirement already satisfied: charset-normalizer<3,>=2 in c:\\users\\rgm74\\anaconda3\\lib\\site-packages (from requests<3,>=2.21.0->tensorboard<2.11,>=2.10->tensorflow) (2.0.4)\n",
      "Requirement already satisfied: idna<4,>=2.5 in c:\\users\\rgm74\\anaconda3\\lib\\site-packages (from requests<3,>=2.21.0->tensorboard<2.11,>=2.10->tensorflow) (3.3)\n",
      "Requirement already satisfied: urllib3<1.27,>=1.21.1 in c:\\users\\rgm74\\anaconda3\\lib\\site-packages (from requests<3,>=2.21.0->tensorboard<2.11,>=2.10->tensorflow) (1.26.11)\n",
      "Requirement already satisfied: certifi>=2017.4.17 in c:\\users\\rgm74\\anaconda3\\lib\\site-packages (from requests<3,>=2.21.0->tensorboard<2.11,>=2.10->tensorflow) (2022.9.14)\n",
      "Requirement already satisfied: pyasn1<0.5.0,>=0.4.6 in c:\\users\\rgm74\\anaconda3\\lib\\site-packages (from pyasn1-modules>=0.2.1->google-auth<3,>=1.6.3->tensorboard<2.11,>=2.10->tensorflow) (0.4.8)\n",
      "Requirement already satisfied: oauthlib>=3.0.0 in c:\\users\\rgm74\\anaconda3\\lib\\site-packages (from requests-oauthlib>=0.7.0->google-auth-oauthlib<0.5,>=0.4.1->tensorboard<2.11,>=2.10->tensorflow) (3.2.2)\n"
     ]
    }
   ],
   "source": [
    "!pip install tensorflow"
   ]
  },
  {
   "cell_type": "code",
   "execution_count": 141,
   "id": "5e7e4c1b",
   "metadata": {},
   "outputs": [],
   "source": [
    "rutaDogsTrain = 'cat_dog_100/train/dog'\n",
    "rutaDogsTest = 'cat_dog_100/test/dog'\n",
    "rutaCatsTrain = 'cat_dog_100/train/cat'\n",
    "rutaCatsTest = 'cat_dog_100/test/cat'\n",
    "\n",
    "tamanoMax = 256\n",
    "sizeVentana = 16\n",
    "tamanoMax = int(tamanoMax/sizeVentana)*sizeVentana"
   ]
  },
  {
   "cell_type": "code",
   "execution_count": 29,
   "id": "1648a6fc",
   "metadata": {},
   "outputs": [
    {
     "name": "stdout",
     "output_type": "stream",
     "text": [
      "cat_dog_100/train/dog/dog.10000.jpg\n"
     ]
    }
   ],
   "source": [
    "from os import walk\n",
    "\n",
    "dogTrain = []\n",
    "dogTest = []\n",
    "catTest = []\n",
    "catTrain = []\n",
    "for (dirpath, dirnames, filenames) in walk(rutaDogsTrain):\n",
    "    dogTrain.extend(filenames)\n",
    "    \n",
    "for (dirpath, dirnames, filenames) in walk(rutaDogsTest):\n",
    "    dogTest.extend(filenames)\n",
    "\n",
    "for (dirpath, dirnames, filenames) in walk(rutaCatsTest):\n",
    "    catTest.extend(filenames)\n",
    "\n",
    "for (dirpath, dirnames, filenames) in walk(rutaCatsTrain):\n",
    "    catTrain.extend(filenames)\n",
    "    \n",
    "print(f'{rutaDogsTrain}/{dogTrain[0]}')"
   ]
  },
  {
   "cell_type": "code",
   "execution_count": 30,
   "id": "d2c43bbf",
   "metadata": {},
   "outputs": [],
   "source": [
    "def recorta_imagen(imagen, n):\n",
    "    \"\"\"\n",
    "    Esta función recibe una imagen y un tamaño n y recorta la imagen de tal manera que el número final de filas/columnas \n",
    "    sea múltiplo de n. La funció debe recortar las filas de la derecha/abajo.\n",
    "    \"\"\"\n",
    "    size = np.min([int(imagen.shape[0]/n)*n, int(imagen.shape[1]/n)*n])\n",
    "    return imagen[:size, :size]\n",
    "\n",
    "def resize_image(imagen, sizeVentana, tamanoMax, recorta=False):\n",
    "    if(recorta): imagen = recorta_imagen(imagen, sizeVentana)\n",
    "    imagen2 = cv2.resize(imagen, [tamanoMax,tamanoMax])\n",
    "    return imagen2"
   ]
  },
  {
   "cell_type": "code",
   "execution_count": 62,
   "id": "ec43bd5d",
   "metadata": {},
   "outputs": [],
   "source": [
    "def esUniforme(binario):\n",
    "    return np.sum(np.abs(np.diff(binario))) < 3"
   ]
  },
  {
   "cell_type": "code",
   "execution_count": 32,
   "id": "33402471",
   "metadata": {},
   "outputs": [],
   "source": [
    "def ventana_a_decimal(ventana_binario):\n",
    "    binario = np.array([ventana_binario[0,0], ventana_binario[0,1], ventana_binario[0,2], ventana_binario[1,2], ventana_binario[2,2], ventana_binario[2,1], ventana_binario[2,0], ventana_binario[1,0]])\n",
    "#     anterior = binario[0]\n",
    "#     cont = 0\n",
    "#     for i in range(1, binario.shape[0]):\n",
    "#         if binario[i] == anterior:\n",
    "#             cont+=1\n",
    "#         else:\n",
    "#             cont = 0\n",
    "#         anterior = binario[i]\n",
    "#         if cont == 2:\n",
    "#             binario = 0\n",
    "#             break\n",
    "    return np.sum(binario * np.array([128, 64, 32, 16, 8, 4, 2, 1]))"
   ]
  },
  {
   "cell_type": "code",
   "execution_count": 33,
   "id": "80a70bea",
   "metadata": {},
   "outputs": [],
   "source": [
    "def transforma_bloque(celda):\n",
    "    celda_ampliada = cv2.copyMakeBorder(celda, 1, 1, 1, 1, cv2.BORDER_REPLICATE)\n",
    "    celda2 = np.empty(celda.shape)\n",
    "    for i in range(1, celda.shape[0]+1):\n",
    "        for j in range(1, celda.shape[1]+1):\n",
    "            ventana = celda_ampliada[i-1:i+2, j-1:j+2]\n",
    "            ventana2 = np.zeros(ventana.shape)\n",
    "            pixel_central = ventana[1,1]\n",
    "            ventana2[ventana>pixel_central] = 1\n",
    "            celda2[i-1,j-1] = ventana_a_decimal(ventana2)\n",
    "    return celda2"
   ]
  },
  {
   "cell_type": "code",
   "execution_count": 34,
   "id": "f3ddf927",
   "metadata": {},
   "outputs": [],
   "source": [
    "def transforma_imagen(imagen, sizeVentana, tamanoMax):\n",
    "    imagen = resize_image(imagen, sizeVentana, tamanoMax, False)\n",
    "    caracteristicas = []\n",
    "    a = int(imagen.shape[0]/sizeVentana)\n",
    "    for i in range(a):\n",
    "        for j in range(a):\n",
    "            celda = imagen[i*sizeVentana:(i+1)*sizeVentana,j*sizeVentana:(j+1)*sizeVentana]\n",
    "            nueva_celda = transforma_bloque(celda)\n",
    "            caracteristicas.append(cv2.calcHist([np.uint8(nueva_celda)], [0], None, [256], [0, 256]).ravel())\n",
    "    return np.concatenate(caracteristicas)"
   ]
  },
  {
   "cell_type": "markdown",
   "id": "d7064523",
   "metadata": {},
   "source": [
    "<!-- a -->"
   ]
  },
  {
   "cell_type": "code",
   "execution_count": 71,
   "id": "fad51583",
   "metadata": {},
   "outputs": [],
   "source": [
    "def ventana_a_decimal2(ventana_binario):\n",
    "    binario = np.array([ventana_binario[0,0], ventana_binario[0,1], ventana_binario[0,2], ventana_binario[1,2], ventana_binario[2,2], ventana_binario[2,1], ventana_binario[2,0], ventana_binario[1,0]])\n",
    "    return np.sum(binario * np.array([128, 64, 32, 16, 8, 4, 2, 1]))"
   ]
  },
  {
   "cell_type": "code",
   "execution_count": 72,
   "id": "793d9a51",
   "metadata": {},
   "outputs": [],
   "source": [
    "def transforma_bloque2(celda):\n",
    "    celda_ampliada = cv2.copyMakeBorder(celda, 1, 1, 1, 1, cv2.BORDER_REPLICATE)\n",
    "    lista = []\n",
    "    for i in range(1, celda.shape[0]+1):\n",
    "        for j in range(1, celda.shape[1]+1):\n",
    "            ventana = celda_ampliada[i-1:i+2, j-1:j+2]\n",
    "            ventana2 = np.zeros(ventana.shape)\n",
    "            pixel_central = ventana[1,1]\n",
    "            ventana2[ventana>pixel_central] = 1\n",
    "            lista.append(ventana_a_decimal2(ventana2))\n",
    "    return lista"
   ]
  },
  {
   "cell_type": "code",
   "execution_count": 94,
   "id": "3fa12d6f",
   "metadata": {},
   "outputs": [],
   "source": [
    "def uniformar(hist):\n",
    "    hist_uniforme = hist[[0, 1, 2, 3, 4, 6, 7, 8, 12, 14, 15, 16, 24, 28, 30, 31, 32, 48, 56, 60, 62, 63, 64, 96, 112, 120, 124, 126, 127, 128, 129, 131, 135, 143, 159, 191, 192, 193, 195, 199, 207, 223, 224, 225, 227, 231, 239, 240, 241, 243, 247, 248, 249, 251, 252, 253, 254, 255]]  \n",
    "    return np.hstack([hist_uniforme, np.sum(histograma)-np.sum(hist_uniforme)])\n",
    "\n",
    "def transforma_imagen2(imagen, sizeVentana, tamanoMax):\n",
    "    imagen = resize_image(imagen, sizeVentana, tamanoMax, False)\n",
    "    caracteristicas = []\n",
    "    a = int(imagen.shape[0]/sizeVentana)\n",
    "    for i in range(a):\n",
    "        for j in range(a):\n",
    "            celda = imagen[i*sizeVentana:(i+1)*sizeVentana,j*sizeVentana:(j+1)*sizeVentana]\n",
    "            nueva_celda = transforma_bloque2(celda)\n",
    "            histograma = cv2.calcHist([np.uint8(nueva_celda)], [0], None, [256], [0, 256]).ravel()\n",
    "            caracteristicas.append(uniformar(histograma))\n",
    "    return np.concatenate(caracteristicas)"
   ]
  },
  {
   "cell_type": "code",
   "execution_count": 83,
   "id": "9eb2a2f9",
   "metadata": {},
   "outputs": [
    {
     "name": "stdout",
     "output_type": "stream",
     "text": [
      "(49152,)\n"
     ]
    }
   ],
   "source": [
    "n = 2\n",
    "imagen = cv2.imread(f'{rutaDogsTrain}/{dogTrain[n]}')\n",
    "caracteristicasR = transforma_imagen(imagen[:,:, 0], sizeVentana, tamanoMax)\n",
    "caracteristicasG = transforma_imagen(imagen[:,:, 1], sizeVentana, tamanoMax)\n",
    "caracteristicasB = transforma_imagen(imagen[:,:, 2], sizeVentana, tamanoMax)\n",
    "caracteristicas = np.concatenate((caracteristicasR, caracteristicasG, caracteristicasB))\n",
    "print(caracteristicas.shape)"
   ]
  },
  {
   "cell_type": "code",
   "execution_count": 82,
   "id": "9e9d8e2f",
   "metadata": {},
   "outputs": [
    {
     "data": {
      "text/plain": [
       "(375, 499)"
      ]
     },
     "execution_count": 82,
     "metadata": {},
     "output_type": "execute_result"
    }
   ],
   "source": [
    "imagen = cv2.imread(f'{rutaDogsTrain}/{dogTrain[n]}')\n",
    "imagen[:,:, 1].shape"
   ]
  },
  {
   "cell_type": "code",
   "execution_count": 142,
   "id": "d290328e",
   "metadata": {},
   "outputs": [
    {
     "name": "stderr",
     "output_type": "stream",
     "text": [
      "Perros: 100%|\u001b[38;2;255;136;248m██████████\u001b[0m| 100/100 [02:31<00:00,  1.52s/it]\n",
      "Gatos: 100%|\u001b[38;2;136;255;221m██████████\u001b[0m| 100/100 [02:35<00:00,  1.55s/it]\n"
     ]
    }
   ],
   "source": [
    "X = []\n",
    "for i in tqdm(range(len(dogTrain)), desc = \"Perros\", colour = '#FF88F8'):\n",
    "    imagen = cv2.imread(f'{rutaDogsTrain}/{dogTrain[i]}', 0)\n",
    "    caracteristicas = transforma_imagen2(imagen, sizeVentana, tamanoMax)\n",
    "#     caracteristicasR = transforma_imagen(imagen[:,:, 0], sizeVentana, tamanoMax)\n",
    "#     caracteristicasG = transforma_imagen(imagen[:,:, 1], sizeVentana, tamanoMax)\n",
    "#     caracteristicasB = transforma_imagen(imagen[:,:, 2], sizeVentana, tamanoMax)\n",
    "#     caracteristicas = np.vstack((caracteristicasR, caracteristicasG, caracteristicasB))\n",
    "    X.append(caracteristicas)\n",
    "\n",
    "for i in tqdm(range(len(catTrain)), desc = \"Gatos\", colour = '#88FFDD'):\n",
    "    imagen = cv2.imread(f'{rutaCatsTrain}/{catTrain[i]}', 0)\n",
    "    caracteristicas = transforma_imagen2(imagen, sizeVentana, tamanoMax)\n",
    "#     caracteristicasR = transforma_imagen(imagen[:,:, 0], sizeVentana, tamanoMax)\n",
    "#     caracteristicasG = transforma_imagen(imagen[:,:, 1], sizeVentana, tamanoMax)\n",
    "#     caracteristicasB = transforma_imagen(imagen[:,:, 2], sizeVentana, tamanoMax)\n",
    "#     caracteristicas = np.vstack((caracteristicasR, caracteristicasG, caracteristicasB))\n",
    "    X.append(caracteristicas)\n",
    "    \n",
    "X = np.array(X)\n",
    "y = np.hstack((np.ones(len(dogTrain)), np.zeros(len(catTrain)))).reshape(-1, 1)\n"
   ]
  },
  {
   "cell_type": "code",
   "execution_count": 143,
   "id": "ae5212b2",
   "metadata": {},
   "outputs": [
    {
     "name": "stderr",
     "output_type": "stream",
     "text": [
      "Perros Test: 100%|\u001b[38;2;255;136;187m██████████\u001b[0m| 20/20 [00:29<00:00,  1.48s/it]\n",
      "Gatos Test: 100%|\u001b[38;2;136;255;224m██████████\u001b[0m| 20/20 [00:29<00:00,  1.46s/it]\n"
     ]
    }
   ],
   "source": [
    "Xtest = []\n",
    "for i in tqdm(range(len(dogTest)), desc = \"Perros Test\", colour = '#FF88BB'):\n",
    "    imagen = cv2.imread(f'{rutaDogsTest}/{dogTest[i]}', 0)\n",
    "    caracteristicas = transforma_imagen2(imagen, sizeVentana, tamanoMax)\n",
    "#     caracteristicasR = transforma_imagen(imagen[:,:, 0], sizeVentana, tamanoMax)\n",
    "#     caracteristicasG = transforma_imagen(imagen[:,:, 1], sizeVentana, tamanoMax)\n",
    "#     caracteristicasB = transforma_imagen(imagen[:,:, 2], sizeVentana, tamanoMax)\n",
    "#     caracteristicas = np.vstack((caracteristicasR, caracteristicasG, caracteristicasB))\n",
    "    Xtest.append(caracteristicas)\n",
    "\n",
    "for i in tqdm(range(len(catTest)), desc = \"Gatos Test\", colour = '#88FFE0'):\n",
    "    imagen = cv2.imread(f'{rutaCatsTest}/{catTest[i]}', 0)\n",
    "    caracteristicas = transforma_imagen2(imagen, sizeVentana, tamanoMax)\n",
    "#     caracteristicasR = transforma_imagen(imagen[:,:, 0], sizeVentana, tamanoMax)\n",
    "#     caracteristicasG = transforma_imagen(imagen[:,:, 1], sizeVentana, tamanoMax)\n",
    "#     caracteristicasB = transforma_imagen(imagen[:,:, 2], sizeVentana, tamanoMax)\n",
    "#     caracteristicas = np.vstack((caracteristicasR, caracteristicasG, caracteristicasB))\n",
    "    Xtest.append(caracteristicas)\n",
    "    \n",
    "Xtest = np.array(Xtest)\n",
    "ytest = np.hstack((np.ones(len(dogTest)), np.zeros(len(catTest)))).reshape(-1, 1)"
   ]
  },
  {
   "cell_type": "code",
   "execution_count": 144,
   "id": "0e8e92e3",
   "metadata": {},
   "outputs": [
    {
     "name": "stdout",
     "output_type": "stream",
     "text": [
      "(170, 15104)\n"
     ]
    }
   ],
   "source": [
    "Xtrain, Xval, ytrain, yval = train_test_split(X, y, test_size = 0.15, random_state = 42)\n",
    "print(Xtrain.shape)"
   ]
  },
  {
   "cell_type": "code",
   "execution_count": 145,
   "id": "f4e23c34",
   "metadata": {},
   "outputs": [
    {
     "name": "stdout",
     "output_type": "stream",
     "text": [
      "[PhysicalDevice(name='/physical_device:CPU:0', device_type='CPU'), PhysicalDevice(name='/physical_device:GPU:0', device_type='GPU')]\n",
      "Número de GPUs disponibles:  1\n"
     ]
    }
   ],
   "source": [
    "import tensorflow as tf\n",
    "from tensorflow.keras.models import Sequential\n",
    "from tensorflow.keras.layers import Dense, Dropout, Flatten, Conv1D, MaxPooling1D, LSTM, TimeDistributed, GRU, SimpleRNN\n",
    "import tensorflow.keras as keras\n",
    "\n",
    "#Para ver si detecta la GPU (si no, hacer \"conda install -c conda-forge cudnn\" o algo así)\n",
    "print(tf.config.list_physical_devices())\n",
    "print(\"Número de GPUs disponibles: \", len(tf.config.experimental.list_physical_devices('GPU')))"
   ]
  },
  {
   "cell_type": "code",
   "execution_count": 148,
   "id": "37ba26b9",
   "metadata": {},
   "outputs": [
    {
     "name": "stdout",
     "output_type": "stream",
     "text": [
      "Model: \"sequential_3\"\n",
      "_________________________________________________________________\n",
      " Layer (type)                Output Shape              Param #   \n",
      "=================================================================\n",
      " dense_6 (Dense)             (None, 64)                966720    \n",
      "                                                                 \n",
      " dense_7 (Dense)             (None, 1)                 65        \n",
      "                                                                 \n",
      "=================================================================\n",
      "Total params: 966,785\n",
      "Trainable params: 966,785\n",
      "Non-trainable params: 0\n",
      "_________________________________________________________________\n"
     ]
    }
   ],
   "source": [
    "model = Sequential([\n",
    "#     Conv1D(64, 3, input_shape = (3, 3776)),\n",
    "#     MaxPooling1D(1),\n",
    "#     GRU(64, kernel_regularizer = 'l2', dropout = 0.25),\n",
    "    Dense(64, input_shape = (15104,)),\n",
    "    Dense(1, activation = 'sigmoid')\n",
    "])\n",
    "model.summary()\n",
    "model.compile(optimizer = keras.optimizers.Adamax(), loss = keras.losses.binary_crossentropy, metrics = ['acc'])"
   ]
  },
  {
   "cell_type": "code",
   "execution_count": 153,
   "id": "afd3a1c8",
   "metadata": {},
   "outputs": [
    {
     "name": "stdout",
     "output_type": "stream",
     "text": [
      "Epoch 1/32\n",
      "1/1 [==============================] - 0s 157ms/step - loss: 2.9735 - acc: 0.9235 - val_loss: 28.5884 - val_acc: 0.6333\n",
      "Epoch 2/32\n",
      "1/1 [==============================] - 0s 80ms/step - loss: 1.6080 - acc: 0.9529 - val_loss: 31.0645 - val_acc: 0.6000\n",
      "Epoch 3/32\n",
      "1/1 [==============================] - 0s 81ms/step - loss: 2.8209 - acc: 0.9235 - val_loss: 33.7067 - val_acc: 0.5667\n",
      "Epoch 4/32\n",
      "1/1 [==============================] - 0s 77ms/step - loss: 4.9101 - acc: 0.8647 - val_loss: 34.2206 - val_acc: 0.5667\n",
      "Epoch 5/32\n",
      "1/1 [==============================] - 0s 82ms/step - loss: 5.3189 - acc: 0.8412 - val_loss: 31.6736 - val_acc: 0.5667\n",
      "Epoch 6/32\n",
      "1/1 [==============================] - 0s 100ms/step - loss: 3.2333 - acc: 0.8941 - val_loss: 27.3471 - val_acc: 0.6000\n",
      "Epoch 7/32\n",
      "1/1 [==============================] - 0s 78ms/step - loss: 1.3815 - acc: 0.9588 - val_loss: 23.8668 - val_acc: 0.6333\n",
      "Epoch 8/32\n",
      "1/1 [==============================] - 0s 79ms/step - loss: 0.3440 - acc: 0.9765 - val_loss: 22.5265 - val_acc: 0.6000\n",
      "Epoch 9/32\n",
      "1/1 [==============================] - 0s 79ms/step - loss: 2.1213e-04 - acc: 1.0000 - val_loss: 24.1451 - val_acc: 0.6333\n",
      "Epoch 10/32\n",
      "1/1 [==============================] - 0s 79ms/step - loss: 0.0789 - acc: 0.9941 - val_loss: 27.8175 - val_acc: 0.5667\n",
      "Epoch 11/32\n",
      "1/1 [==============================] - 0s 77ms/step - loss: 0.3954 - acc: 0.9706 - val_loss: 32.2270 - val_acc: 0.6333\n",
      "Epoch 12/32\n",
      "1/1 [==============================] - 0s 84ms/step - loss: 0.9542 - acc: 0.9353 - val_loss: 34.1192 - val_acc: 0.6333\n",
      "Epoch 13/32\n",
      "1/1 [==============================] - 0s 98ms/step - loss: 1.2238 - acc: 0.9294 - val_loss: 32.5976 - val_acc: 0.6333\n",
      "Epoch 14/32\n",
      "1/1 [==============================] - 0s 101ms/step - loss: 0.8155 - acc: 0.9412 - val_loss: 28.8257 - val_acc: 0.6000\n",
      "Epoch 15/32\n",
      "1/1 [==============================] - 0s 76ms/step - loss: 0.3177 - acc: 0.9706 - val_loss: 24.6880 - val_acc: 0.5667\n",
      "Epoch 16/32\n",
      "1/1 [==============================] - 0s 83ms/step - loss: 0.0360 - acc: 0.9941 - val_loss: 21.3355 - val_acc: 0.6667\n",
      "Epoch 17/32\n",
      "1/1 [==============================] - 0s 90ms/step - loss: 3.1045e-07 - acc: 1.0000 - val_loss: 19.5461 - val_acc: 0.6333\n",
      "Epoch 18/32\n",
      "1/1 [==============================] - 0s 126ms/step - loss: 2.6766e-13 - acc: 1.0000 - val_loss: 18.6981 - val_acc: 0.6333\n",
      "Epoch 19/32\n",
      "1/1 [==============================] - 0s 119ms/step - loss: 9.1666e-18 - acc: 1.0000 - val_loss: 18.5236 - val_acc: 0.5667\n",
      "Epoch 20/32\n",
      "1/1 [==============================] - 0s 94ms/step - loss: 2.2860e-21 - acc: 1.0000 - val_loss: 18.6796 - val_acc: 0.5667\n",
      "Epoch 21/32\n",
      "1/1 [==============================] - 0s 83ms/step - loss: 1.0816e-20 - acc: 1.0000 - val_loss: 19.1541 - val_acc: 0.6000\n",
      "Epoch 22/32\n",
      "1/1 [==============================] - 0s 91ms/step - loss: 1.8320e-18 - acc: 1.0000 - val_loss: 19.8964 - val_acc: 0.6000\n",
      "Epoch 23/32\n",
      "1/1 [==============================] - 0s 90ms/step - loss: 1.9391e-16 - acc: 1.0000 - val_loss: 20.5887 - val_acc: 0.6000\n",
      "Epoch 24/32\n",
      "1/1 [==============================] - 0s 75ms/step - loss: 1.3720e-14 - acc: 1.0000 - val_loss: 21.3625 - val_acc: 0.6333\n",
      "Epoch 25/32\n",
      "1/1 [==============================] - 0s 86ms/step - loss: 6.8940e-13 - acc: 1.0000 - val_loss: 22.1340 - val_acc: 0.6000\n",
      "Epoch 26/32\n",
      "1/1 [==============================] - 0s 95ms/step - loss: 2.6152e-11 - acc: 1.0000 - val_loss: 22.9272 - val_acc: 0.6000\n",
      "Epoch 27/32\n",
      "1/1 [==============================] - 0s 145ms/step - loss: 8.2135e-10 - acc: 1.0000 - val_loss: 23.6569 - val_acc: 0.6000\n",
      "Epoch 28/32\n",
      "1/1 [==============================] - 0s 110ms/step - loss: 2.4337e-08 - acc: 1.0000 - val_loss: 24.3146 - val_acc: 0.6000\n",
      "Epoch 29/32\n",
      "1/1 [==============================] - 0s 89ms/step - loss: 7.1560e-07 - acc: 1.0000 - val_loss: 24.9139 - val_acc: 0.6000\n",
      "Epoch 30/32\n",
      "1/1 [==============================] - 0s 96ms/step - loss: 1.8883e-05 - acc: 1.0000 - val_loss: 25.5067 - val_acc: 0.5667\n",
      "Epoch 31/32\n",
      "1/1 [==============================] - 0s 101ms/step - loss: 3.8945e-04 - acc: 1.0000 - val_loss: 26.0706 - val_acc: 0.5667\n",
      "Epoch 32/32\n",
      "1/1 [==============================] - 0s 122ms/step - loss: 0.0043 - acc: 1.0000 - val_loss: 26.4985 - val_acc: 0.5667\n"
     ]
    }
   ],
   "source": [
    "historico = model.fit(\n",
    "    Xtrain, \n",
    "    ytrain, \n",
    "    batch_size = 1000, \n",
    "    epochs = 32,\n",
    "    validation_data= (Xval, yval)\n",
    ")"
   ]
  },
  {
   "cell_type": "code",
   "execution_count": 154,
   "id": "ccfaa0f9",
   "metadata": {},
   "outputs": [
    {
     "data": {
      "text/plain": [
       "[<matplotlib.lines.Line2D at 0x1d94e170d90>]"
      ]
     },
     "execution_count": 154,
     "metadata": {},
     "output_type": "execute_result"
    },
    {
     "data": {
      "image/png": "[encoded data removed]",
      "text/plain": [
       "<Figure size 640x480 with 1 Axes>"
      ]
     },
     "metadata": {},
     "output_type": "display_data"
    }
   ],
   "source": [
    "historial = historico.history\n",
    "plt.plot(historial['loss'])\n",
    "plt.plot(historial['val_loss'])"
   ]
  },
  {
   "cell_type": "code",
   "execution_count": 155,
   "id": "7385dabd",
   "metadata": {},
   "outputs": [
    {
     "data": {
      "text/plain": [
       "[<matplotlib.lines.Line2D at 0x1d9313ac940>]"
      ]
     },
     "execution_count": 155,
     "metadata": {},
     "output_type": "execute_result"
    },
    {
     "data": {
      "image/png": "[encoded data removed]",
      "text/plain": [
       "<Figure size 640x480 with 1 Axes>"
      ]
     },
     "metadata": {},
     "output_type": "display_data"
    }
   ],
   "source": [
    "plt.plot(historial['acc'])\n",
    "plt.plot(historial['val_acc'])"
   ]
  },
  {
   "cell_type": "code",
   "execution_count": 156,
   "id": "aaddcade",
   "metadata": {},
   "outputs": [
    {
     "name": "stdout",
     "output_type": "stream",
     "text": [
      "2/2 [==============================] - 0s 7ms/step\n",
      "60.0%\n"
     ]
    }
   ],
   "source": [
    "prediccion = model.predict(Xtest)\n",
    "aciertos = np.sum(np.round(prediccion) == ytest)\n",
    "print(f'{aciertos/ytest.shape[0]*100 }%')"
   ]
  },
  {
   "cell_type": "code",
   "execution_count": 136,
   "id": "ce008384",
   "metadata": {},
   "outputs": [],
   "source": [
    "model.save('RGB_sin_modconv.h5')"
   ]
  },
  {
   "cell_type": "code",
   "execution_count": 157,
   "id": "83db18b9",
   "metadata": {},
   "outputs": [
    {
     "data": {
      "text/plain": [
       "SVC(kernel='linear', max_iter=10000)"
      ]
     },
     "execution_count": 157,
     "metadata": {},
     "output_type": "execute_result"
    }
   ],
   "source": [
    "# Importamos las SVMs\n",
    "from sklearn import svm\n",
    "# Creamos un clasificador SVM usando svm.SVC con kernel='linear', C=1.0 y máximo número de iteraciones = 1000\n",
    "svc = svm.SVC(kernel = 'linear', C = 1.0, max_iter = 10000)\n",
    "svc"
   ]
  },
  {
   "cell_type": "code",
   "execution_count": 169,
   "id": "9e78a5a5",
   "metadata": {},
   "outputs": [
    {
     "name": "stdout",
     "output_type": "stream",
     "text": [
      "Precisión en train: 100.0%\n",
      "Predicción en test: 92.5%\n"
     ]
    }
   ],
   "source": [
    "# Importamos las SVMs\n",
    "from sklearn import svm\n",
    "from sklearn.pipeline import make_pipeline\n",
    "from sklearn.preprocessing import StandardScaler\n",
    "\n",
    "clf = make_pipeline(StandardScaler(),  svm.SVC(kernel = 'linear', C = 1)) #tam = 256 -> 92.5%\n",
    "# clf = make_pipeline(StandardScaler(),  svm.SVC(C = 2)) #tam = 128 -> 92.5%\n",
    "\n",
    "# Entrenamos el modelo\n",
    "clf.fit(X, y.ravel())\n",
    "# Obtenemos la precisión\n",
    "accTrain = clf.score(X, y)\n",
    "print(\"Precisión en train: {}%\".format(accTrain*100))\n",
    "\n",
    "print(f\"Predicción en test: {clf.score(Xtest, ytest)*100}%\")"
   ]
  },
  {
   "cell_type": "code",
   "execution_count": null,
   "id": "b1d076f6",
   "metadata": {},
   "outputs": [],
   "source": []
  }
 ],
 "metadata": {
  "kernelspec": {
   "display_name": "Python 3 (ipykernel)",
   "language": "python",
   "name": "python3"
  },
  "language_info": {
   "codemirror_mode": {
    "name": "ipython",
    "version": 3
   },
   "file_extension": ".py",
   "mimetype": "text/x-python",
   "name": "python",
   "nbconvert_exporter": "python",
   "pygments_lexer": "ipython3",
   "version": "3.9.13"
  }
 },
 "nbformat": 4,
 "nbformat_minor": 5
}
