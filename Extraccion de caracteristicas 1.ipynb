{
 "cells": [
  {
   "cell_type": "code",
   "execution_count": 1,
   "id": "ef323476",
   "metadata": {},
   "outputs": [],
   "source": [
    "import numpy as np\n",
    "import cv2\n",
    "from tqdm import tqdm\n",
    "from sklearn.model_selection import train_test_split\n",
    "import matplotlib.pyplot as plt "
   ]
  },
  {
   "cell_type": "code",
   "execution_count": 2,
   "id": "5e7e4c1b",
   "metadata": {},
   "outputs": [],
   "source": [
    "rutaDogsTrain = 'cat_dog_100/train/dog'\n",
    "rutaDogsTest = 'cat_dog_100/test/dog'\n",
    "rutaCatsTrain = 'cat_dog_100/train/cat'\n",
    "rutaCatsTest = 'cat_dog_100/test/cat'\n",
    "\n",
    "tamanoMax = 128\n",
    "sizeVentana = 16\n",
    "tamanoMax = int(tamanoMax/sizeVentana)*sizeVentana"
   ]
  },
  {
   "cell_type": "code",
   "execution_count": 5,
   "id": "1648a6fc",
   "metadata": {},
   "outputs": [
    {
     "name": "stdout",
     "output_type": "stream",
     "text": [
      "cat_dog_100/train/dog/dog.10000.jpg\n"
     ]
    }
   ],
   "source": [
    "from os import walk\n",
    "\n",
    "dogTrain = []\n",
    "dogTest = []\n",
    "catTest = []\n",
    "catTrain = []\n",
    "for (dirpath, dirnames, filenames) in walk(rutaDogsTrain):\n",
    "    dogTrain.extend(filenames)\n",
    "    \n",
    "for (dirpath, dirnames, filenames) in walk(rutaDogsTest):\n",
    "    dogTest.extend(filenames)\n",
    "\n",
    "for (dirpath, dirnames, filenames) in walk(rutaCatsTest):\n",
    "    catTest.extend(filenames)\n",
    "\n",
    "for (dirpath, dirnames, filenames) in walk(rutaCatsTrain):\n",
    "    catTrain.extend(filenames)\n",
    "    \n",
    "print(f'{rutaDogsTrain}/{dogTrain[0]}')"
   ]
  },
  {
   "cell_type": "code",
   "execution_count": 6,
   "id": "79703d30",
   "metadata": {},
   "outputs": [],
   "source": [
    "def filtro(imagen, mascara):\n",
    "    a = mascara.shape[0]//2\n",
    "    b = mascara.shape[1]//2\n",
    "    imagen_ampliada = cv2.copyMakeBorder(imagen, a, a, b, b, cv2.BORDER_REPLICATE)\n",
    "    imagen2 = np.zeros(imagen.shape)\n",
    "    for i in range(a, imagen.shape[0] + a):\n",
    "        for j in range(b, imagen.shape[1] + b):\n",
    "            imagen2[i-a, j-b] = np.sum(imagen_ampliada[i-a:i+a+1, j-b:j+b+1] * mascara)\n",
    "            \n",
    "    return imagen2"
   ]
  },
  {
   "cell_type": "code",
   "execution_count": 7,
   "id": "3cc49f0a",
   "metadata": {},
   "outputs": [],
   "source": [
    "def gradiente(imagen):\n",
    "    m_g_x = np.array([[0, -1, 0], [0, 0, 0], [0, 1, 0]])\n",
    "    m_g_y = np.array([[0, 0, 0], [-1, 0, 1], [0, 0, 0]])\n",
    "    Ix = filtro(imagen, m_g_x)\n",
    "    Iy = filtro(imagen, m_g_y)\n",
    "    E = np.sqrt(Ix**2 + Iy**2)\n",
    "    Phi = np.rad2deg(np.arctan2(Iy, Ix))\n",
    "    \n",
    "    return E, Phi"
   ]
  },
  {
   "cell_type": "code",
   "execution_count": 13,
   "id": "36b00274",
   "metadata": {},
   "outputs": [],
   "source": [
    "def transforma_bloque2(celdaPhi, celdaE, bins = 9):\n",
    "    celdaPhi = np.abs(celdaPhi)\n",
    "    hp = cv2.calcHist([np.uint8(celdaPhi)], [0], None, [bins], [0, 180])\n",
    "    a = 180/bins \n",
    "    for i in range(bins):\n",
    "        hp[i] += np.sum(celdaE[(celdaPhi > a*i) & (celdaPhi < -a*(i+1))])\n",
    "    hp = hp / np.sqrt(np.sum(hp**2))\n",
    "    return np.ravel(hp)"
   ]
  },
  {
   "cell_type": "code",
   "execution_count": 14,
   "id": "acb14469",
   "metadata": {},
   "outputs": [],
   "source": [
    "def transforma_imagen2(imagen, sizeVentana, tamanoMax):\n",
    "    E, Phi = gradiente(imagen)\n",
    "    Phi = resize_image(Phi, sizeVentana, tamanoMax, True)\n",
    "    E = resize_image(E, sizeVentana, tamanoMax, True)\n",
    "    caracteristicas = []\n",
    "    a = int(Phi.shape[0]/sizeVentana)\n",
    "    for i in range(a):\n",
    "        for j in range(a):\n",
    "            celdaPhi = Phi[i*sizeVentana:(i+1)*sizeVentana,j*sizeVentana:(j+1)*sizeVentana]\n",
    "            celdaE = E[i*sizeVentana:(i+1)*sizeVentana,j*sizeVentana:(j+1)*sizeVentana]\n",
    "            h = transforma_bloque2(celdaPhi, celdaE)  \n",
    "            caracteristicas.append(h)\n",
    "    return np.concatenate(caracteristicas)"
   ]
  },
  {
   "cell_type": "code",
   "execution_count": 15,
   "id": "841f1eb7",
   "metadata": {},
   "outputs": [],
   "source": [
    "def normalizar(caracteristicas, m, bins = 9):\n",
    "    a = int(np.sqrt(caracteristicas.shape[0] / bins))\n",
    "    caracteristicas = caracteristicas.reshape(a, a, bins)\n",
    "    copia = []\n",
    "    for i in range(caracteristicas.shape[0] - m//2):\n",
    "        for j in range(caracteristicas.shape[1] - m//2):\n",
    "            bloque = caracteristicas[i:i+m, j:j+m]\n",
    "            copia.append(bloque / np.sqrt(np.sum(bloque**2)))\n",
    "    return np.ravel(copia)"
   ]
  },
  {
   "cell_type": "code",
   "execution_count": 19,
   "id": "d2c43bbf",
   "metadata": {},
   "outputs": [],
   "source": [
    "def recorta_imagen(imagen, n):\n",
    "    \"\"\"\n",
    "    Esta función recibe una imagen y un tamaño n y recorta la imagen de tal manera que el número final de filas/columnas \n",
    "    sea múltiplo de n. La funció debe recortar las filas de la derecha/abajo.\n",
    "    \"\"\"\n",
    "    size = np.min([int(imagen.shape[0]/n)*n, int(imagen.shape[1]/n)*n])\n",
    "    return imagen[:size, :size]\n",
    "\n",
    "def resize_image(imagen, sizeVentana, tamanoMax, recorta=False):\n",
    "    if(recorta): imagen = recorta_imagen(imagen, sizeVentana)\n",
    "    imagen2 = cv2.resize(imagen, [tamanoMax,tamanoMax])\n",
    "    return imagen2"
   ]
  },
  {
   "cell_type": "code",
   "execution_count": 26,
   "id": "33402471",
   "metadata": {},
   "outputs": [],
   "source": [
    "def ventana_a_decimal(ventana_binario):\n",
    "    binario = np.array([ventana_binario[0,0], ventana_binario[0,1], ventana_binario[0,2], ventana_binario[1,2], ventana_binario[2,2], ventana_binario[2,1], ventana_binario[2,0], ventana_binario[1,0]])\n",
    "#     anterior = binario[0]\n",
    "#     cont = 0\n",
    "#     for i in range(1, binario.shape[0]):\n",
    "#         if binario[i] == anterior:\n",
    "#             cont+=1\n",
    "#         else:\n",
    "#             cont = 0\n",
    "#         anterior = binario[i]\n",
    "#         if cont == 2:\n",
    "#             binario = 0\n",
    "#             break\n",
    "    return np.sum(binario * np.array([128, 64, 32, 16, 8, 4, 2, 1]))"
   ]
  },
  {
   "cell_type": "code",
   "execution_count": 27,
   "id": "80a70bea",
   "metadata": {},
   "outputs": [],
   "source": [
    "def transforma_bloque(celda):\n",
    "    celda_ampliada = cv2.copyMakeBorder(celda, 1, 1, 1, 1, cv2.BORDER_REPLICATE)\n",
    "    celda2 = np.empty(celda.shape)\n",
    "    for i in range(1, celda.shape[0]+1):\n",
    "        for j in range(1, celda.shape[1]+1):\n",
    "            ventana = celda_ampliada[i-1:i+2, j-1:j+2]\n",
    "            ventana2 = np.zeros(ventana.shape)\n",
    "            pixel_central = ventana[1,1]\n",
    "            ventana2[ventana>pixel_central] = 1\n",
    "            celda2[i-1,j-1] = ventana_a_decimal(ventana2)\n",
    "    return celda2"
   ]
  },
  {
   "cell_type": "code",
   "execution_count": 62,
   "id": "f3ddf927",
   "metadata": {},
   "outputs": [],
   "source": [
    "def transforma_imagen(imagen, sizeVentana, tamanoMax):\n",
    "    imagen = resize_image(imagen, sizeVentana, tamanoMax, False)\n",
    "    caracteristicas = []\n",
    "    a = int(imagen.shape[0]/sizeVentana)\n",
    "    for i in range(a):\n",
    "        for j in range(a):\n",
    "            celda = imagen[i*sizeVentana:(i+1)*sizeVentana,j*sizeVentana:(j+1)*sizeVentana]\n",
    "            nueva_celda = transforma_bloque(celda)\n",
    "            caracteristicas.append(cv2.calcHist([np.uint8(nueva_celda)], [0], None, [256], [0, 256]).ravel())\n",
    "    return np.concatenate(caracteristicas)"
   ]
  },
  {
   "cell_type": "code",
   "execution_count": 63,
   "id": "9eb2a2f9",
   "metadata": {},
   "outputs": [
    {
     "name": "stdout",
     "output_type": "stream",
     "text": [
      "(16384,)\n"
     ]
    }
   ],
   "source": [
    "n = 2\n",
    "imagen = cv2.imread(f'{rutaDogsTrain}/{dogTrain[n]}',0)\n",
    "caracteristicas = transforma_imagen(imagen, sizeVentana, tamanoMax)\n",
    "print(caracteristicas.shape)"
   ]
  },
  {
   "cell_type": "code",
   "execution_count": 64,
   "id": "d290328e",
   "metadata": {},
   "outputs": [
    {
     "name": "stderr",
     "output_type": "stream",
     "text": [
      "Perros: 100%|\u001b[38;2;255;136;248m██████████\u001b[0m| 100/100 [00:30<00:00,  3.31it/s]\n",
      "Gatos: 100%|\u001b[38;2;136;255;221m██████████\u001b[0m| 100/100 [00:30<00:00,  3.24it/s]\n"
     ]
    }
   ],
   "source": [
    "X = []\n",
    "for i in tqdm(range(len(dogTrain)), desc = \"Perros\", colour = '#FF88F8'):\n",
    "    imagen = cv2.imread(f'{rutaDogsTrain}/{dogTrain[i]}',0)\n",
    "    caracteristicas = transforma_imagen(imagen, sizeVentana, tamanoMax)\n",
    "    X.append(caracteristicas)\n",
    "\n",
    "for i in tqdm(range(len(catTrain)), desc = \"Gatos\", colour = '#88FFDD'):\n",
    "    imagen = cv2.imread(f'{rutaCatsTrain}/{catTrain[i]}',0)\n",
    "    caracteristicas = transforma_imagen(imagen, sizeVentana, tamanoMax)\n",
    "    X.append(caracteristicas)\n",
    "    \n",
    "X = np.array(X)\n",
    "y = np.hstack((np.ones(len(dogTrain)), np.zeros(len(catTrain)))).reshape(-1, 1)\n"
   ]
  },
  {
   "cell_type": "code",
   "execution_count": 65,
   "id": "ae5212b2",
   "metadata": {},
   "outputs": [
    {
     "name": "stderr",
     "output_type": "stream",
     "text": [
      "Perros Test: 100%|\u001b[38;2;255;136;187m██████████\u001b[0m| 20/20 [00:06<00:00,  3.26it/s]\n",
      "Gatos Test: 100%|\u001b[38;2;136;255;224m██████████\u001b[0m| 20/20 [00:06<00:00,  3.15it/s]\n"
     ]
    }
   ],
   "source": [
    "Xtest = []\n",
    "for i in tqdm(range(len(dogTest)), desc = \"Perros Test\", colour = '#FF88BB'):\n",
    "    imagen = cv2.imread(f'{rutaDogsTest}/{dogTest[i]}',0)\n",
    "    caracteristicas = transforma_imagen(imagen, sizeVentana, tamanoMax)\n",
    "    Xtest.append(caracteristicas)\n",
    "\n",
    "for i in tqdm(range(len(catTest)), desc = \"Gatos Test\", colour = '#88FFE0'):\n",
    "    imagen = cv2.imread(f'{rutaCatsTest}/{catTest[i]}',0)\n",
    "    caracteristicas = transforma_imagen(imagen, sizeVentana, tamanoMax)\n",
    "    Xtest.append(caracteristicas)\n",
    "    \n",
    "Xtest = np.array(Xtest)\n",
    "ytest = np.hstack((np.ones(len(dogTest)), np.zeros(len(catTest)))).reshape(-1, 1)"
   ]
  },
  {
   "cell_type": "code",
   "execution_count": 66,
   "id": "0e8e92e3",
   "metadata": {},
   "outputs": [
    {
     "name": "stdout",
     "output_type": "stream",
     "text": [
      "(170, 16384)\n"
     ]
    }
   ],
   "source": [
    "Xtrain, Xval, ytrain, yval = train_test_split(X, y, test_size = 0.15, random_state = 42)\n",
    "print(Xtrain.shape)"
   ]
  },
  {
   "cell_type": "code",
   "execution_count": null,
   "id": "44cc5cca",
   "metadata": {},
   "outputs": [
    {
     "name": "stderr",
     "output_type": "stream",
     "text": [
      "Perros: 100%|\u001b[38;2;255;136;248m████████████████████████████████████████████████████████████████████████\u001b[0m| 100/100 [05:59<00:00,  3.59s/it]\u001b[0m\n",
      "Gatos:  13%|\u001b[38;2;136;255;221m█████████▌                                                                \u001b[0m| 13/100 [00:40<04:08,  2.86s/it]\u001b[0m"
     ]
    }
   ],
   "source": [
    "X = []\n",
    "m = 2\n",
    "for i in tqdm(range(len(dogTrain)), desc = \"Perros\", colour = '#FF88F8'):\n",
    "    imagen = cv2.imread(f'{rutaDogsTrain}/{dogTrain[i]}',0)\n",
    "    caracteristicas = transforma_imagen2(imagen, sizeVentana, tamanoMax)\n",
    "    caracteristicas = normalizar(caracteristicas, m)\n",
    "    X.append(caracteristicas)\n",
    "\n",
    "for i in tqdm(range(len(catTrain)), desc = \"Gatos\", colour = '#88FFDD'):\n",
    "    imagen = cv2.imread(f'{rutaCatsTrain}/{catTrain[i]}',0)\n",
    "    caracteristicas = transforma_imagen2(imagen, sizeVentana, tamanoMax)\n",
    "    caracteristicas = normalizar(caracteristicas, m)\n",
    "    X.append(caracteristicas)\n",
    "    \n",
    "X = np.array(X)\n",
    "y = np.hstack((np.ones(len(dogTrain)), np.zeros(len(catTrain)))).reshape(-1, 1)\n"
   ]
  },
  {
   "cell_type": "code",
   "execution_count": null,
   "id": "4bcef508",
   "metadata": {},
   "outputs": [],
   "source": [
    "Xtest = []\n",
    "for i in tqdm(range(len(dogTest)), desc = \"Perros Test\", colour = '#FF88BB'):\n",
    "    imagen = cv2.imread(f'{rutaDogsTest}/{dogTest[i]}',0)\n",
    "    caracteristicas = transforma_imagen2(imagen, sizeVentana, tamanoMax)\n",
    "    caracteristicas = normalizar(caracteristicas, m)\n",
    "    Xtest.append(caracteristicas)\n",
    "\n",
    "for i in tqdm(range(len(catTest)), desc = \"Gatos Test\", colour = '#88FFE0'):\n",
    "    imagen = cv2.imread(f'{rutaCatsTest}/{catTest[i]}',0)\n",
    "    caracteristicas = transforma_imagen2(imagen, sizeVentana, tamanoMax)\n",
    "    caracteristicas = normalizar(caracteristicas, m)\n",
    "    Xtest.append(caracteristicas)\n",
    "    \n",
    "Xtest = np.array(Xtest)\n",
    "ytest = np.hstack((np.ones(len(dogTest)), np.zeros(len(catTest)))).reshape(-1, 1)"
   ]
  },
  {
   "cell_type": "code",
   "execution_count": 44,
   "id": "988d86b4",
   "metadata": {},
   "outputs": [],
   "source": [
    "Xtrain, Xval, ytrain, yval = train_test_split(X, y, test_size = 0.15, random_state = 42)"
   ]
  },
  {
   "cell_type": "code",
   "execution_count": 51,
   "id": "f4e23c34",
   "metadata": {},
   "outputs": [
    {
     "name": "stdout",
     "output_type": "stream",
     "text": [
      "[PhysicalDevice(name='/physical_device:CPU:0', device_type='CPU'), PhysicalDevice(name='/physical_device:GPU:0', device_type='GPU')]\n",
      "Número de GPUs disponibles:  1\n"
     ]
    }
   ],
   "source": [
    "import tensorflow as tf\n",
    "from tensorflow.keras.models import Sequential\n",
    "from tensorflow.keras.layers import Dense, Dropout, Flatten, Conv1D, MaxPooling1D, LSTM, TimeDistributed, GRU, SimpleRNN\n",
    "import tensorflow.keras as keras\n",
    "\n",
    "#Para ver si detecta la GPU (si no, hacer \"conda install -c conda-forge cudnn\" o algo así)\n",
    "print(tf.config.list_physical_devices())\n",
    "print(\"Número de GPUs disponibles: \", len(tf.config.experimental.list_physical_devices('GPU')))"
   ]
  },
  {
   "cell_type": "code",
   "execution_count": 82,
   "id": "37ba26b9",
   "metadata": {},
   "outputs": [
    {
     "name": "stdout",
     "output_type": "stream",
     "text": [
      "Model: \"sequential_3\"\n",
      "_________________________________________________________________\n",
      " Layer (type)                Output Shape              Param #   \n",
      "=================================================================\n",
      " dense_6 (Dense)             (None, 64)                1048640   \n",
      "                                                                 \n",
      " dense_7 (Dense)             (None, 1)                 65        \n",
      "                                                                 \n",
      "=================================================================\n",
      "Total params: 1,048,705\n",
      "Trainable params: 1,048,705\n",
      "Non-trainable params: 0\n",
      "_________________________________________________________________\n"
     ]
    }
   ],
   "source": [
    "model = Sequential([\n",
    "    Dense(64, input_shape = (16384, )),\n",
    "    Dense(1, activation = 'sigmoid')\n",
    "])\n",
    "model.summary()\n"
   ]
  },
  {
   "cell_type": "code",
   "execution_count": 83,
   "id": "08e805d4",
   "metadata": {},
   "outputs": [],
   "source": [
    "model.compile(optimizer = keras.optimizers.Adamax(), loss = keras.losses.binary_crossentropy, metrics = ['acc'])"
   ]
  },
  {
   "cell_type": "code",
   "execution_count": 84,
   "id": "afd3a1c8",
   "metadata": {},
   "outputs": [
    {
     "name": "stdout",
     "output_type": "stream",
     "text": [
      "Epoch 1/32\n",
      "1/1 [==============================] - 1s 531ms/step - loss: 3.7953 - acc: 0.4706 - val_loss: 67.3532 - val_acc: 0.5333\n",
      "Epoch 2/32\n",
      "1/1 [==============================] - 0s 57ms/step - loss: 73.4803 - acc: 0.4941 - val_loss: 60.0042 - val_acc: 0.5333\n",
      "Epoch 3/32\n",
      "1/1 [==============================] - 0s 54ms/step - loss: 64.8750 - acc: 0.4941 - val_loss: 30.5265 - val_acc: 0.5333\n",
      "Epoch 4/32\n",
      "1/1 [==============================] - 0s 67ms/step - loss: 32.3482 - acc: 0.4941 - val_loss: 7.6803 - val_acc: 0.4667\n",
      "Epoch 5/32\n",
      "1/1 [==============================] - 0s 58ms/step - loss: 5.2472 - acc: 0.5294 - val_loss: 24.3532 - val_acc: 0.4667\n",
      "Epoch 6/32\n",
      "1/1 [==============================] - 0s 51ms/step - loss: 19.8448 - acc: 0.5059 - val_loss: 21.9150 - val_acc: 0.4667\n",
      "Epoch 7/32\n",
      "1/1 [==============================] - 0s 51ms/step - loss: 16.7452 - acc: 0.5059 - val_loss: 6.3213 - val_acc: 0.4667\n",
      "Epoch 8/32\n",
      "1/1 [==============================] - 0s 50ms/step - loss: 3.0874 - acc: 0.7176 - val_loss: 7.6823 - val_acc: 0.6333\n",
      "Epoch 9/32\n",
      "1/1 [==============================] - 0s 53ms/step - loss: 5.6570 - acc: 0.6353 - val_loss: 13.8200 - val_acc: 0.5333\n",
      "Epoch 10/32\n",
      "1/1 [==============================] - 0s 65ms/step - loss: 11.3495 - acc: 0.5529 - val_loss: 11.1303 - val_acc: 0.6000\n",
      "Epoch 11/32\n",
      "1/1 [==============================] - 0s 67ms/step - loss: 8.4036 - acc: 0.6059 - val_loss: 5.8613 - val_acc: 0.6333\n",
      "Epoch 12/32\n",
      "1/1 [==============================] - 0s 53ms/step - loss: 2.1839 - acc: 0.7882 - val_loss: 5.8672 - val_acc: 0.6000\n",
      "Epoch 13/32\n",
      "1/1 [==============================] - 0s 49ms/step - loss: 1.8519 - acc: 0.8471 - val_loss: 11.8419 - val_acc: 0.4667\n",
      "Epoch 14/32\n",
      "1/1 [==============================] - 0s 51ms/step - loss: 4.8892 - acc: 0.6765 - val_loss: 12.9482 - val_acc: 0.4667\n",
      "Epoch 15/32\n",
      "1/1 [==============================] - 0s 51ms/step - loss: 5.2700 - acc: 0.6706 - val_loss: 8.6371 - val_acc: 0.6000\n",
      "Epoch 16/32\n",
      "1/1 [==============================] - 0s 53ms/step - loss: 2.6553 - acc: 0.8176 - val_loss: 5.3020 - val_acc: 0.6667\n",
      "Epoch 17/32\n",
      "1/1 [==============================] - 0s 51ms/step - loss: 0.7487 - acc: 0.9118 - val_loss: 5.9125 - val_acc: 0.5667\n",
      "Epoch 18/32\n",
      "1/1 [==============================] - 0s 50ms/step - loss: 0.9129 - acc: 0.8647 - val_loss: 7.3134 - val_acc: 0.6667\n",
      "Epoch 19/32\n",
      "1/1 [==============================] - 0s 51ms/step - loss: 2.0539 - acc: 0.8176 - val_loss: 7.8678 - val_acc: 0.7000\n",
      "Epoch 20/32\n",
      "1/1 [==============================] - 0s 49ms/step - loss: 2.3808 - acc: 0.7882 - val_loss: 6.9888 - val_acc: 0.6667\n",
      "Epoch 21/32\n",
      "1/1 [==============================] - 0s 53ms/step - loss: 1.4687 - acc: 0.8529 - val_loss: 5.7460 - val_acc: 0.5667\n",
      "Epoch 22/32\n",
      "1/1 [==============================] - 0s 57ms/step - loss: 0.3745 - acc: 0.9235 - val_loss: 4.9159 - val_acc: 0.6333\n",
      "Epoch 23/32\n",
      "1/1 [==============================] - 0s 64ms/step - loss: 0.0457 - acc: 0.9706 - val_loss: 5.3209 - val_acc: 0.6667\n",
      "Epoch 24/32\n",
      "1/1 [==============================] - 0s 66ms/step - loss: 0.2176 - acc: 0.9529 - val_loss: 6.6556 - val_acc: 0.5667\n",
      "Epoch 25/32\n",
      "1/1 [==============================] - 0s 70ms/step - loss: 0.4414 - acc: 0.9294 - val_loss: 7.6404 - val_acc: 0.6000\n",
      "Epoch 26/32\n",
      "1/1 [==============================] - 0s 50ms/step - loss: 0.5841 - acc: 0.9000 - val_loss: 7.6651 - val_acc: 0.6000\n",
      "Epoch 27/32\n",
      "1/1 [==============================] - 0s 51ms/step - loss: 0.4735 - acc: 0.9118 - val_loss: 6.8674 - val_acc: 0.6000\n",
      "Epoch 28/32\n",
      "1/1 [==============================] - 0s 51ms/step - loss: 0.2098 - acc: 0.9529 - val_loss: 5.7732 - val_acc: 0.5667\n",
      "Epoch 29/32\n",
      "1/1 [==============================] - 0s 51ms/step - loss: 0.0448 - acc: 0.9765 - val_loss: 4.9021 - val_acc: 0.6667\n",
      "Epoch 30/32\n",
      "1/1 [==============================] - 0s 51ms/step - loss: 7.6223e-04 - acc: 1.0000 - val_loss: 4.3121 - val_acc: 0.6333\n",
      "Epoch 31/32\n",
      "1/1 [==============================] - 0s 52ms/step - loss: 5.6304e-06 - acc: 1.0000 - val_loss: 3.9867 - val_acc: 0.6333\n",
      "Epoch 32/32\n",
      "1/1 [==============================] - 0s 51ms/step - loss: 1.0981e-07 - acc: 1.0000 - val_loss: 3.8765 - val_acc: 0.6333\n"
     ]
    }
   ],
   "source": [
    "historico = model.fit(\n",
    "    Xtrain, \n",
    "    ytrain, \n",
    "    batch_size = 1000, \n",
    "    epochs = 32,\n",
    "    validation_data= (Xval, yval)\n",
    ")"
   ]
  },
  {
   "cell_type": "code",
   "execution_count": 85,
   "id": "ccfaa0f9",
   "metadata": {},
   "outputs": [
    {
     "data": {
      "text/plain": [
       "[<matplotlib.lines.Line2D at 0x20c469b4c40>]"
      ]
     },
     "execution_count": 85,
     "metadata": {},
     "output_type": "execute_result"
    },
    {
     "data": {
      "image/png": "[encoded data removed]",
      "text/plain": [
       "<Figure size 640x480 with 1 Axes>"
      ]
     },
     "metadata": {},
     "output_type": "display_data"
    }
   ],
   "source": [
    "historial = historico.history\n",
    "plt.plot(historial['loss'])\n",
    "plt.plot(historial['val_loss'])"
   ]
  },
  {
   "cell_type": "code",
   "execution_count": 86,
   "id": "7385dabd",
   "metadata": {},
   "outputs": [
    {
     "data": {
      "text/plain": [
       "[<matplotlib.lines.Line2D at 0x20c46b422b0>]"
      ]
     },
     "execution_count": 86,
     "metadata": {},
     "output_type": "execute_result"
    },
    {
     "data": {
      "image/png": "[encoded data removed]",
      "text/plain": [
       "<Figure size 640x480 with 1 Axes>"
      ]
     },
     "metadata": {},
     "output_type": "display_data"
    }
   ],
   "source": [
    "plt.plot(historial['acc'])\n",
    "plt.plot(historial['val_acc'])"
   ]
  },
  {
   "cell_type": "code",
   "execution_count": 87,
   "id": "aaddcade",
   "metadata": {},
   "outputs": [
    {
     "name": "stdout",
     "output_type": "stream",
     "text": [
      "2/2 [==============================] - 0s 3ms/step\n",
      "87.5%\n"
     ]
    }
   ],
   "source": [
    "prediccion = model.predict(Xtest)\n",
    "aciertos = np.sum(np.round(prediccion) == ytest)\n",
    "print(f'{aciertos/ytest.shape[0]*100 }%')"
   ]
  },
  {
   "cell_type": "code",
   "execution_count": 73,
   "id": "83db18b9",
   "metadata": {},
   "outputs": [
    {
     "data": {
      "text/plain": [
       "SVC(kernel='linear', max_iter=10000)"
      ]
     },
     "execution_count": 73,
     "metadata": {},
     "output_type": "execute_result"
    }
   ],
   "source": [
    "# Importamos las SVMs\n",
    "from sklearn import svm\n",
    "# Creamos un clasificador SVM usando svm.SVC con kernel='linear', C=1.0 y máximo número de iteraciones = 1000\n",
    "svc = svm.SVC(kernel = 'linear', C = 1.0, max_iter = 10000)\n",
    "svc"
   ]
  },
  {
   "cell_type": "code",
   "execution_count": 74,
   "id": "523be3c3",
   "metadata": {},
   "outputs": [
    {
     "name": "stdout",
     "output_type": "stream",
     "text": [
      "Precisión en train: 100.0%\n"
     ]
    }
   ],
   "source": [
    "# Entrenamos el modelo\n",
    "svc.fit(X, y.ravel())\n",
    "# Obtenemos la precisión\n",
    "accTrain = svc.score(X, y)\n",
    "print(\"Precisión en train: {}%\".format(accTrain*100))"
   ]
  },
  {
   "cell_type": "code",
   "execution_count": 75,
   "id": "897fc92d",
   "metadata": {},
   "outputs": [
    {
     "name": "stdout",
     "output_type": "stream",
     "text": [
      "0.875\n"
     ]
    }
   ],
   "source": [
    "print(svc.score(Xtest, ytest))"
   ]
  },
  {
   "cell_type": "code",
   "execution_count": null,
   "id": "b1d076f6",
   "metadata": {},
   "outputs": [],
   "source": []
  }
 ],
 "metadata": {
  "kernelspec": {
   "display_name": "Python [conda env:py38ml] *",
   "language": "python",
   "name": "conda-env-py38ml-py"
  },
  "language_info": {
   "codemirror_mode": {
    "name": "ipython",
    "version": 3
   },
   "file_extension": ".py",
   "mimetype": "text/x-python",
   "name": "python",
   "nbconvert_exporter": "python",
   "pygments_lexer": "ipython3",
   "version": "3.8.10"
  }
 },
 "nbformat": 4,
 "nbformat_minor": 5
}
