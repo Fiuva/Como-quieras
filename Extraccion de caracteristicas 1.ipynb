{
 "cells": [
  {
   "cell_type": "code",
   "execution_count": 8,
   "id": "ef323476",
   "metadata": {},
   "outputs": [],
   "source": [
    "import numpy as np\n",
    "import cv2\n",
    "from tqdm import tqdm\n",
    "from sklearn.model_selection import train_test_split\n",
    "import matplotlib.pyplot as plt "
   ]
  },
  {
   "cell_type": "code",
   "execution_count": 25,
   "id": "531d17e0",
   "metadata": {
    "collapsed": true
   },
   "outputs": [
    {
     "name": "stdout",
     "output_type": "stream",
     "text": [
      "Collecting tensorflow\n",
      "  Downloading tensorflow-2.11.0-cp38-cp38-win_amd64.whl (1.9 kB)\n",
      "Collecting tensorflow-intel==2.11.0\n",
      "  Downloading tensorflow_intel-2.11.0-cp38-cp38-win_amd64.whl (266.3 MB)\n",
      "Requirement already satisfied: typing-extensions>=3.6.6 in c:\\users\\alumno\\.conda\\envs\\py38ml\\lib\\site-packages (from tensorflow-intel==2.11.0->tensorflow) (4.3.0)\n",
      "Collecting flatbuffers>=2.0\n",
      "  Downloading flatbuffers-22.12.6-py2.py3-none-any.whl (26 kB)\n",
      "Requirement already satisfied: packaging in c:\\users\\alumno\\.conda\\envs\\py38ml\\lib\\site-packages (from tensorflow-intel==2.11.0->tensorflow) (21.3)\n",
      "Requirement already satisfied: six>=1.12.0 in c:\\users\\alumno\\.conda\\envs\\py38ml\\lib\\site-packages (from tensorflow-intel==2.11.0->tensorflow) (1.16.0)\n",
      "Collecting astunparse>=1.6.0\n",
      "  Downloading astunparse-1.6.3-py2.py3-none-any.whl (12 kB)\n",
      "Collecting tensorflow-io-gcs-filesystem>=0.23.1\n",
      "  Downloading tensorflow_io_gcs_filesystem-0.28.0-cp38-cp38-win_amd64.whl (1.5 MB)\n",
      "Collecting wrapt>=1.11.0\n",
      "  Downloading wrapt-1.14.1-cp38-cp38-win_amd64.whl (35 kB)\n",
      "Collecting opt-einsum>=2.3.2\n",
      "  Downloading opt_einsum-3.3.0-py3-none-any.whl (65 kB)\n",
      "Requirement already satisfied: setuptools in c:\\users\\alumno\\.conda\\envs\\py38ml\\lib\\site-packages (from tensorflow-intel==2.11.0->tensorflow) (59.8.0)\n",
      "Collecting keras<2.12,>=2.11.0\n",
      "  Downloading keras-2.11.0-py2.py3-none-any.whl (1.7 MB)\n",
      "Collecting tensorboard<2.12,>=2.11\n",
      "  Downloading tensorboard-2.11.0-py3-none-any.whl (6.0 MB)\n",
      "Collecting google-pasta>=0.1.1\n",
      "  Downloading google_pasta-0.2.0-py3-none-any.whl (57 kB)\n",
      "Collecting grpcio<2.0,>=1.24.3\n",
      "  Downloading grpcio-1.51.1-cp38-cp38-win_amd64.whl (3.7 MB)\n",
      "Collecting h5py>=2.9.0\n",
      "  Downloading h5py-3.7.0-cp38-cp38-win_amd64.whl (2.6 MB)\n",
      "Collecting protobuf<3.20,>=3.9.2\n",
      "  Downloading protobuf-3.19.6-cp38-cp38-win_amd64.whl (896 kB)\n",
      "Collecting absl-py>=1.0.0\n",
      "  Downloading absl_py-1.3.0-py3-none-any.whl (124 kB)\n",
      "Collecting tensorflow-estimator<2.12,>=2.11.0\n",
      "  Downloading tensorflow_estimator-2.11.0-py2.py3-none-any.whl (439 kB)\n",
      "Requirement already satisfied: numpy>=1.20 in c:\\users\\alumno\\.conda\\envs\\py38ml\\lib\\site-packages (from tensorflow-intel==2.11.0->tensorflow) (1.21.1)\n",
      "Collecting libclang>=13.0.0\n",
      "  Downloading libclang-14.0.6-py2.py3-none-win_amd64.whl (14.2 MB)\n",
      "Collecting gast<=0.4.0,>=0.2.1\n",
      "  Downloading gast-0.4.0-py3-none-any.whl (9.8 kB)\n",
      "Collecting termcolor>=1.1.0\n",
      "  Downloading termcolor-2.1.1-py3-none-any.whl (6.2 kB)\n",
      "Requirement already satisfied: wheel<1.0,>=0.23.0 in c:\\users\\alumno\\.conda\\envs\\py38ml\\lib\\site-packages (from astunparse>=1.6.0->tensorflow-intel==2.11.0->tensorflow) (0.37.1)\n",
      "Collecting tensorboard-data-server<0.7.0,>=0.6.0\n",
      "  Downloading tensorboard_data_server-0.6.1-py3-none-any.whl (2.4 kB)\n",
      "Collecting google-auth<3,>=1.6.3\n",
      "  Downloading google_auth-2.15.0-py2.py3-none-any.whl (177 kB)\n",
      "Collecting markdown>=2.6.8\n",
      "  Downloading Markdown-3.4.1-py3-none-any.whl (93 kB)\n",
      "Collecting tensorboard-plugin-wit>=1.6.0\n",
      "  Downloading tensorboard_plugin_wit-1.8.1-py3-none-any.whl (781 kB)\n",
      "Collecting werkzeug>=1.0.1\n",
      "  Downloading Werkzeug-2.2.2-py3-none-any.whl (232 kB)\n",
      "Collecting google-auth-oauthlib<0.5,>=0.4.1\n",
      "  Downloading google_auth_oauthlib-0.4.6-py2.py3-none-any.whl (18 kB)\n",
      "Requirement already satisfied: requests<3,>=2.21.0 in c:\\users\\alumno\\.conda\\envs\\py38ml\\lib\\site-packages (from tensorboard<2.12,>=2.11->tensorflow-intel==2.11.0->tensorflow) (2.28.1)\n",
      "Collecting pyasn1-modules>=0.2.1\n",
      "  Downloading pyasn1_modules-0.2.8-py2.py3-none-any.whl (155 kB)\n",
      "Collecting rsa<5,>=3.1.4\n",
      "  Downloading rsa-4.9-py3-none-any.whl (34 kB)\n",
      "Collecting cachetools<6.0,>=2.0.0\n",
      "  Downloading cachetools-5.2.0-py3-none-any.whl (9.3 kB)\n",
      "Collecting requests-oauthlib>=0.7.0\n",
      "  Downloading requests_oauthlib-1.3.1-py2.py3-none-any.whl (23 kB)\n",
      "Requirement already satisfied: importlib-metadata>=4.4 in c:\\users\\alumno\\.conda\\envs\\py38ml\\lib\\site-packages (from markdown>=2.6.8->tensorboard<2.12,>=2.11->tensorflow-intel==2.11.0->tensorflow) (4.11.4)\n",
      "Requirement already satisfied: zipp>=0.5 in c:\\users\\alumno\\.conda\\envs\\py38ml\\lib\\site-packages (from importlib-metadata>=4.4->markdown>=2.6.8->tensorboard<2.12,>=2.11->tensorflow-intel==2.11.0->tensorflow) (3.8.1)\n",
      "Collecting pyasn1<0.5.0,>=0.4.6\n",
      "  Downloading pyasn1-0.4.8-py2.py3-none-any.whl (77 kB)\n",
      "Requirement already satisfied: charset-normalizer<3,>=2 in c:\\users\\alumno\\.conda\\envs\\py38ml\\lib\\site-packages (from requests<3,>=2.21.0->tensorboard<2.12,>=2.11->tensorflow-intel==2.11.0->tensorflow) (2.1.1)\n",
      "Requirement already satisfied: urllib3<1.27,>=1.21.1 in c:\\users\\alumno\\.conda\\envs\\py38ml\\lib\\site-packages (from requests<3,>=2.21.0->tensorboard<2.12,>=2.11->tensorflow-intel==2.11.0->tensorflow) (1.26.11)\n",
      "Requirement already satisfied: idna<4,>=2.5 in c:\\users\\alumno\\.conda\\envs\\py38ml\\lib\\site-packages (from requests<3,>=2.21.0->tensorboard<2.12,>=2.11->tensorflow-intel==2.11.0->tensorflow) (3.4)\n",
      "Requirement already satisfied: certifi>=2017.4.17 in c:\\users\\alumno\\.conda\\envs\\py38ml\\lib\\site-packages (from requests<3,>=2.21.0->tensorboard<2.12,>=2.11->tensorflow-intel==2.11.0->tensorflow) (2022.9.14)\n",
      "Collecting oauthlib>=3.0.0\n",
      "  Downloading oauthlib-3.2.2-py3-none-any.whl (151 kB)\n",
      "Requirement already satisfied: MarkupSafe>=2.1.1 in c:\\users\\alumno\\.conda\\envs\\py38ml\\lib\\site-packages (from werkzeug>=1.0.1->tensorboard<2.12,>=2.11->tensorflow-intel==2.11.0->tensorflow) (2.1.1)\n",
      "Requirement already satisfied: pyparsing!=3.0.5,>=2.0.2 in c:\\users\\alumno\\.conda\\envs\\py38ml\\lib\\site-packages (from packaging->tensorflow-intel==2.11.0->tensorflow) (3.0.9)\n",
      "Installing collected packages: pyasn1, rsa, pyasn1-modules, oauthlib, cachetools, requests-oauthlib, google-auth, werkzeug, tensorboard-plugin-wit, tensorboard-data-server, protobuf, markdown, grpcio, google-auth-oauthlib, absl-py, wrapt, termcolor, tensorflow-io-gcs-filesystem, tensorflow-estimator, tensorboard, opt-einsum, libclang, keras, h5py, google-pasta, gast, flatbuffers, astunparse, tensorflow-intel, tensorflow\n",
      "Successfully installed absl-py-1.3.0 astunparse-1.6.3 cachetools-5.2.0 flatbuffers-22.12.6 gast-0.4.0 google-auth-2.15.0 google-auth-oauthlib-0.4.6 google-pasta-0.2.0 grpcio-1.51.1 h5py-3.7.0 keras-2.11.0 libclang-14.0.6 markdown-3.4.1 oauthlib-3.2.2 opt-einsum-3.3.0 protobuf-3.19.6 pyasn1-0.4.8 pyasn1-modules-0.2.8 requests-oauthlib-1.3.1 rsa-4.9 tensorboard-2.11.0 tensorboard-data-server-0.6.1 tensorboard-plugin-wit-1.8.1 tensorflow-2.11.0 tensorflow-estimator-2.11.0 tensorflow-intel-2.11.0 tensorflow-io-gcs-filesystem-0.28.0 termcolor-2.1.1 werkzeug-2.2.2 wrapt-1.14.1\n"
     ]
    }
   ],
   "source": [
    "!pip install tensorflow"
   ]
  },
  {
   "cell_type": "code",
   "execution_count": 61,
   "id": "5e7e4c1b",
   "metadata": {},
   "outputs": [],
   "source": [
    "rutaDogsTrain = 'cat_dog_100/train/dog'\n",
    "rutaDogsTest = 'cat_dog_100/test/dog'\n",
    "rutaCatsTrain = 'cat_dog_100/train/cat'\n",
    "rutaCatsTest = 'cat_dog_100/test/cat'\n",
    "\n",
    "tamanoMax = 128\n",
    "sizeVentana = 16\n",
    "tamanoMax = int(tamanoMax/sizeVentana)*sizeVentana"
   ]
  },
  {
   "cell_type": "code",
   "execution_count": 181,
   "id": "b2ae51af",
   "metadata": {},
   "outputs": [
    {
     "name": "stdout",
     "output_type": "stream",
     "text": [
      "1\n"
     ]
    }
   ],
   "source": [
    "array = np.array([1,1,1,0,0,0,0,0])\n",
    "print(np.sum(np.abs(np.diff(array))))\n"
   ]
  },
  {
   "cell_type": "code",
   "execution_count": 62,
   "id": "1648a6fc",
   "metadata": {},
   "outputs": [
    {
     "name": "stdout",
     "output_type": "stream",
     "text": [
      "cat_dog_100/train/dog/dog.10000.jpg\n"
     ]
    }
   ],
   "source": [
    "from os import walk\n",
    "\n",
    "dogTrain = []\n",
    "dogTest = []\n",
    "catTest = []\n",
    "catTrain = []\n",
    "for (dirpath, dirnames, filenames) in walk(rutaDogsTrain):\n",
    "    dogTrain.extend(filenames)\n",
    "    \n",
    "for (dirpath, dirnames, filenames) in walk(rutaDogsTest):\n",
    "    dogTest.extend(filenames)\n",
    "\n",
    "for (dirpath, dirnames, filenames) in walk(rutaCatsTest):\n",
    "    catTest.extend(filenames)\n",
    "\n",
    "for (dirpath, dirnames, filenames) in walk(rutaCatsTrain):\n",
    "    catTrain.extend(filenames)\n",
    "    \n",
    "print(f'{rutaDogsTrain}/{dogTrain[0]}')"
   ]
  },
  {
   "cell_type": "code",
   "execution_count": 63,
   "id": "d2c43bbf",
   "metadata": {},
   "outputs": [],
   "source": [
    "def recorta_imagen(imagen, n):\n",
    "    \"\"\"\n",
    "    Esta función recibe una imagen y un tamaño n y recorta la imagen de tal manera que el número final de filas/columnas \n",
    "    sea múltiplo de n. La funció debe recortar las filas de la derecha/abajo.\n",
    "    \"\"\"\n",
    "    size = np.min([int(imagen.shape[0]/n)*n, int(imagen.shape[1]/n)*n])\n",
    "    return imagen[:size, :size]\n",
    "\n",
    "def resize_image(imagen, sizeVentana, tamanoMax, recorta=False):\n",
    "    if(recorta): imagen = recorta_imagen(imagen, sizeVentana)\n",
    "    imagen2 = cv2.resize(imagen, [tamanoMax,tamanoMax])\n",
    "    return imagen2"
   ]
  },
  {
   "cell_type": "code",
   "execution_count": 64,
   "id": "33402471",
   "metadata": {},
   "outputs": [],
   "source": [
    "def ventana_a_decimal(ventana_binario):\n",
    "    binario = np.array([ventana_binario[0,0], ventana_binario[0,1], ventana_binario[0,2], ventana_binario[1,2], ventana_binario[2,2], ventana_binario[2,1], ventana_binario[2,0], ventana_binario[1,0]])\n",
    "#     anterior = binario[0]\n",
    "#     cont = 0\n",
    "#     for i in range(1, binario.shape[0]):\n",
    "#         if binario[i] == anterior:\n",
    "#             cont+=1\n",
    "#         else:\n",
    "#             cont = 0\n",
    "#         anterior = binario[i]\n",
    "#         if cont == 2:\n",
    "#             binario = 0\n",
    "#             break\n",
    "    return np.sum(binario * np.array([128, 64, 32, 16, 8, 4, 2, 1]))"
   ]
  },
  {
   "cell_type": "code",
   "execution_count": 65,
   "id": "80a70bea",
   "metadata": {},
   "outputs": [],
   "source": [
    "def transforma_bloque(celda):\n",
    "    celda_ampliada = cv2.copyMakeBorder(celda, 1, 1, 1, 1, cv2.BORDER_REPLICATE)\n",
    "    celda2 = np.empty(celda.shape)\n",
    "    for i in range(1, celda.shape[0]+1):\n",
    "        for j in range(1, celda.shape[1]+1):\n",
    "            ventana = celda_ampliada[i-1:i+2, j-1:j+2]\n",
    "            ventana2 = np.zeros(ventana.shape)\n",
    "            pixel_central = ventana[1,1]\n",
    "            ventana2[ventana>pixel_central] = 1\n",
    "            celda2[i-1,j-1] = ventana_a_decimal(ventana2)\n",
    "    return celda2"
   ]
  },
  {
   "cell_type": "code",
   "execution_count": 66,
   "id": "f3ddf927",
   "metadata": {},
   "outputs": [],
   "source": [
    "def transforma_imagen(imagen, sizeVentana, tamanoMax):\n",
    "    imagen = resize_image(imagen, sizeVentana, tamanoMax, False)\n",
    "    caracteristicas = []\n",
    "    a = int(imagen.shape[0]/sizeVentana)\n",
    "    for i in range(a):\n",
    "        for j in range(a):\n",
    "            celda = imagen[i*sizeVentana:(i+1)*sizeVentana,j*sizeVentana:(j+1)*sizeVentana]\n",
    "            nueva_celda = transforma_bloque(celda)\n",
    "            caracteristicas.append(cv2.calcHist([np.uint8(nueva_celda)], [0], None, [256], [0, 256]).ravel())\n",
    "    return np.concatenate(caracteristicas)"
   ]
  },
  {
   "cell_type": "code",
   "execution_count": 83,
   "id": "9eb2a2f9",
   "metadata": {},
   "outputs": [
    {
     "name": "stdout",
     "output_type": "stream",
     "text": [
      "(49152,)\n"
     ]
    }
   ],
   "source": [
    "n = 2\n",
    "imagen = cv2.imread(f'{rutaDogsTrain}/{dogTrain[n]}')\n",
    "caracteristicasR = transforma_imagen(imagen[:,:, 0], sizeVentana, tamanoMax)\n",
    "caracteristicasG = transforma_imagen(imagen[:,:, 1], sizeVentana, tamanoMax)\n",
    "caracteristicasB = transforma_imagen(imagen[:,:, 2], sizeVentana, tamanoMax)\n",
    "caracteristicas = np.concatenate((caracteristicasR, caracteristicasG, caracteristicasB))\n",
    "print(caracteristicas.shape)"
   ]
  },
  {
   "cell_type": "code",
   "execution_count": 82,
   "id": "9e9d8e2f",
   "metadata": {},
   "outputs": [
    {
     "data": {
      "text/plain": [
       "(375, 499)"
      ]
     },
     "execution_count": 82,
     "metadata": {},
     "output_type": "execute_result"
    }
   ],
   "source": [
    "imagen = cv2.imread(f'{rutaDogsTrain}/{dogTrain[n]}')\n",
    "imagen[:,:, 1].shape"
   ]
  },
  {
   "cell_type": "code",
   "execution_count": 114,
   "id": "d290328e",
   "metadata": {},
   "outputs": [
    {
     "name": "stderr",
     "output_type": "stream",
     "text": [
      "Perros: 100%|\u001b[38;2;255;136;248m████████████████████████████████████████████████████████████████████████\u001b[0m| 100/100 [01:52<00:00,  1.12s/it]\u001b[0m\n",
      "Gatos: 100%|\u001b[38;2;136;255;221m█████████████████████████████████████████████████████████████████████████\u001b[0m| 100/100 [01:51<00:00,  1.12s/it]\u001b[0m\n"
     ]
    }
   ],
   "source": [
    "X = []\n",
    "for i in tqdm(range(len(dogTrain)), desc = \"Perros\", colour = '#FF88F8'):\n",
    "    imagen = cv2.imread(f'{rutaDogsTrain}/{dogTrain[i]}')\n",
    "    #caracteristicas = transforma_imagen(imagen, sizeVentana, tamanoMax)\n",
    "    caracteristicasR = transforma_imagen(imagen[:,:, 0], sizeVentana, tamanoMax)\n",
    "    caracteristicasG = transforma_imagen(imagen[:,:, 1], sizeVentana, tamanoMax)\n",
    "    caracteristicasB = transforma_imagen(imagen[:,:, 2], sizeVentana, tamanoMax)\n",
    "    caracteristicas = np.vstack((caracteristicasR, caracteristicasG, caracteristicasB))\n",
    "    X.append(caracteristicas)\n",
    "\n",
    "for i in tqdm(range(len(catTrain)), desc = \"Gatos\", colour = '#88FFDD'):\n",
    "    imagen = cv2.imread(f'{rutaCatsTrain}/{catTrain[i]}')\n",
    "    #caracteristicas = transforma_imagen(imagen, sizeVentana, tamanoMax)\n",
    "    caracteristicasR = transforma_imagen(imagen[:,:, 0], sizeVentana, tamanoMax)\n",
    "    caracteristicasG = transforma_imagen(imagen[:,:, 1], sizeVentana, tamanoMax)\n",
    "    caracteristicasB = transforma_imagen(imagen[:,:, 2], sizeVentana, tamanoMax)\n",
    "    caracteristicas = np.vstack((caracteristicasR, caracteristicasG, caracteristicasB))\n",
    "    X.append(caracteristicas)\n",
    "    \n",
    "X = np.array(X)\n",
    "y = np.hstack((np.ones(len(dogTrain)), np.zeros(len(catTrain)))).reshape(-1, 1)\n"
   ]
  },
  {
   "cell_type": "code",
   "execution_count": 115,
   "id": "ae5212b2",
   "metadata": {},
   "outputs": [
    {
     "name": "stderr",
     "output_type": "stream",
     "text": [
      "Perros Test: 100%|\u001b[38;2;255;136;187m█████████████████████████████████████████████████████████████████████\u001b[0m| 20/20 [00:22<00:00,  1.11s/it]\u001b[0m\n",
      "Gatos Test: 100%|\u001b[38;2;136;255;224m██████████████████████████████████████████████████████████████████████\u001b[0m| 20/20 [00:22<00:00,  1.11s/it]\u001b[0m\n"
     ]
    }
   ],
   "source": [
    "Xtest = []\n",
    "for i in tqdm(range(len(dogTest)), desc = \"Perros Test\", colour = '#FF88BB'):\n",
    "    imagen = cv2.imread(f'{rutaDogsTest}/{dogTest[i]}')\n",
    "    #caracteristicas = transforma_imagen(imagen, sizeVentana, tamanoMax)\n",
    "    caracteristicasR = transforma_imagen(imagen[:,:, 0], sizeVentana, tamanoMax)\n",
    "    caracteristicasG = transforma_imagen(imagen[:,:, 1], sizeVentana, tamanoMax)\n",
    "    caracteristicasB = transforma_imagen(imagen[:,:, 2], sizeVentana, tamanoMax)\n",
    "    caracteristicas = np.vstack((caracteristicasR, caracteristicasG, caracteristicasB))\n",
    "    Xtest.append(caracteristicas)\n",
    "\n",
    "for i in tqdm(range(len(catTest)), desc = \"Gatos Test\", colour = '#88FFE0'):\n",
    "    imagen = cv2.imread(f'{rutaCatsTest}/{catTest[i]}')\n",
    "    #caracteristicas = transforma_imagen(imagen, sizeVentana, tamanoMax)\n",
    "    caracteristicasR = transforma_imagen(imagen[:,:, 0], sizeVentana, tamanoMax)\n",
    "    caracteristicasG = transforma_imagen(imagen[:,:, 1], sizeVentana, tamanoMax)\n",
    "    caracteristicasB = transforma_imagen(imagen[:,:, 2], sizeVentana, tamanoMax)\n",
    "    caracteristicas = np.vstack((caracteristicasR, caracteristicasG, caracteristicasB))\n",
    "    Xtest.append(caracteristicas)\n",
    "    \n",
    "Xtest = np.array(Xtest)\n",
    "ytest = np.hstack((np.ones(len(dogTest)), np.zeros(len(catTest)))).reshape(-1, 1)"
   ]
  },
  {
   "cell_type": "code",
   "execution_count": 116,
   "id": "0e8e92e3",
   "metadata": {},
   "outputs": [
    {
     "name": "stdout",
     "output_type": "stream",
     "text": [
      "(170, 3, 16384)\n"
     ]
    }
   ],
   "source": [
    "Xtrain, Xval, ytrain, yval = train_test_split(X, y, test_size = 0.15, random_state = 42)\n",
    "print(Xtrain.shape)"
   ]
  },
  {
   "cell_type": "code",
   "execution_count": 117,
   "id": "f4e23c34",
   "metadata": {},
   "outputs": [
    {
     "name": "stdout",
     "output_type": "stream",
     "text": [
      "[PhysicalDevice(name='/physical_device:CPU:0', device_type='CPU')]\n",
      "Número de GPUs disponibles:  0\n"
     ]
    }
   ],
   "source": [
    "import tensorflow as tf\n",
    "from tensorflow.keras.models import Sequential\n",
    "from tensorflow.keras.layers import Dense, Dropout, Flatten, Conv1D, MaxPooling1D, LSTM, TimeDistributed, GRU, SimpleRNN\n",
    "import tensorflow.keras as keras\n",
    "\n",
    "#Para ver si detecta la GPU (si no, hacer \"conda install -c conda-forge cudnn\" o algo así)\n",
    "print(tf.config.list_physical_devices())\n",
    "print(\"Número de GPUs disponibles: \", len(tf.config.experimental.list_physical_devices('GPU')))"
   ]
  },
  {
   "cell_type": "code",
   "execution_count": 151,
   "id": "37ba26b9",
   "metadata": {},
   "outputs": [
    {
     "name": "stdout",
     "output_type": "stream",
     "text": [
      "Model: \"sequential_8\"\n",
      "_________________________________________________________________\n",
      " Layer (type)                Output Shape              Param #   \n",
      "=================================================================\n",
      " conv1d_2 (Conv1D)           (None, 1, 64)             3145792   \n",
      "                                                                 \n",
      " max_pooling1d (MaxPooling1D  (None, 1, 64)            0         \n",
      " )                                                               \n",
      "                                                                 \n",
      " gru_2 (GRU)                 (None, 64)                24960     \n",
      "                                                                 \n",
      " dense_16 (Dense)            (None, 32)                2080      \n",
      "                                                                 \n",
      " dense_17 (Dense)            (None, 1)                 33        \n",
      "                                                                 \n",
      "=================================================================\n",
      "Total params: 3,172,865\n",
      "Trainable params: 3,172,865\n",
      "Non-trainable params: 0\n",
      "_________________________________________________________________\n"
     ]
    }
   ],
   "source": [
    "model = Sequential([\n",
    "    Conv1D(64, 3, input_shape = (3, 16384)),\n",
    "    MaxPooling1D(1),\n",
    "    GRU(64, kernel_regularizer = 'l2', dropout = 0.25),\n",
    "    Dense(32),\n",
    "    Dense(1, activation = 'sigmoid')\n",
    "])\n",
    "model.summary()\n"
   ]
  },
  {
   "cell_type": "code",
   "execution_count": 152,
   "id": "08e805d4",
   "metadata": {},
   "outputs": [],
   "source": [
    "model.compile(optimizer = keras.optimizers.Adamax(), loss = keras.losses.binary_crossentropy, metrics = ['acc'])"
   ]
  },
  {
   "cell_type": "code",
   "execution_count": 173,
   "id": "afd3a1c8",
   "metadata": {},
   "outputs": [
    {
     "name": "stdout",
     "output_type": "stream",
     "text": [
      "Epoch 1/32\n",
      "1/1 [==============================] - 1s 560ms/step - loss: 0.4365 - acc: 1.0000 - val_loss: 2.6090 - val_acc: 0.6333\n",
      "Epoch 2/32\n",
      "1/1 [==============================] - 0s 480ms/step - loss: 0.4346 - acc: 1.0000 - val_loss: 2.6024 - val_acc: 0.6333\n",
      "Epoch 3/32\n",
      "1/1 [==============================] - 0s 480ms/step - loss: 0.4339 - acc: 1.0000 - val_loss: 2.5900 - val_acc: 0.6333\n",
      "Epoch 4/32\n",
      "1/1 [==============================] - 0s 480ms/step - loss: 0.4334 - acc: 1.0000 - val_loss: 2.5761 - val_acc: 0.6333\n",
      "Epoch 5/32\n",
      "1/1 [==============================] - 0s 480ms/step - loss: 0.4338 - acc: 1.0000 - val_loss: 2.5624 - val_acc: 0.6333\n",
      "Epoch 6/32\n",
      "1/1 [==============================] - 0s 480ms/step - loss: 0.4325 - acc: 1.0000 - val_loss: 2.5589 - val_acc: 0.6333\n",
      "Epoch 7/32\n",
      "1/1 [==============================] - 0s 470ms/step - loss: 0.4304 - acc: 1.0000 - val_loss: 2.5581 - val_acc: 0.6333\n",
      "Epoch 8/32\n",
      "1/1 [==============================] - 1s 500ms/step - loss: 0.4291 - acc: 1.0000 - val_loss: 2.5657 - val_acc: 0.6333\n",
      "Epoch 9/32\n",
      "1/1 [==============================] - 0s 490ms/step - loss: 0.4292 - acc: 1.0000 - val_loss: 2.5745 - val_acc: 0.6333\n",
      "Epoch 10/32\n",
      "1/1 [==============================] - 1s 540ms/step - loss: 0.4281 - acc: 1.0000 - val_loss: 2.5814 - val_acc: 0.6333\n",
      "Epoch 11/32\n",
      "1/1 [==============================] - 0s 490ms/step - loss: 0.4266 - acc: 1.0000 - val_loss: 2.5858 - val_acc: 0.6333\n",
      "Epoch 12/32\n",
      "1/1 [==============================] - 0s 490ms/step - loss: 0.4258 - acc: 1.0000 - val_loss: 2.5900 - val_acc: 0.6333\n",
      "Epoch 13/32\n",
      "1/1 [==============================] - 0s 470ms/step - loss: 0.4261 - acc: 1.0000 - val_loss: 2.5983 - val_acc: 0.6333\n",
      "Epoch 14/32\n",
      "1/1 [==============================] - 1s 510ms/step - loss: 0.4243 - acc: 1.0000 - val_loss: 2.6100 - val_acc: 0.6333\n",
      "Epoch 15/32\n",
      "1/1 [==============================] - 1s 530ms/step - loss: 0.4242 - acc: 1.0000 - val_loss: 2.6234 - val_acc: 0.6333\n",
      "Epoch 16/32\n",
      "1/1 [==============================] - 1s 510ms/step - loss: 0.4226 - acc: 1.0000 - val_loss: 2.6358 - val_acc: 0.6333\n",
      "Epoch 17/32\n",
      "1/1 [==============================] - 0s 480ms/step - loss: 0.4212 - acc: 1.0000 - val_loss: 2.6487 - val_acc: 0.6333\n",
      "Epoch 18/32\n",
      "1/1 [==============================] - 1s 510ms/step - loss: 0.4201 - acc: 1.0000 - val_loss: 2.6604 - val_acc: 0.6333\n",
      "Epoch 19/32\n",
      "1/1 [==============================] - 0s 500ms/step - loss: 0.4199 - acc: 1.0000 - val_loss: 2.6705 - val_acc: 0.6333\n",
      "Epoch 20/32\n",
      "1/1 [==============================] - 0s 470ms/step - loss: 0.4190 - acc: 1.0000 - val_loss: 2.6795 - val_acc: 0.6333\n",
      "Epoch 21/32\n",
      "1/1 [==============================] - 1s 500ms/step - loss: 0.4166 - acc: 1.0000 - val_loss: 2.6876 - val_acc: 0.6333\n",
      "Epoch 22/32\n",
      "1/1 [==============================] - 1s 530ms/step - loss: 0.4168 - acc: 1.0000 - val_loss: 2.6947 - val_acc: 0.6333\n",
      "Epoch 23/32\n",
      "1/1 [==============================] - 1s 560ms/step - loss: 0.4166 - acc: 1.0000 - val_loss: 2.7003 - val_acc: 0.6333\n",
      "Epoch 24/32\n",
      "1/1 [==============================] - 1s 640ms/step - loss: 0.4155 - acc: 1.0000 - val_loss: 2.7099 - val_acc: 0.6333\n",
      "Epoch 25/32\n",
      "1/1 [==============================] - 1s 650ms/step - loss: 0.4140 - acc: 1.0000 - val_loss: 2.7180 - val_acc: 0.6333\n",
      "Epoch 26/32\n",
      "1/1 [==============================] - 1s 610ms/step - loss: 0.4142 - acc: 1.0000 - val_loss: 2.7235 - val_acc: 0.6333\n",
      "Epoch 27/32\n",
      "1/1 [==============================] - 1s 630ms/step - loss: 0.4128 - acc: 1.0000 - val_loss: 2.7277 - val_acc: 0.6333\n",
      "Epoch 28/32\n",
      "1/1 [==============================] - 1s 630ms/step - loss: 0.4113 - acc: 1.0000 - val_loss: 2.7344 - val_acc: 0.6333\n",
      "Epoch 29/32\n",
      "1/1 [==============================] - 1s 600ms/step - loss: 0.4111 - acc: 1.0000 - val_loss: 2.7405 - val_acc: 0.6333\n",
      "Epoch 30/32\n",
      "1/1 [==============================] - 1s 600ms/step - loss: 0.4107 - acc: 1.0000 - val_loss: 2.7437 - val_acc: 0.6333\n",
      "Epoch 31/32\n",
      "1/1 [==============================] - 1s 610ms/step - loss: 0.4084 - acc: 1.0000 - val_loss: 2.7469 - val_acc: 0.6333\n",
      "Epoch 32/32\n",
      "1/1 [==============================] - 1s 600ms/step - loss: 0.4084 - acc: 1.0000 - val_loss: 2.7508 - val_acc: 0.6333\n"
     ]
    }
   ],
   "source": [
    "historico = model.fit(\n",
    "    Xtrain, \n",
    "    ytrain, \n",
    "    batch_size = 1000, \n",
    "    epochs = 32,\n",
    "    validation_data= (Xval, yval)\n",
    ")"
   ]
  },
  {
   "cell_type": "code",
   "execution_count": 174,
   "id": "ccfaa0f9",
   "metadata": {},
   "outputs": [
    {
     "data": {
      "text/plain": [
       "[<matplotlib.lines.Line2D at 0x2084f6a6310>]"
      ]
     },
     "execution_count": 174,
     "metadata": {},
     "output_type": "execute_result"
    },
    {
     "data": {
      "image/png": "[encoded data removed]",
      "text/plain": [
       "<Figure size 640x480 with 1 Axes>"
      ]
     },
     "metadata": {},
     "output_type": "display_data"
    }
   ],
   "source": [
    "historial = historico.history\n",
    "plt.plot(historial['loss'])\n",
    "plt.plot(historial['val_loss'])"
   ]
  },
  {
   "cell_type": "code",
   "execution_count": 175,
   "id": "7385dabd",
   "metadata": {},
   "outputs": [
    {
     "data": {
      "text/plain": [
       "[<matplotlib.lines.Line2D at 0x2084f634790>]"
      ]
     },
     "execution_count": 175,
     "metadata": {},
     "output_type": "execute_result"
    },
    {
     "data": {
      "image/png": "[encoded data removed]",
      "text/plain": [
       "<Figure size 640x480 with 1 Axes>"
      ]
     },
     "metadata": {},
     "output_type": "display_data"
    }
   ],
   "source": [
    "plt.plot(historial['acc'])\n",
    "plt.plot(historial['val_acc'])"
   ]
  },
  {
   "cell_type": "code",
   "execution_count": 172,
   "id": "aaddcade",
   "metadata": {},
   "outputs": [
    {
     "name": "stdout",
     "output_type": "stream",
     "text": [
      "2/2 [==============================] - 0s 0s/step\n",
      "87.5%\n"
     ]
    }
   ],
   "source": [
    "prediccion = model.predict(Xtest)\n",
    "aciertos = np.sum(np.round(prediccion) == ytest)\n",
    "print(f'{aciertos/ytest.shape[0]*100 }%')"
   ]
  },
  {
   "cell_type": "code",
   "execution_count": 136,
   "id": "ce008384",
   "metadata": {},
   "outputs": [],
   "source": [
    "model.save('RGB_sin_modconv.h5')"
   ]
  },
  {
   "cell_type": "code",
   "execution_count": 21,
   "id": "83db18b9",
   "metadata": {},
   "outputs": [
    {
     "data": {
      "text/plain": [
       "SVC(kernel='linear', max_iter=10000)"
      ]
     },
     "execution_count": 21,
     "metadata": {},
     "output_type": "execute_result"
    }
   ],
   "source": [
    "# Importamos las SVMs\n",
    "from sklearn import svm\n",
    "# Creamos un clasificador SVM usando svm.SVC con kernel='linear', C=1.0 y máximo número de iteraciones = 1000\n",
    "svc = svm.SVC(kernel = 'linear', C = 1.0, max_iter = 10000)\n",
    "svc"
   ]
  },
  {
   "cell_type": "code",
   "execution_count": 113,
   "id": "9e78a5a5",
   "metadata": {},
   "outputs": [
    {
     "name": "stdout",
     "output_type": "stream",
     "text": [
      "Precisión en train: 100.0%\n",
      "87.5%\n"
     ]
    }
   ],
   "source": [
    "# Importamos las SVMs\n",
    "from sklearn import svm\n",
    "from sklearn.pipeline import make_pipeline\n",
    "from sklearn.preprocessing import StandardScaler\n",
    "# Creamos un clasificador SVM usando svm.SVC con kernel='linear', C=1.0 y máximo número de iteraciones = 1000\n",
    "clf = make_pipeline(StandardScaler(),  svm.SVC(kernel = 'linear', C = 1))\n",
    "\n",
    "# Entrenamos el modelo\n",
    "clf.fit(X, y.ravel())\n",
    "# Obtenemos la precisión\n",
    "accTrain = clf.score(X, y)\n",
    "print(\"Precisión en train: {}%\".format(accTrain*100))\n",
    "\n",
    "print(f\"{clf.score(Xtest, ytest)*100}%\")"
   ]
  },
  {
   "cell_type": "code",
   "execution_count": 96,
   "id": "523be3c3",
   "metadata": {},
   "outputs": [
    {
     "name": "stdout",
     "output_type": "stream",
     "text": [
      "Precisión en train: 100.0%\n"
     ]
    }
   ],
   "source": [
    "# Entrenamos el modelo\n",
    "svc.fit(X, y.ravel())\n",
    "# Obtenemos la precisión\n",
    "accTrain = svc.score(X, y)\n",
    "print(\"Precisión en train: {}%\".format(accTrain*100))"
   ]
  },
  {
   "cell_type": "code",
   "execution_count": 53,
   "id": "897fc92d",
   "metadata": {},
   "outputs": [
    {
     "name": "stdout",
     "output_type": "stream",
     "text": [
      "0.825\n"
     ]
    }
   ],
   "source": [
    "print(svc.score(Xtest, ytest))"
   ]
  },
  {
   "cell_type": "code",
   "execution_count": null,
   "id": "b1d076f6",
   "metadata": {},
   "outputs": [],
   "source": []
  }
 ],
 "metadata": {
  "kernelspec": {
   "display_name": "Python [conda env:.conda-py38ml] *",
   "language": "python",
   "name": "conda-env-.conda-py38ml-py"
  },
  "language_info": {
   "codemirror_mode": {
    "name": "ipython",
    "version": 3
   },
   "file_extension": ".py",
   "mimetype": "text/x-python",
   "name": "python",
   "nbconvert_exporter": "python",
   "pygments_lexer": "ipython3",
   "version": "3.8.10"
  }
 },
 "nbformat": 4,
 "nbformat_minor": 5
}
