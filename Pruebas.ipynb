{
 "cells": [
  {
   "cell_type": "code",
   "execution_count": 49,
   "id": "ef323476",
   "metadata": {},
   "outputs": [],
   "source": [
    "import numpy as np\n",
    "import cv2\n",
    "from tqdm import tqdm\n",
    "from sklearn.model_selection import train_test_split\n",
    "import matplotlib.pyplot as plt "
   ]
  },
  {
   "cell_type": "code",
   "execution_count": 50,
   "id": "5e7e4c1b",
   "metadata": {},
   "outputs": [],
   "source": [
    "rutaDogsTrain = 'cat_dog_100/train/dog'\n",
    "rutaDogsTest = 'cat_dog_100/test/dog'\n",
    "rutaCatsTrain = 'cat_dog_100/train/cat'\n",
    "rutaCatsTest = 'cat_dog_100/test/cat'"
   ]
  },
  {
   "cell_type": "code",
   "execution_count": 51,
   "id": "1648a6fc",
   "metadata": {},
   "outputs": [],
   "source": [
    "from os import walk\n",
    "\n",
    "dogTrain = []\n",
    "dogTest = []\n",
    "catTest = []\n",
    "catTrain = []\n",
    "for (dirpath, dirnames, filenames) in walk(rutaDogs):\n",
    "    dogTrain.extend(filenames)\n",
    "    \n",
    "for (dirpath, dirnames, filenames) in walk(rutaDogsTest):\n",
    "    dogTest.extend(filenames)\n",
    "\n",
    "for (dirpath, dirnames, filenames) in walk(rutaCatsTest):\n",
    "    catTest.extend(filenames)\n",
    "\n",
    "for (dirpath, dirnames, filenames) in walk(rutaCatsTrain):\n",
    "    catTrain.extend(filenames)"
   ]
  },
  {
   "cell_type": "code",
   "execution_count": 52,
   "id": "3e380f5a",
   "metadata": {},
   "outputs": [
    {
     "name": "stdout",
     "output_type": "stream",
     "text": [
      "cat_dog_100/train/dog/dog.10000.jpg\n"
     ]
    }
   ],
   "source": [
    "print(f'{rutaDogs}/{dogTrain[0]}')"
   ]
  },
  {
   "cell_type": "code",
   "execution_count": 144,
   "id": "320e2080",
   "metadata": {},
   "outputs": [],
   "source": [
    "tamano = 500\n",
    "sizeVentana = 32\n",
    "tamano = int(tamano/sizeVentana)*sizeVentana"
   ]
  },
  {
   "cell_type": "code",
   "execution_count": 54,
   "id": "d2c43bbf",
   "metadata": {},
   "outputs": [],
   "source": [
    "def recorta_imagen(imagen, n):\n",
    "    \"\"\"\n",
    "    Esta función recibe una imagen y un tamaño n y recorta la imagen de tal manera que el número final de filas/columnas \n",
    "    sea múltiplo de n. La funció debe recortar las filas de la derecha/abajo.\n",
    "    \"\"\"\n",
    "    size = np.min([int(imagen.shape[0]/n)*n, int(imagen.shape[1]/n)*n])\n",
    "    return imagen[:size, :size]"
   ]
  },
  {
   "cell_type": "code",
   "execution_count": 55,
   "id": "3380b235",
   "metadata": {},
   "outputs": [],
   "source": [
    "def resize_image(imagen, sizeVentana, tamano, recorta=False):\n",
    "    if(recorta): imagen = recorta_imagen(imagen, sizeVentana)\n",
    "    imagen2 = cv2.resize(imagen, [tamano,tamano])\n",
    "    return imagen2"
   ]
  },
  {
   "cell_type": "code",
   "execution_count": 56,
   "id": "33402471",
   "metadata": {},
   "outputs": [],
   "source": [
    "def ventana_a_decimal(ventana_binario):\n",
    "    return ventana_binario[0,0]*2**7+ventana_binario[0,1]*2**6+ventana_binario[0,2]*2**5+ventana_binario[1,2]*2**4+ventana_binario[2,2]*2**3+ventana_binario[2,1]*2**2+ventana_binario[2,0]*2+ventana_binario[1,0]"
   ]
  },
  {
   "cell_type": "code",
   "execution_count": 57,
   "id": "80a70bea",
   "metadata": {},
   "outputs": [],
   "source": [
    "def transforma_bloque(celda):\n",
    "    celda_ampliada = cv2.copyMakeBorder(celda, 1, 1, 1, 1, cv2.BORDER_REPLICATE)\n",
    "    celda2 = np.empty(celda.shape)\n",
    "    for i in range(1, celda.shape[0]+1):\n",
    "        for j in range(1, celda.shape[1]+1):\n",
    "            ventana = celda_ampliada[i-1:i+2, j-1:j+2]\n",
    "            ventana2 = np.zeros(ventana.shape)\n",
    "            pixel_central = ventana[1,1]\n",
    "            ventana2[ventana>pixel_central] = 1\n",
    "            celda2[i-1,j-1] = ventana_a_decimal(ventana2)\n",
    "    return celda2"
   ]
  },
  {
   "cell_type": "code",
   "execution_count": 58,
   "id": "f3ddf927",
   "metadata": {},
   "outputs": [],
   "source": [
    "def transforma_imagen(imagen, sizeVentana, tamano):\n",
    "    imagen = resize_image(imagen, sizeVentana, tamano, True)\n",
    "    #imagen2 = np.zeros(imagen.shape)\n",
    "    caracteristicas = []\n",
    "    a = int(imagen.shape[0]/sizeVentana)\n",
    "    for i in range(a):\n",
    "        for j in range(a):\n",
    "            celda = imagen[i*sizeVentana:(i+1)*sizeVentana,j*sizeVentana:(j+1)*sizeVentana]\n",
    "            nueva_celda = transforma_bloque(celda)\n",
    "            #imagen2[i*sizeVentana:(i+1)*sizeVentana,j*sizeVentana:(j+1)*sizeVentana] = nueva_celda\n",
    "            caracteristicas.append(cv2.calcHist([np.uint8(nueva_celda)], [0], None, [256], [0, 256]).ravel())\n",
    "    return np.concatenate(caracteristicas)"
   ]
  },
  {
   "cell_type": "code",
   "execution_count": 59,
   "id": "9eb2a2f9",
   "metadata": {},
   "outputs": [
    {
     "name": "stdout",
     "output_type": "stream",
     "text": [
      "[37.  0.  5. ...  0.  0.  3.]\n",
      "(246016,)\n"
     ]
    }
   ],
   "source": [
    "n = 2\n",
    "imagen = cv2.imread(f'{rutaDogs}/{dogTrain[n]}',0)\n",
    "caracteristicas = transforma_imagen(imagen, sizeVentana, tamano)\n",
    "print(caracteristicas)\n",
    "print(caracteristicas.shape)\n",
    "cv2.imshow(f'{dogTrain[n]}', imagen)\n",
    "cv2.imshow(f'{dogTrain[n]}_transformada', np.uint8(imagen2))\n",
    "cv2.waitKey(0)\n",
    "cv2.destroyAllWindows()"
   ]
  },
  {
   "cell_type": "code",
   "execution_count": 145,
   "id": "03ed3b5a",
   "metadata": {},
   "outputs": [
    {
     "name": "stderr",
     "output_type": "stream",
     "text": [
      "Perros: 100%|\u001b[38;2;255;136;248m██████████\u001b[0m| 100/100 [03:07<00:00,  1.88s/it]\n",
      "Gatos: 100%|\u001b[38;2;136;255;221m██████████\u001b[0m| 100/100 [03:03<00:00,  1.83s/it]\n"
     ]
    }
   ],
   "source": [
    "X = []\n",
    "for i in tqdm(range(len(dogTrain)), desc = \"Perros\", colour = '#FF88F8'):\n",
    "    imagen = cv2.imread(f'{rutaDogsTrain}/{dogTrain[i]}',0)\n",
    "    caracteristicas = transforma_imagen(imagen, sizeVentana, tamano)\n",
    "    X.append(caracteristicas)\n",
    "\n",
    "for i in tqdm(range(len(catTrain)), desc = \"Gatos\", colour = '#88FFDD'):\n",
    "    imagen = cv2.imread(f'{rutaCatsTrain}/{catTrain[i]}',0)\n",
    "    caracteristicas = transforma_imagen(imagen, sizeVentana, tamano)\n",
    "    X.append(caracteristicas)\n",
    "    \n",
    "X = np.array(X)\n",
    "y = np.hstack((np.ones(len(dogTrain)), np.zeros(len(catTrain)))).reshape(-1, 1)\n"
   ]
  },
  {
   "cell_type": "code",
   "execution_count": 133,
   "id": "a786951f",
   "metadata": {},
   "outputs": [
    {
     "name": "stderr",
     "output_type": "stream",
     "text": [
      "Perros Test: 100%|\u001b[38;2;255;136;187m██████████\u001b[0m| 20/20 [00:02<00:00,  6.98it/s]\n",
      "Gatos Test: 100%|\u001b[38;2;136;255;224m██████████\u001b[0m| 20/20 [00:02<00:00,  7.35it/s]\n"
     ]
    }
   ],
   "source": [
    "Xtest = []\n",
    "for i in tqdm(range(len(dogTest)), desc = \"Perros Test\", colour = '#FF88BB'):\n",
    "    imagen = cv2.imread(f'{rutaDogsTest}/{dogTest[i]}',0)\n",
    "    caracteristicas = transforma_imagen(imagen, sizeVentana, tamano)\n",
    "    Xtest.append(caracteristicas)\n",
    "\n",
    "for i in tqdm(range(len(catTest)), desc = \"Gatos Test\", colour = '#88FFE0'):\n",
    "    imagen = cv2.imread(f'{rutaCatsTest}/{catTest[i]}',0)\n",
    "    caracteristicas = transforma_imagen(imagen, sizeVentana, tamano)\n",
    "    Xtest.append(caracteristicas)\n",
    "    \n",
    "Xtest = np.array(Xtest)\n",
    "ytest = np.hstack((np.ones(len(dogTest)), np.zeros(len(catTest)))).reshape(-1, 1)"
   ]
  },
  {
   "cell_type": "code",
   "execution_count": 136,
   "id": "eb819209",
   "metadata": {},
   "outputs": [
    {
     "name": "stdout",
     "output_type": "stream",
     "text": [
      "(170, 16384)\n"
     ]
    }
   ],
   "source": [
    "Xtrain, Xval, ytrain, yval = train_test_split(X, y, test_size = 0.15, random_state = 42)\n",
    "print(Xtrain.shape)"
   ]
  },
  {
   "cell_type": "code",
   "execution_count": 137,
   "id": "1ba76263",
   "metadata": {},
   "outputs": [
    {
     "name": "stdout",
     "output_type": "stream",
     "text": [
      "[PhysicalDevice(name='/physical_device:CPU:0', device_type='CPU'), PhysicalDevice(name='/physical_device:GPU:0', device_type='GPU')]\n",
      "Número de GPUs disponibles:  1\n"
     ]
    }
   ],
   "source": [
    "import tensorflow as tf\n",
    "from tensorflow.keras.models import Sequential\n",
    "from tensorflow.keras.layers import Dense, Dropout, Flatten, Conv1D, MaxPooling1D, LSTM, TimeDistributed, GRU, SimpleRNN\n",
    "import tensorflow.keras as keras\n",
    "\n",
    "#Para ver si detecta la GPU (si no, hacer \"conda install -c conda-forge cudnn\" o algo así)\n",
    "print(tf.config.list_physical_devices())\n",
    "print(\"Número de GPUs disponibles: \", len(tf.config.experimental.list_physical_devices('GPU')))"
   ]
  },
  {
   "cell_type": "code",
   "execution_count": 138,
   "id": "dfb72826",
   "metadata": {},
   "outputs": [
    {
     "name": "stdout",
     "output_type": "stream",
     "text": [
      "Model: \"sequential_13\"\n",
      "_________________________________________________________________\n",
      " Layer (type)                Output Shape              Param #   \n",
      "=================================================================\n",
      " dense_42 (Dense)            (None, 16)                262160    \n",
      "                                                                 \n",
      " dropout_15 (Dropout)        (None, 16)                0         \n",
      "                                                                 \n",
      " dense_43 (Dense)            (None, 8)                 136       \n",
      "                                                                 \n",
      " dropout_16 (Dropout)        (None, 8)                 0         \n",
      "                                                                 \n",
      " dense_44 (Dense)            (None, 4)                 36        \n",
      "                                                                 \n",
      " dropout_17 (Dropout)        (None, 4)                 0         \n",
      "                                                                 \n",
      " dense_45 (Dense)            (None, 1)                 5         \n",
      "                                                                 \n",
      "=================================================================\n",
      "Total params: 262,337\n",
      "Trainable params: 262,337\n",
      "Non-trainable params: 0\n",
      "_________________________________________________________________\n"
     ]
    }
   ],
   "source": [
    "model = Sequential([\n",
    "    Dense(16, input_shape = (16384, )),\n",
    "    Dropout(0.4),\n",
    "    Dense(8),\n",
    "    Dropout(0.4),\n",
    "    Dense(4),\n",
    "    Dropout(0.4),\n",
    "    Dense(1, activation = 'sigmoid')\n",
    "])\n",
    "model.summary()\n"
   ]
  },
  {
   "cell_type": "code",
   "execution_count": 139,
   "id": "301ad9d3",
   "metadata": {},
   "outputs": [],
   "source": [
    "model.compile(optimizer = keras.optimizers.Adam(), loss = keras.losses.binary_crossentropy, metrics = ['acc'])"
   ]
  },
  {
   "cell_type": "code",
   "execution_count": 140,
   "id": "4e07db5a",
   "metadata": {},
   "outputs": [
    {
     "name": "stdout",
     "output_type": "stream",
     "text": [
      "Epoch 1/128\n",
      "2/2 [==============================] - 1s 200ms/step - loss: 7.7423 - acc: 0.5471 - val_loss: 7.2523 - val_acc: 0.5333\n",
      "Epoch 2/128\n",
      "2/2 [==============================] - 0s 51ms/step - loss: 12.0667 - acc: 0.5412 - val_loss: 2.3328 - val_acc: 0.6333\n",
      "Epoch 3/128\n",
      "2/2 [==============================] - 0s 54ms/step - loss: 7.5951 - acc: 0.5824 - val_loss: 9.2079 - val_acc: 0.4667\n",
      "Epoch 4/128\n",
      "2/2 [==============================] - 0s 51ms/step - loss: 9.3920 - acc: 0.5706 - val_loss: 2.2250 - val_acc: 0.6333\n",
      "Epoch 5/128\n",
      "2/2 [==============================] - 0s 65ms/step - loss: 6.5123 - acc: 0.6294 - val_loss: 5.2278 - val_acc: 0.6333\n",
      "Epoch 6/128\n",
      "2/2 [==============================] - 0s 58ms/step - loss: 5.9010 - acc: 0.6176 - val_loss: 2.5481 - val_acc: 0.6333\n",
      "Epoch 7/128\n",
      "2/2 [==============================] - 0s 46ms/step - loss: 6.1007 - acc: 0.6353 - val_loss: 5.0249 - val_acc: 0.5333\n",
      "Epoch 8/128\n",
      "2/2 [==============================] - 0s 46ms/step - loss: 4.8699 - acc: 0.6353 - val_loss: 3.2456 - val_acc: 0.6667\n",
      "Epoch 9/128\n",
      "2/2 [==============================] - 0s 45ms/step - loss: 3.9833 - acc: 0.6882 - val_loss: 2.8535 - val_acc: 0.6000\n",
      "Epoch 10/128\n",
      "2/2 [==============================] - 0s 46ms/step - loss: 3.3503 - acc: 0.7059 - val_loss: 2.8221 - val_acc: 0.6000\n",
      "Epoch 11/128\n",
      "2/2 [==============================] - 0s 44ms/step - loss: 2.8649 - acc: 0.6471 - val_loss: 2.7207 - val_acc: 0.6667\n",
      "Epoch 12/128\n",
      "2/2 [==============================] - 0s 45ms/step - loss: 3.6806 - acc: 0.6706 - val_loss: 2.7730 - val_acc: 0.6667\n",
      "Epoch 13/128\n",
      "2/2 [==============================] - 0s 45ms/step - loss: 1.9064 - acc: 0.7353 - val_loss: 2.7479 - val_acc: 0.6333\n",
      "Epoch 14/128\n",
      "2/2 [==============================] - 0s 50ms/step - loss: 2.1337 - acc: 0.7294 - val_loss: 3.2370 - val_acc: 0.7000\n",
      "Epoch 15/128\n",
      "2/2 [==============================] - 0s 53ms/step - loss: 4.1426 - acc: 0.6059 - val_loss: 3.7385 - val_acc: 0.6333\n",
      "Epoch 16/128\n",
      "2/2 [==============================] - 0s 52ms/step - loss: 2.0490 - acc: 0.7353 - val_loss: 2.6200 - val_acc: 0.6667\n",
      "Epoch 17/128\n",
      "2/2 [==============================] - 0s 46ms/step - loss: 2.0562 - acc: 0.7588 - val_loss: 2.2033 - val_acc: 0.6667\n",
      "Epoch 18/128\n",
      "2/2 [==============================] - 0s 46ms/step - loss: 2.0674 - acc: 0.7294 - val_loss: 2.9510 - val_acc: 0.6333\n",
      "Epoch 19/128\n",
      "2/2 [==============================] - 0s 49ms/step - loss: 2.3822 - acc: 0.7000 - val_loss: 2.1517 - val_acc: 0.7333\n",
      "Epoch 20/128\n",
      "2/2 [==============================] - 0s 44ms/step - loss: 1.7956 - acc: 0.7529 - val_loss: 3.2550 - val_acc: 0.6667\n",
      "Epoch 21/128\n",
      "2/2 [==============================] - 0s 47ms/step - loss: 1.6249 - acc: 0.7706 - val_loss: 3.6579 - val_acc: 0.7000\n",
      "Epoch 22/128\n",
      "2/2 [==============================] - 0s 46ms/step - loss: 1.7462 - acc: 0.7824 - val_loss: 2.6952 - val_acc: 0.6333\n",
      "Epoch 23/128\n",
      "2/2 [==============================] - 0s 56ms/step - loss: 1.2447 - acc: 0.7824 - val_loss: 2.3578 - val_acc: 0.7000\n",
      "Epoch 24/128\n",
      "2/2 [==============================] - 0s 112ms/step - loss: 1.6204 - acc: 0.7471 - val_loss: 2.6789 - val_acc: 0.6333\n",
      "Epoch 25/128\n",
      "2/2 [==============================] - 0s 57ms/step - loss: 1.0341 - acc: 0.8118 - val_loss: 2.6340 - val_acc: 0.6333\n",
      "Epoch 26/128\n",
      "2/2 [==============================] - 0s 45ms/step - loss: 0.9324 - acc: 0.8176 - val_loss: 2.4890 - val_acc: 0.7333\n",
      "Epoch 27/128\n",
      "2/2 [==============================] - 0s 46ms/step - loss: 1.2288 - acc: 0.8294 - val_loss: 2.6841 - val_acc: 0.6667\n",
      "Epoch 28/128\n",
      "2/2 [==============================] - 0s 48ms/step - loss: 1.0148 - acc: 0.8235 - val_loss: 2.8182 - val_acc: 0.6667\n",
      "Epoch 29/128\n",
      "2/2 [==============================] - 0s 46ms/step - loss: 1.0349 - acc: 0.8118 - val_loss: 2.8122 - val_acc: 0.6667\n",
      "Epoch 30/128\n",
      "2/2 [==============================] - 0s 45ms/step - loss: 1.2364 - acc: 0.7941 - val_loss: 2.8433 - val_acc: 0.6667\n",
      "Epoch 31/128\n",
      "2/2 [==============================] - 0s 47ms/step - loss: 1.3724 - acc: 0.8294 - val_loss: 2.9823 - val_acc: 0.6667\n",
      "Epoch 32/128\n",
      "2/2 [==============================] - 0s 45ms/step - loss: 1.6290 - acc: 0.7882 - val_loss: 2.9966 - val_acc: 0.6667\n",
      "Epoch 33/128\n",
      "2/2 [==============================] - 0s 49ms/step - loss: 1.1862 - acc: 0.7765 - val_loss: 3.0154 - val_acc: 0.6667\n",
      "Epoch 34/128\n",
      "2/2 [==============================] - 0s 53ms/step - loss: 1.1146 - acc: 0.8059 - val_loss: 2.6461 - val_acc: 0.7333\n",
      "Epoch 35/128\n",
      "2/2 [==============================] - 0s 48ms/step - loss: 0.9521 - acc: 0.8353 - val_loss: 2.7462 - val_acc: 0.6333\n",
      "Epoch 36/128\n",
      "2/2 [==============================] - 0s 45ms/step - loss: 0.7230 - acc: 0.8529 - val_loss: 3.1538 - val_acc: 0.6000\n",
      "Epoch 37/128\n",
      "2/2 [==============================] - 0s 44ms/step - loss: 0.5102 - acc: 0.8647 - val_loss: 3.0326 - val_acc: 0.6000\n",
      "Epoch 38/128\n",
      "2/2 [==============================] - 0s 47ms/step - loss: 1.0434 - acc: 0.8176 - val_loss: 2.5656 - val_acc: 0.7333\n",
      "Epoch 39/128\n",
      "2/2 [==============================] - 0s 47ms/step - loss: 1.0084 - acc: 0.8294 - val_loss: 2.7968 - val_acc: 0.7000\n",
      "Epoch 40/128\n",
      "2/2 [==============================] - 0s 46ms/step - loss: 0.5576 - acc: 0.9000 - val_loss: 3.1376 - val_acc: 0.6333\n",
      "Epoch 41/128\n",
      "2/2 [==============================] - 0s 47ms/step - loss: 0.7067 - acc: 0.8824 - val_loss: 3.1446 - val_acc: 0.6333\n",
      "Epoch 42/128\n",
      "2/2 [==============================] - 0s 50ms/step - loss: 0.4736 - acc: 0.8588 - val_loss: 2.9172 - val_acc: 0.7000\n",
      "Epoch 43/128\n",
      "2/2 [==============================] - 0s 52ms/step - loss: 0.9285 - acc: 0.8412 - val_loss: 2.9299 - val_acc: 0.7000\n",
      "Epoch 44/128\n",
      "2/2 [==============================] - 0s 48ms/step - loss: 0.5887 - acc: 0.9000 - val_loss: 3.0718 - val_acc: 0.7000\n",
      "Epoch 45/128\n",
      "2/2 [==============================] - 0s 48ms/step - loss: 0.7846 - acc: 0.8647 - val_loss: 3.1628 - val_acc: 0.6333\n",
      "Epoch 46/128\n",
      "2/2 [==============================] - 0s 47ms/step - loss: 0.7776 - acc: 0.8588 - val_loss: 3.1143 - val_acc: 0.7000\n",
      "Epoch 47/128\n",
      "2/2 [==============================] - 0s 48ms/step - loss: 0.6114 - acc: 0.8765 - val_loss: 3.0332 - val_acc: 0.7000\n",
      "Epoch 48/128\n",
      "2/2 [==============================] - 0s 49ms/step - loss: 0.7490 - acc: 0.8118 - val_loss: 2.9751 - val_acc: 0.7000\n",
      "Epoch 49/128\n",
      "2/2 [==============================] - 0s 59ms/step - loss: 0.6095 - acc: 0.8765 - val_loss: 2.7989 - val_acc: 0.7000\n",
      "Epoch 50/128\n",
      "2/2 [==============================] - 0s 47ms/step - loss: 0.7928 - acc: 0.8529 - val_loss: 2.8499 - val_acc: 0.7000\n",
      "Epoch 51/128\n",
      "2/2 [==============================] - 0s 44ms/step - loss: 0.6554 - acc: 0.8412 - val_loss: 2.9649 - val_acc: 0.7000\n",
      "Epoch 52/128\n",
      "2/2 [==============================] - 0s 45ms/step - loss: 0.7095 - acc: 0.8235 - val_loss: 2.9687 - val_acc: 0.7000\n",
      "Epoch 53/128\n",
      "2/2 [==============================] - 0s 47ms/step - loss: 0.5900 - acc: 0.8588 - val_loss: 2.9177 - val_acc: 0.7000\n",
      "Epoch 54/128\n",
      "2/2 [==============================] - 0s 44ms/step - loss: 0.6224 - acc: 0.9000 - val_loss: 2.8894 - val_acc: 0.7000\n",
      "Epoch 55/128\n",
      "2/2 [==============================] - 0s 45ms/step - loss: 0.8087 - acc: 0.8176 - val_loss: 2.9085 - val_acc: 0.7000\n",
      "Epoch 56/128\n",
      "2/2 [==============================] - 0s 44ms/step - loss: 0.4812 - acc: 0.8529 - val_loss: 2.9231 - val_acc: 0.7000\n",
      "Epoch 57/128\n",
      "2/2 [==============================] - 0s 44ms/step - loss: 1.3738 - acc: 0.8059 - val_loss: 2.9041 - val_acc: 0.7000\n",
      "Epoch 58/128\n",
      "2/2 [==============================] - 0s 45ms/step - loss: 0.7752 - acc: 0.8059 - val_loss: 2.8954 - val_acc: 0.7000\n",
      "Epoch 59/128\n",
      "2/2 [==============================] - 0s 45ms/step - loss: 0.4427 - acc: 0.8471 - val_loss: 2.8773 - val_acc: 0.7333\n",
      "Epoch 60/128\n",
      "2/2 [==============================] - 0s 55ms/step - loss: 0.5402 - acc: 0.8941 - val_loss: 2.8853 - val_acc: 0.7333\n",
      "Epoch 61/128\n",
      "2/2 [==============================] - 0s 56ms/step - loss: 0.4037 - acc: 0.8941 - val_loss: 3.0317 - val_acc: 0.7000\n",
      "Epoch 62/128\n",
      "2/2 [==============================] - 0s 47ms/step - loss: 0.6306 - acc: 0.8941 - val_loss: 3.1785 - val_acc: 0.7000\n",
      "Epoch 63/128\n"
     ]
    },
    {
     "name": "stdout",
     "output_type": "stream",
     "text": [
      "2/2 [==============================] - 0s 53ms/step - loss: 0.5112 - acc: 0.8765 - val_loss: 3.3743 - val_acc: 0.6333\n",
      "Epoch 64/128\n",
      "2/2 [==============================] - 0s 50ms/step - loss: 0.3133 - acc: 0.8941 - val_loss: 3.3193 - val_acc: 0.7000\n",
      "Epoch 65/128\n",
      "2/2 [==============================] - 0s 49ms/step - loss: 0.7197 - acc: 0.8529 - val_loss: 3.2754 - val_acc: 0.7000\n",
      "Epoch 66/128\n",
      "2/2 [==============================] - 0s 44ms/step - loss: 1.0397 - acc: 0.8412 - val_loss: 3.6339 - val_acc: 0.6333\n",
      "Epoch 67/128\n",
      "2/2 [==============================] - 0s 43ms/step - loss: 0.4505 - acc: 0.8824 - val_loss: 3.6265 - val_acc: 0.6333\n",
      "Epoch 68/128\n",
      "2/2 [==============================] - 0s 43ms/step - loss: 0.5167 - acc: 0.8471 - val_loss: 3.4438 - val_acc: 0.7000\n",
      "Epoch 69/128\n",
      "2/2 [==============================] - 0s 47ms/step - loss: 0.7934 - acc: 0.8588 - val_loss: 3.1770 - val_acc: 0.7333\n",
      "Epoch 70/128\n",
      "2/2 [==============================] - 0s 50ms/step - loss: 0.5724 - acc: 0.8529 - val_loss: 3.2645 - val_acc: 0.6667\n",
      "Epoch 71/128\n",
      "2/2 [==============================] - 0s 52ms/step - loss: 0.7660 - acc: 0.8529 - val_loss: 3.2531 - val_acc: 0.6667\n",
      "Epoch 72/128\n",
      "2/2 [==============================] - 0s 49ms/step - loss: 0.6793 - acc: 0.8588 - val_loss: 3.2431 - val_acc: 0.7333\n",
      "Epoch 73/128\n",
      "2/2 [==============================] - 0s 43ms/step - loss: 0.5302 - acc: 0.8824 - val_loss: 3.3980 - val_acc: 0.7000\n",
      "Epoch 74/128\n",
      "2/2 [==============================] - 0s 46ms/step - loss: 0.8885 - acc: 0.7941 - val_loss: 3.3000 - val_acc: 0.7000\n",
      "Epoch 75/128\n",
      "2/2 [==============================] - 0s 42ms/step - loss: 0.8230 - acc: 0.8824 - val_loss: 3.2757 - val_acc: 0.7000\n",
      "Epoch 76/128\n",
      "2/2 [==============================] - 0s 49ms/step - loss: 0.3426 - acc: 0.8706 - val_loss: 3.5104 - val_acc: 0.6667\n",
      "Epoch 77/128\n",
      "2/2 [==============================] - 0s 41ms/step - loss: 0.3765 - acc: 0.9000 - val_loss: 3.5376 - val_acc: 0.6667\n",
      "Epoch 78/128\n",
      "2/2 [==============================] - 0s 59ms/step - loss: 0.8470 - acc: 0.8647 - val_loss: 3.4062 - val_acc: 0.7000\n",
      "Epoch 79/128\n",
      "2/2 [==============================] - 0s 71ms/step - loss: 0.4911 - acc: 0.8941 - val_loss: 3.6195 - val_acc: 0.7000\n",
      "Epoch 80/128\n",
      "2/2 [==============================] - 0s 51ms/step - loss: 0.4666 - acc: 0.8588 - val_loss: 4.0709 - val_acc: 0.6667\n",
      "Epoch 81/128\n",
      "2/2 [==============================] - 0s 48ms/step - loss: 0.7057 - acc: 0.8294 - val_loss: 4.8093 - val_acc: 0.6333\n",
      "Epoch 82/128\n",
      "2/2 [==============================] - 0s 48ms/step - loss: 0.4373 - acc: 0.8706 - val_loss: 4.8932 - val_acc: 0.6333\n",
      "Epoch 83/128\n",
      "2/2 [==============================] - 0s 56ms/step - loss: 0.2622 - acc: 0.9235 - val_loss: 4.7668 - val_acc: 0.6333\n",
      "Epoch 84/128\n",
      "2/2 [==============================] - 0s 55ms/step - loss: 0.4554 - acc: 0.9118 - val_loss: 4.5944 - val_acc: 0.6333\n",
      "Epoch 85/128\n",
      "2/2 [==============================] - 0s 53ms/step - loss: 0.5927 - acc: 0.8765 - val_loss: 4.7081 - val_acc: 0.6333\n",
      "Epoch 86/128\n",
      "2/2 [==============================] - 0s 52ms/step - loss: 0.4810 - acc: 0.9059 - val_loss: 4.7413 - val_acc: 0.6333\n",
      "Epoch 87/128\n",
      "2/2 [==============================] - 0s 59ms/step - loss: 0.4155 - acc: 0.8882 - val_loss: 4.5828 - val_acc: 0.6333\n",
      "Epoch 88/128\n",
      "2/2 [==============================] - 0s 49ms/step - loss: 0.8762 - acc: 0.8294 - val_loss: 3.8218 - val_acc: 0.7000\n",
      "Epoch 89/128\n",
      "2/2 [==============================] - 0s 47ms/step - loss: 0.7793 - acc: 0.8412 - val_loss: 3.6008 - val_acc: 0.7000\n",
      "Epoch 90/128\n",
      "2/2 [==============================] - 0s 48ms/step - loss: 0.6086 - acc: 0.8412 - val_loss: 3.8202 - val_acc: 0.6000\n",
      "Epoch 91/128\n",
      "2/2 [==============================] - 0s 48ms/step - loss: 0.5734 - acc: 0.8706 - val_loss: 3.6405 - val_acc: 0.6667\n",
      "Epoch 92/128\n",
      "2/2 [==============================] - 0s 49ms/step - loss: 0.8555 - acc: 0.8588 - val_loss: 3.7802 - val_acc: 0.7000\n",
      "Epoch 93/128\n",
      "2/2 [==============================] - 0s 48ms/step - loss: 0.3427 - acc: 0.9059 - val_loss: 4.6517 - val_acc: 0.6333\n",
      "Epoch 94/128\n",
      "2/2 [==============================] - 0s 47ms/step - loss: 0.3576 - acc: 0.8941 - val_loss: 5.8321 - val_acc: 0.6667\n",
      "Epoch 95/128\n",
      "2/2 [==============================] - 0s 50ms/step - loss: 0.5375 - acc: 0.8529 - val_loss: 6.6552 - val_acc: 0.6333\n",
      "Epoch 96/128\n",
      "2/2 [==============================] - 0s 59ms/step - loss: 0.8111 - acc: 0.8471 - val_loss: 4.7635 - val_acc: 0.6333\n",
      "Epoch 97/128\n",
      "2/2 [==============================] - 0s 55ms/step - loss: 0.7402 - acc: 0.9000 - val_loss: 3.6927 - val_acc: 0.7000\n",
      "Epoch 98/128\n",
      "2/2 [==============================] - 0s 53ms/step - loss: 0.2451 - acc: 0.9294 - val_loss: 5.1496 - val_acc: 0.6667\n",
      "Epoch 99/128\n",
      "2/2 [==============================] - 0s 49ms/step - loss: 0.2361 - acc: 0.9412 - val_loss: 6.6424 - val_acc: 0.6667\n",
      "Epoch 100/128\n",
      "2/2 [==============================] - 0s 46ms/step - loss: 1.0468 - acc: 0.8118 - val_loss: 4.4202 - val_acc: 0.6333\n",
      "Epoch 101/128\n",
      "2/2 [==============================] - 0s 49ms/step - loss: 0.5902 - acc: 0.8588 - val_loss: 4.8150 - val_acc: 0.6333\n",
      "Epoch 102/128\n",
      "2/2 [==============================] - 0s 47ms/step - loss: 0.2083 - acc: 0.9176 - val_loss: 8.6617 - val_acc: 0.5667\n",
      "Epoch 103/128\n",
      "2/2 [==============================] - 0s 51ms/step - loss: 0.8369 - acc: 0.8412 - val_loss: 9.5185 - val_acc: 0.5667\n",
      "Epoch 104/128\n",
      "2/2 [==============================] - 0s 49ms/step - loss: 0.8294 - acc: 0.8471 - val_loss: 6.4584 - val_acc: 0.6333\n",
      "Epoch 105/128\n",
      "2/2 [==============================] - 0s 51ms/step - loss: 0.3567 - acc: 0.8824 - val_loss: 4.4298 - val_acc: 0.7000\n",
      "Epoch 106/128\n",
      "2/2 [==============================] - 0s 48ms/step - loss: 0.1711 - acc: 0.9294 - val_loss: 4.8530 - val_acc: 0.6333\n",
      "Epoch 107/128\n",
      "2/2 [==============================] - 0s 50ms/step - loss: 0.2905 - acc: 0.9294 - val_loss: 6.2859 - val_acc: 0.6667\n",
      "Epoch 108/128\n",
      "2/2 [==============================] - 0s 52ms/step - loss: 0.4499 - acc: 0.9176 - val_loss: 7.2175 - val_acc: 0.6667\n",
      "Epoch 109/128\n",
      "2/2 [==============================] - 0s 50ms/step - loss: 0.5197 - acc: 0.9000 - val_loss: 6.0261 - val_acc: 0.6667\n",
      "Epoch 110/128\n",
      "2/2 [==============================] - 0s 50ms/step - loss: 0.3476 - acc: 0.8824 - val_loss: 4.5078 - val_acc: 0.6667\n",
      "Epoch 111/128\n",
      "2/2 [==============================] - 0s 53ms/step - loss: 0.2936 - acc: 0.9235 - val_loss: 4.8821 - val_acc: 0.7000\n",
      "Epoch 112/128\n",
      "2/2 [==============================] - 0s 52ms/step - loss: 0.4396 - acc: 0.9118 - val_loss: 6.3468 - val_acc: 0.6333\n",
      "Epoch 113/128\n",
      "2/2 [==============================] - 0s 65ms/step - loss: 0.4054 - acc: 0.9176 - val_loss: 7.4690 - val_acc: 0.6667\n",
      "Epoch 114/128\n",
      "2/2 [==============================] - 0s 62ms/step - loss: 0.5337 - acc: 0.8765 - val_loss: 6.6701 - val_acc: 0.6333\n",
      "Epoch 115/128\n",
      "2/2 [==============================] - 0s 59ms/step - loss: 0.4214 - acc: 0.9118 - val_loss: 5.5876 - val_acc: 0.6333\n",
      "Epoch 116/128\n",
      "2/2 [==============================] - 0s 52ms/step - loss: 0.4889 - acc: 0.9000 - val_loss: 4.5748 - val_acc: 0.6667\n",
      "Epoch 117/128\n",
      "2/2 [==============================] - 0s 49ms/step - loss: 0.3242 - acc: 0.8824 - val_loss: 4.7367 - val_acc: 0.6667\n",
      "Epoch 118/128\n",
      "2/2 [==============================] - 0s 47ms/step - loss: 0.3335 - acc: 0.9059 - val_loss: 5.5944 - val_acc: 0.6333\n",
      "Epoch 119/128\n",
      "2/2 [==============================] - 0s 48ms/step - loss: 0.3244 - acc: 0.8941 - val_loss: 5.9734 - val_acc: 0.6333\n",
      "Epoch 120/128\n",
      "2/2 [==============================] - 0s 43ms/step - loss: 0.4716 - acc: 0.9294 - val_loss: 5.9967 - val_acc: 0.6333\n",
      "Epoch 121/128\n",
      "2/2 [==============================] - 0s 47ms/step - loss: 0.4570 - acc: 0.8941 - val_loss: 5.7135 - val_acc: 0.6333\n",
      "Epoch 122/128\n",
      "2/2 [==============================] - 0s 46ms/step - loss: 0.2901 - acc: 0.9353 - val_loss: 5.0857 - val_acc: 0.6000\n",
      "Epoch 123/128\n",
      "2/2 [==============================] - 0s 49ms/step - loss: 0.2566 - acc: 0.9529 - val_loss: 4.8303 - val_acc: 0.7000\n",
      "Epoch 124/128\n",
      "2/2 [==============================] - 0s 49ms/step - loss: 0.2358 - acc: 0.9118 - val_loss: 4.8098 - val_acc: 0.6667\n",
      "Epoch 125/128\n"
     ]
    },
    {
     "name": "stdout",
     "output_type": "stream",
     "text": [
      "2/2 [==============================] - 0s 52ms/step - loss: 0.1905 - acc: 0.9235 - val_loss: 4.8728 - val_acc: 0.6667\n",
      "Epoch 126/128\n",
      "2/2 [==============================] - 0s 47ms/step - loss: 0.1784 - acc: 0.9059 - val_loss: 4.9518 - val_acc: 0.6667\n",
      "Epoch 127/128\n",
      "2/2 [==============================] - 0s 49ms/step - loss: 0.2012 - acc: 0.9294 - val_loss: 5.0324 - val_acc: 0.6667\n",
      "Epoch 128/128\n",
      "2/2 [==============================] - 0s 46ms/step - loss: 0.2312 - acc: 0.9412 - val_loss: 5.1398 - val_acc: 0.6667\n"
     ]
    }
   ],
   "source": [
    "historico = model.fit(\n",
    "    Xtrain, \n",
    "    ytrain,\n",
    "    batch_size=100,\n",
    "    epochs = 128,\n",
    "    validation_data= (Xval, yval)\n",
    ")"
   ]
  },
  {
   "cell_type": "code",
   "execution_count": 141,
   "id": "931feedc",
   "metadata": {},
   "outputs": [
    {
     "data": {
      "text/plain": [
       "[<matplotlib.lines.Line2D at 0x1aec790e760>]"
      ]
     },
     "execution_count": 141,
     "metadata": {},
     "output_type": "execute_result"
    },
    {
     "data": {
      "image/png": "[encoded data removed]",
      "text/plain": [
       "<Figure size 640x480 with 1 Axes>"
      ]
     },
     "metadata": {},
     "output_type": "display_data"
    }
   ],
   "source": [
    "historial = historico.history\n",
    "plt.plot(historial['loss'])\n",
    "plt.plot(historial['val_loss'])"
   ]
  },
  {
   "cell_type": "code",
   "execution_count": 142,
   "id": "9a5e7a86",
   "metadata": {},
   "outputs": [
    {
     "data": {
      "text/plain": [
       "[<matplotlib.lines.Line2D at 0x1afe08c59a0>]"
      ]
     },
     "execution_count": 142,
     "metadata": {},
     "output_type": "execute_result"
    },
    {
     "data": {
      "image/png": "[encoded data removed]",
      "text/plain": [
       "<Figure size 640x480 with 1 Axes>"
      ]
     },
     "metadata": {},
     "output_type": "display_data"
    }
   ],
   "source": [
    "plt.plot(historial['acc'])\n",
    "plt.plot(historial['val_acc'])"
   ]
  },
  {
   "cell_type": "code",
   "execution_count": 143,
   "id": "9e15e2b1",
   "metadata": {},
   "outputs": [
    {
     "name": "stdout",
     "output_type": "stream",
     "text": [
      "2/2 [==============================] - 0s 3ms/step\n",
      "47.5%\n"
     ]
    }
   ],
   "source": [
    "prediccion = model.predict(Xtest)\n",
    "aciertos = np.sum(prediccion == ytest)\n",
    "print(f'{aciertos/ytest.shape[0]*100 }%')"
   ]
  },
  {
   "cell_type": "code",
   "execution_count": null,
   "id": "328d21d4",
   "metadata": {},
   "outputs": [],
   "source": []
  }
 ],
 "metadata": {
  "kernelspec": {
   "display_name": "Python [conda env:py38ml] *",
   "language": "python",
   "name": "conda-env-py38ml-py"
  },
  "language_info": {
   "codemirror_mode": {
    "name": "ipython",
    "version": 3
   },
   "file_extension": ".py",
   "mimetype": "text/x-python",
   "name": "python",
   "nbconvert_exporter": "python",
   "pygments_lexer": "ipython3",
   "version": "3.8.10"
  }
 },
 "nbformat": 4,
 "nbformat_minor": 5
}
