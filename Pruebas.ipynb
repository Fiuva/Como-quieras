{
 "cells": [
  {
   "cell_type": "code",
   "execution_count": 1,
   "id": "ef323476",
   "metadata": {},
   "outputs": [],
   "source": [
    "import numpy as np\n",
    "import cv2"
   ]
  },
  {
   "cell_type": "code",
   "execution_count": 6,
   "id": "5e7e4c1b",
   "metadata": {},
   "outputs": [],
   "source": [
    "rutaDogs = 'cat_dog_100/train/dog'\n"
   ]
  },
  {
   "cell_type": "code",
   "execution_count": 7,
   "id": "1648a6fc",
   "metadata": {},
   "outputs": [],
   "source": [
    "from os import walk\n",
    "\n",
    "dogTrain = []\n",
    "for (dirpath, dirnames, filenames) in walk(rutaDogs):\n",
    "    dogTrain.extend(filenames)\n",
    "    break\n"
   ]
  },
  {
   "cell_type": "code",
   "execution_count": 9,
   "id": "3e380f5a",
   "metadata": {},
   "outputs": [
    {
     "name": "stdout",
     "output_type": "stream",
     "text": [
      "cat_dog_100/train/dog/dog.10000.jpg\n"
     ]
    }
   ],
   "source": [
    "print(f'{rutaDogs}/{dogTrain[0]}')"
   ]
  },
  {
   "cell_type": "code",
   "execution_count": 109,
   "id": "320e2080",
   "metadata": {},
   "outputs": [],
   "source": [
    "tamano = 500\n",
    "sizeVentana = 16\n",
    "tamano = int(tamano/sizeVentana)*sizeVentana"
   ]
  },
  {
   "cell_type": "code",
   "execution_count": 101,
   "id": "34037aa6",
   "metadata": {},
   "outputs": [],
   "source": [
    "n = 9\n",
    "imagen = cv2.imread(f'{rutaDogs}/{dogTrain[n]}')\n",
    "imagen2 = resize_image(imagen, sizeVentana, tamano, True)\n",
    "cv2.imshow(f'{dogTrain[n]}a', imagen2)\n",
    "cv2.imshow(f'{dogTrain[n]}', imagen)\n",
    "cv2.waitKey(0)\n",
    "cv2.destroyAllWindows()"
   ]
  },
  {
   "cell_type": "code",
   "execution_count": 59,
   "id": "72d74de8",
   "metadata": {},
   "outputs": [],
   "source": [
    "cv2.resize??"
   ]
  },
  {
   "cell_type": "code",
   "execution_count": 75,
   "id": "d2c43bbf",
   "metadata": {},
   "outputs": [],
   "source": [
    "def recorta_imagen(imagen, n):\n",
    "    \"\"\"\n",
    "    Esta función recibe una imagen y un tamaño n y recorta la imagen de tal manera que el número final de filas/columnas \n",
    "    sea múltiplo de n. La funció debe recortar las filas de la derecha/abajo.\n",
    "    \"\"\"\n",
    "    size = np.min([int(imagen.shape[0]/n)*n, int(imagen.shape[1]/n)*n])\n",
    "    return imagen[:size, :size]"
   ]
  },
  {
   "cell_type": "code",
   "execution_count": 95,
   "id": "3380b235",
   "metadata": {},
   "outputs": [],
   "source": [
    "def resize_image(imagen, sizeVentana, tamano, recorta=False):\n",
    "    if(recorta): imagen = recorta_imagen(imagen, sizeVentana)\n",
    "    imagen2 = cv2.resize(imagen, [tamano,tamano])\n",
    "    return imagen2"
   ]
  },
  {
   "cell_type": "code",
   "execution_count": 38,
   "id": "33402471",
   "metadata": {},
   "outputs": [],
   "source": [
    "def ventana_a_decimal(ventana_binario):\n",
    "    return ventana_binario[0,0]*2**7+ventana_binario[0,1]*2**6+ventana_binario[0,2]*2**5+ventana_binario[1,2]*2**4+ventana_binario[2,2]*2**3+ventana_binario[2,1]*2**2+ventana_binario[2,0]*2+ventana_binario[1,0]"
   ]
  },
  {
   "cell_type": "code",
   "execution_count": 52,
   "id": "80a70bea",
   "metadata": {},
   "outputs": [],
   "source": [
    "def transforma_bloque(celda):\n",
    "    celda_ampliada = cv2.copyMakeBorder(celda, 1, 1, 1, 1, cv2.BORDER_REPLICATE)\n",
    "    celda2 = np.empty(celda.shape)\n",
    "    for i in range(1, celda.shape[0]+1):\n",
    "        for j in range(1, celda.shape[1]+1):\n",
    "            ventana = celda_ampliada[i-1:i+2, j-1:j+2]\n",
    "            ventana2 = np.zeros(ventana.shape)\n",
    "            pixel_central = ventana[1,1]\n",
    "            ventana2[ventana>pixel_central] = 1\n",
    "            celda2[i-1,j-1] = ventana_a_decimal(ventana2)\n",
    "    return celda2"
   ]
  },
  {
   "cell_type": "code",
   "execution_count": 106,
   "id": "f3ddf927",
   "metadata": {},
   "outputs": [],
   "source": [
    "def transforma_imagen(imagen, sizeVentana, tamano):\n",
    "    imagen = resize_image(imagen, sizeVentana, tamano, True)\n",
    "    imagen2 = np.zeros(imagen.shape)\n",
    "    a = int(imagen.shape[0]/sizeVentana)\n",
    "    for i in range(a):\n",
    "        for j in range(a):\n",
    "            celda = imagen[i*sizeVentana:(i+1)*sizeVentana,j*sizeVentana:(j+1)*sizeVentana]\n",
    "            imagen2[i*sizeVentana:(i+1)*sizeVentana,j*sizeVentana:(j+1)*sizeVentana] = transforma_bloque(celda)\n",
    "    return imagen2"
   ]
  },
  {
   "cell_type": "code",
   "execution_count": 110,
   "id": "9eb2a2f9",
   "metadata": {},
   "outputs": [],
   "source": [
    "n = 2\n",
    "imagen = cv2.imread(f'{rutaDogs}/{dogTrain[n]}')\n",
    "imagen2 = transforma_imagen(imagen, sizeVentana, tamano)\n",
    "cv2.imshow(f'{dogTrain[n]}', imagen)\n",
    "cv2.imshow(f'{dogTrain[n]}_transfrmada', np.uint8(imagen2))\n",
    "cv2.waitKey(0)\n",
    "cv2.destroyAllWindows()"
   ]
  },
  {
   "cell_type": "code",
   "execution_count": 58,
   "id": "57687bf6",
   "metadata": {},
   "outputs": [
    {
     "name": "stdout",
     "output_type": "stream",
     "text": [
      "[[ 1  2  3  4]\n",
      " [ 5  6  7  8]\n",
      " [ 9 10 11 12]]\n",
      "[[1 2 3 4]\n",
      " [5 6 7 8]]\n"
     ]
    }
   ],
   "source": [
    "array = np.array([[1,2,3,4],[5,6,7,8],[9,10,11,12]])\n",
    "print(array)\n",
    "print(recorta_imagen(array,2))"
   ]
  }
 ],
 "metadata": {
  "kernelspec": {
   "display_name": "Python [conda env:.conda-py38ml] *",
   "language": "python",
   "name": "conda-env-.conda-py38ml-py"
  },
  "language_info": {
   "codemirror_mode": {
    "name": "ipython",
    "version": 3
   },
   "file_extension": ".py",
   "mimetype": "text/x-python",
   "name": "python",
   "nbconvert_exporter": "python",
   "pygments_lexer": "ipython3",
   "version": "3.8.10"
  }
 },
 "nbformat": 4,
 "nbformat_minor": 5
}
