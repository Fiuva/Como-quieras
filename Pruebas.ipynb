{
 "cells": [
  {
   "cell_type": "code",
   "execution_count": 55,
   "id": "ef323476",
   "metadata": {},
   "outputs": [],
   "source": [
    "import numpy as np\n",
    "import cv2\n",
    "from tqdm import tqdm\n",
    "from sklearn.model_selection import train_test_split\n",
    "import matplotlib.pyplot as plt "
   ]
  },
  {
   "cell_type": "code",
   "execution_count": 41,
   "id": "5e7e4c1b",
   "metadata": {},
   "outputs": [],
   "source": [
    "rutaDogsTrain = 'cat_dog_100/train/dog'\n",
    "rutaDogsTest = 'cat_dog_100/test/dog'\n",
    "rutaCatsTrain = 'cat_dog_100/train/cat'\n",
    "rutaCatsTest = 'cat_dog_100/test/cat'"
   ]
  },
  {
   "cell_type": "code",
   "execution_count": 37,
   "id": "1648a6fc",
   "metadata": {},
   "outputs": [],
   "source": [
    "from os import walk\n",
    "\n",
    "dogTrain = []\n",
    "dogTest = []\n",
    "catTest = []\n",
    "catTrain = []\n",
    "for (dirpath, dirnames, filenames) in walk(rutaDogs):\n",
    "    dogTrain.extend(filenames)\n",
    "    \n",
    "for (dirpath, dirnames, filenames) in walk(rutaDogsTest):\n",
    "    dogTest.extend(filenames)\n",
    "\n",
    "for (dirpath, dirnames, filenames) in walk(rutaCatsTest):\n",
    "    catTest.extend(filenames)\n",
    "\n",
    "for (dirpath, dirnames, filenames) in walk(rutaCatsTrain):\n",
    "    catTrain.extend(filenames)"
   ]
  },
  {
   "cell_type": "code",
   "execution_count": 4,
   "id": "3e380f5a",
   "metadata": {},
   "outputs": [
    {
     "name": "stdout",
     "output_type": "stream",
     "text": [
      "cat_dog_100/train/dog/dog.10000.jpg\n"
     ]
    }
   ],
   "source": [
    "print(f'{rutaDogs}/{dogTrain[0]}')"
   ]
  },
  {
   "cell_type": "code",
   "execution_count": 5,
   "id": "320e2080",
   "metadata": {},
   "outputs": [],
   "source": [
    "tamano = 500\n",
    "sizeVentana = 16\n",
    "tamano = int(tamano/sizeVentana)*sizeVentana"
   ]
  },
  {
   "cell_type": "code",
   "execution_count": 7,
   "id": "d2c43bbf",
   "metadata": {},
   "outputs": [],
   "source": [
    "def recorta_imagen(imagen, n):\n",
    "    \"\"\"\n",
    "    Esta función recibe una imagen y un tamaño n y recorta la imagen de tal manera que el número final de filas/columnas \n",
    "    sea múltiplo de n. La funció debe recortar las filas de la derecha/abajo.\n",
    "    \"\"\"\n",
    "    size = np.min([int(imagen.shape[0]/n)*n, int(imagen.shape[1]/n)*n])\n",
    "    return imagen[:size, :size]"
   ]
  },
  {
   "cell_type": "code",
   "execution_count": 8,
   "id": "3380b235",
   "metadata": {},
   "outputs": [],
   "source": [
    "def resize_image(imagen, sizeVentana, tamano, recorta=False):\n",
    "    if(recorta): imagen = recorta_imagen(imagen, sizeVentana)\n",
    "    imagen2 = cv2.resize(imagen, [tamano,tamano])\n",
    "    return imagen2"
   ]
  },
  {
   "cell_type": "code",
   "execution_count": 9,
   "id": "33402471",
   "metadata": {},
   "outputs": [],
   "source": [
    "def ventana_a_decimal(ventana_binario):\n",
    "    return ventana_binario[0,0]*2**7+ventana_binario[0,1]*2**6+ventana_binario[0,2]*2**5+ventana_binario[1,2]*2**4+ventana_binario[2,2]*2**3+ventana_binario[2,1]*2**2+ventana_binario[2,0]*2+ventana_binario[1,0]"
   ]
  },
  {
   "cell_type": "code",
   "execution_count": 10,
   "id": "80a70bea",
   "metadata": {},
   "outputs": [],
   "source": [
    "def transforma_bloque(celda):\n",
    "    celda_ampliada = cv2.copyMakeBorder(celda, 1, 1, 1, 1, cv2.BORDER_REPLICATE)\n",
    "    celda2 = np.empty(celda.shape)\n",
    "    for i in range(1, celda.shape[0]+1):\n",
    "        for j in range(1, celda.shape[1]+1):\n",
    "            ventana = celda_ampliada[i-1:i+2, j-1:j+2]\n",
    "            ventana2 = np.zeros(ventana.shape)\n",
    "            pixel_central = ventana[1,1]\n",
    "            ventana2[ventana>pixel_central] = 1\n",
    "            celda2[i-1,j-1] = ventana_a_decimal(ventana2)\n",
    "    return celda2"
   ]
  },
  {
   "cell_type": "code",
   "execution_count": 31,
   "id": "f3ddf927",
   "metadata": {},
   "outputs": [],
   "source": [
    "def transforma_imagen(imagen, sizeVentana, tamano):\n",
    "    imagen = resize_image(imagen, sizeVentana, tamano, True)\n",
    "    #imagen2 = np.zeros(imagen.shape)\n",
    "    caracteristicas = []\n",
    "    a = int(imagen.shape[0]/sizeVentana)\n",
    "    for i in range(a):\n",
    "        for j in range(a):\n",
    "            celda = imagen[i*sizeVentana:(i+1)*sizeVentana,j*sizeVentana:(j+1)*sizeVentana]\n",
    "            nueva_celda = transforma_bloque(celda)\n",
    "            #imagen2[i*sizeVentana:(i+1)*sizeVentana,j*sizeVentana:(j+1)*sizeVentana] = nueva_celda\n",
    "            caracteristicas.append(cv2.calcHist([np.uint8(nueva_celda)], [0], None, [256], [0, 256]).ravel())\n",
    "    return np.concatenate(caracteristicas)"
   ]
  },
  {
   "cell_type": "code",
   "execution_count": 32,
   "id": "9eb2a2f9",
   "metadata": {},
   "outputs": [
    {
     "name": "stdout",
     "output_type": "stream",
     "text": [
      "[37.  0.  5. ...  0.  0.  3.]\n",
      "(246016,)\n"
     ]
    }
   ],
   "source": [
    "n = 2\n",
    "imagen = cv2.imread(f'{rutaDogs}/{dogTrain[n]}',0)\n",
    "caracteristicas = transforma_imagen(imagen, sizeVentana, tamano)\n",
    "print(caracteristicas)\n",
    "print(caracteristicas.shape)\n",
    "cv2.imshow(f'{dogTrain[n]}', imagen)\n",
    "cv2.imshow(f'{dogTrain[n]}_transformada', np.uint8(imagen2))\n",
    "cv2.waitKey(0)\n",
    "cv2.destroyAllWindows()"
   ]
  },
  {
   "cell_type": "code",
   "execution_count": 42,
   "id": "03ed3b5a",
   "metadata": {},
   "outputs": [
    {
     "name": "stderr",
     "output_type": "stream",
     "text": [
      "Perros: 100%|\u001b[38;2;255;136;248m████████████████████████████████████████████████████████████████████████\u001b[0m| 100/100 [04:09<00:00,  2.49s/it]\u001b[0m\n",
      "Gatos: 100%|\u001b[38;2;136;255;221m█████████████████████████████████████████████████████████████████████████\u001b[0m| 100/100 [04:09<00:00,  2.49s/it]\u001b[0m\n"
     ]
    }
   ],
   "source": [
    "X = []\n",
    "for i in tqdm(range(len(dogTrain)), desc = \"Perros\", colour = '#FF88F8'):\n",
    "    imagen = cv2.imread(f'{rutaDogsTrain}/{dogTrain[i]}',0)\n",
    "    caracteristicas = transforma_imagen(imagen, sizeVentana, tamano)\n",
    "    X.append(caracteristicas)\n",
    "\n",
    "for i in tqdm(range(len(catTrain)), desc = \"Gatos\", colour = '#88FFDD'):\n",
    "    imagen = cv2.imread(f'{rutaCatsTrain}/{catTrain[i]}',0)\n",
    "    caracteristicas = transforma_imagen(imagen, sizeVentana, tamano)\n",
    "    X.append(caracteristicas)\n",
    "    \n",
    "X = np.array(X)\n",
    "y = np.hstack((np.ones(len(dogTrain)), np.zeros(len(catTrain)))).reshape(-1, 1)\n"
   ]
  },
  {
   "cell_type": "code",
   "execution_count": 43,
   "id": "a786951f",
   "metadata": {},
   "outputs": [
    {
     "name": "stderr",
     "output_type": "stream",
     "text": [
      "Perros Test: 100%|\u001b[38;2;255;136;187m█████████████████████████████████████████████████████████████████████\u001b[0m| 20/20 [00:50<00:00,  2.50s/it]\u001b[0m\n",
      "Gatos Test: 100%|\u001b[38;2;136;255;224m██████████████████████████████████████████████████████████████████████\u001b[0m| 20/20 [00:49<00:00,  2.48s/it]\u001b[0m\n"
     ]
    }
   ],
   "source": [
    "Xtest = []\n",
    "for i in tqdm(range(len(dogTest)), desc = \"Perros Test\", colour = '#FF88BB'):\n",
    "    imagen = cv2.imread(f'{rutaDogsTest}/{dogTest[i]}',0)\n",
    "    caracteristicas = transforma_imagen(imagen, sizeVentana, tamano)\n",
    "    Xtest.append(caracteristicas)\n",
    "\n",
    "for i in tqdm(range(len(catTest)), desc = \"Gatos Test\", colour = '#88FFE0'):\n",
    "    imagen = cv2.imread(f'{rutaCatsTest}/{catTest[i]}',0)\n",
    "    caracteristicas = transforma_imagen(imagen, sizeVentana, tamano)\n",
    "    Xtest.append(caracteristicas)\n",
    "    \n",
    "Xtest = np.array(Xtest)\n",
    "ytest = np.hstack((np.ones(len(dogTest)), np.zeros(len(catTest)))).reshape(-1, 1)"
   ]
  },
  {
   "cell_type": "code",
   "execution_count": 45,
   "id": "eb819209",
   "metadata": {},
   "outputs": [
    {
     "name": "stdout",
     "output_type": "stream",
     "text": [
      "(170, 246016)\n"
     ]
    }
   ],
   "source": [
    "Xtrain, Xval, ytrain, yval = train_test_split(X, y, test_size = 0.15, random_state = 42)"
   ]
  },
  {
   "cell_type": "code",
   "execution_count": 49,
   "id": "1ba76263",
   "metadata": {},
   "outputs": [
    {
     "name": "stdout",
     "output_type": "stream",
     "text": [
      "[PhysicalDevice(name='/physical_device:CPU:0', device_type='CPU')]\n",
      "Número de GPUs disponibles:  0\n"
     ]
    }
   ],
   "source": [
    "import tensorflow as tf\n",
    "from tensorflow.keras.models import Sequential\n",
    "from tensorflow.keras.layers import Dense, Dropout, Flatten, Conv1D, MaxPooling1D, LSTM, TimeDistributed, GRU, SimpleRNN\n",
    "import tensorflow.keras as keras\n",
    "\n",
    "#Para ver si detecta la GPU (si no, hacer \"conda install -c conda-forge cudnn\" o algo así)\n",
    "print(tf.config.list_physical_devices())\n",
    "print(\"Número de GPUs disponibles: \", len(tf.config.experimental.list_physical_devices('GPU')))"
   ]
  },
  {
   "cell_type": "code",
   "execution_count": 51,
   "id": "dfb72826",
   "metadata": {},
   "outputs": [
    {
     "name": "stdout",
     "output_type": "stream",
     "text": [
      "Model: \"sequential_1\"\n",
      "_________________________________________________________________\n",
      " Layer (type)                Output Shape              Param #   \n",
      "=================================================================\n",
      " dense_2 (Dense)             (None, 64)                15745088  \n",
      "                                                                 \n",
      " dense_3 (Dense)             (None, 1)                 65        \n",
      "                                                                 \n",
      "=================================================================\n",
      "Total params: 15,745,153\n",
      "Trainable params: 15,745,153\n",
      "Non-trainable params: 0\n",
      "_________________________________________________________________\n"
     ]
    }
   ],
   "source": [
    "model = Sequential([\n",
    "    Dense(64, input_shape = (246016, )),\n",
    "    Dense(1, activation = 'sigmoid')\n",
    "])\n",
    "model.summary()\n"
   ]
  },
  {
   "cell_type": "code",
   "execution_count": 52,
   "id": "301ad9d3",
   "metadata": {},
   "outputs": [],
   "source": [
    "model.compile(optimizer = keras.optimizers.Adam(), loss = keras.losses.binary_crossentropy, metrics = ['acc'])"
   ]
  },
  {
   "cell_type": "code",
   "execution_count": 53,
   "id": "4e07db5a",
   "metadata": {},
   "outputs": [
    {
     "name": "stdout",
     "output_type": "stream",
     "text": [
      "Epoch 1/16\n",
      "6/6 [==============================] - 2s 190ms/step - loss: 669.7271 - acc: 0.4412 - val_loss: 704.2939 - val_acc: 0.4667\n",
      "Epoch 2/16\n",
      "6/6 [==============================] - 1s 147ms/step - loss: 269.0386 - acc: 0.6000 - val_loss: 377.9018 - val_acc: 0.5333\n",
      "Epoch 3/16\n",
      "6/6 [==============================] - 1s 143ms/step - loss: 161.8518 - acc: 0.6471 - val_loss: 273.5673 - val_acc: 0.5333\n",
      "Epoch 4/16\n",
      "6/6 [==============================] - 1s 144ms/step - loss: 56.3442 - acc: 0.8235 - val_loss: 178.3807 - val_acc: 0.6000\n",
      "Epoch 5/16\n",
      "6/6 [==============================] - 1s 143ms/step - loss: 44.0122 - acc: 0.8647 - val_loss: 143.5904 - val_acc: 0.6333\n",
      "Epoch 6/16\n",
      "6/6 [==============================] - 1s 146ms/step - loss: 12.2320 - acc: 0.9000 - val_loss: 59.9847 - val_acc: 0.7667\n",
      "Epoch 7/16\n",
      "6/6 [==============================] - 1s 145ms/step - loss: 1.5601 - acc: 0.9882 - val_loss: 141.3363 - val_acc: 0.6000\n",
      "Epoch 8/16\n",
      "6/6 [==============================] - 1s 146ms/step - loss: 3.3099 - acc: 0.9588 - val_loss: 59.7803 - val_acc: 0.7000\n",
      "Epoch 9/16\n",
      "6/6 [==============================] - 1s 146ms/step - loss: 0.0276 - acc: 0.9941 - val_loss: 107.2848 - val_acc: 0.7000\n",
      "Epoch 10/16\n",
      "6/6 [==============================] - 1s 148ms/step - loss: 0.4657 - acc: 0.9941 - val_loss: 69.6436 - val_acc: 0.7667\n",
      "Epoch 11/16\n",
      "6/6 [==============================] - 1s 148ms/step - loss: 0.0000e+00 - acc: 1.0000 - val_loss: 58.7912 - val_acc: 0.7333\n",
      "Epoch 12/16\n",
      "6/6 [==============================] - 1s 149ms/step - loss: 0.0000e+00 - acc: 1.0000 - val_loss: 58.9263 - val_acc: 0.7000\n",
      "Epoch 13/16\n",
      "6/6 [==============================] - 1s 150ms/step - loss: 0.0000e+00 - acc: 1.0000 - val_loss: 62.0719 - val_acc: 0.7000\n",
      "Epoch 14/16\n",
      "6/6 [==============================] - 1s 149ms/step - loss: 0.0000e+00 - acc: 1.0000 - val_loss: 63.8111 - val_acc: 0.7000\n",
      "Epoch 15/16\n",
      "6/6 [==============================] - 1s 145ms/step - loss: 0.0000e+00 - acc: 1.0000 - val_loss: 64.8763 - val_acc: 0.6667\n",
      "Epoch 16/16\n",
      "6/6 [==============================] - 1s 147ms/step - loss: 0.0000e+00 - acc: 1.0000 - val_loss: 65.5602 - val_acc: 0.6667\n"
     ]
    }
   ],
   "source": [
    "historico = model.fit(Xtrain, ytrain, validation_data= (Xval, yval), epochs = 16)"
   ]
  },
  {
   "cell_type": "code",
   "execution_count": 56,
   "id": "931feedc",
   "metadata": {},
   "outputs": [
    {
     "data": {
      "text/plain": [
       "[<matplotlib.lines.Line2D at 0x223810476d0>]"
      ]
     },
     "execution_count": 56,
     "metadata": {},
     "output_type": "execute_result"
    },
    {
     "data": {
      "image/png": "[encoded data removed]",
      "text/plain": [
       "<Figure size 640x480 with 1 Axes>"
      ]
     },
     "metadata": {},
     "output_type": "display_data"
    }
   ],
   "source": [
    "historial = historico.history\n",
    "plt.plot(historial['loss'])\n",
    "plt.plot(historial['val_loss'])"
   ]
  },
  {
   "cell_type": "code",
   "execution_count": 57,
   "id": "9a5e7a86",
   "metadata": {},
   "outputs": [
    {
     "data": {
      "text/plain": [
       "[<matplotlib.lines.Line2D at 0x223d9b41730>]"
      ]
     },
     "execution_count": 57,
     "metadata": {},
     "output_type": "execute_result"
    },
    {
     "data": {
      "image/png": "[encoded data removed]",
      "text/plain": [
       "<Figure size 640x480 with 1 Axes>"
      ]
     },
     "metadata": {},
     "output_type": "display_data"
    }
   ],
   "source": [
    "plt.plot(historial['acc'])\n",
    "plt.plot(historial['val_acc'])"
   ]
  },
  {
   "cell_type": "code",
   "execution_count": 65,
   "id": "9e15e2b1",
   "metadata": {},
   "outputs": [
    {
     "name": "stdout",
     "output_type": "stream",
     "text": [
      "2/2 [==============================] - 0s 7ms/step\n",
      "67.5%\n"
     ]
    }
   ],
   "source": [
    "prediccion = model.predict(Xtest)\n",
    "aciertos = np.sum(prediccion == ytest)\n",
    "print(f'{aciertos/ytest.shape[0]*100 }%')"
   ]
  },
  {
   "cell_type": "code",
   "execution_count": null,
   "id": "328d21d4",
   "metadata": {},
   "outputs": [],
   "source": []
  }
 ],
 "metadata": {
  "kernelspec": {
   "display_name": "Python [conda env:py38ml] *",
   "language": "python",
   "name": "conda-env-py38ml-py"
  },
  "language_info": {
   "codemirror_mode": {
    "name": "ipython",
    "version": 3
   },
   "file_extension": ".py",
   "mimetype": "text/x-python",
   "name": "python",
   "nbconvert_exporter": "python",
   "pygments_lexer": "ipython3",
   "version": "3.8.10"
  }
 },
 "nbformat": 4,
 "nbformat_minor": 5
}
